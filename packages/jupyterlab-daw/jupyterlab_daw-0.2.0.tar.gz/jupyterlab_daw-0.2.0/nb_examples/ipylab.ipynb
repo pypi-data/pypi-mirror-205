{
 "cells": [
  {
   "cell_type": "code",
   "execution_count": 8,
   "id": "da7a3575-e389-4160-944b-36c74bde9d72",
   "metadata": {
    "tags": []
   },
   "outputs": [],
   "source": [
    "import ipylab\n",
    "import ipywidgets"
   ]
  },
  {
   "cell_type": "code",
   "execution_count": 9,
   "id": "64316949-0684-4be9-8e84-a02a75ae41aa",
   "metadata": {
    "tags": []
   },
   "outputs": [],
   "source": [
    "app = ipylab.JupyterFrontEnd()"
   ]
  },
  {
   "cell_type": "code",
   "execution_count": 10,
   "id": "a1e88809-b055-406e-9d2c-88cf120f29e7",
   "metadata": {
    "tags": []
   },
   "outputs": [],
   "source": [
    "slider = ipywidgets.IntSlider()\n",
    "\n",
    "inline_panel = ipylab.Panel()\n",
    "inline_panel.children = [slider]\n",
    "inline_panel.layout = ipywidgets.Layout(overflow='hidden')\n"
   ]
  },
  {
   "cell_type": "code",
   "execution_count": 11,
   "id": "054b540d-7f84-4675-beef-4c45de61e52e",
   "metadata": {
    "tags": []
   },
   "outputs": [],
   "source": [
    "app.shell.add(inline_panel, 'top')"
   ]
  },
  {
   "cell_type": "code",
   "execution_count": 12,
   "id": "f365edb9-023d-424b-91dc-2c4dbcb3cc3f",
   "metadata": {
    "tags": []
   },
   "outputs": [],
   "source": [
    "inline_panel.close()"
   ]
  },
  {
   "cell_type": "code",
   "execution_count": null,
   "id": "59fa467a-7f21-40f6-a193-bc432fae6b09",
   "metadata": {},
   "outputs": [],
   "source": []
  }
 ],
 "metadata": {
  "kernelspec": {
   "display_name": "Python 3 (ipykernel)",
   "language": "python",
   "name": "python3"
  },
  "language_info": {
   "codemirror_mode": {
    "name": "ipython",
    "version": 3
   },
   "file_extension": ".py",
   "mimetype": "text/x-python",
   "name": "python",
   "nbconvert_exporter": "python",
   "pygments_lexer": "ipython3",
   "version": "3.11.0"
  }
 },
 "nbformat": 4,
 "nbformat_minor": 5
}
