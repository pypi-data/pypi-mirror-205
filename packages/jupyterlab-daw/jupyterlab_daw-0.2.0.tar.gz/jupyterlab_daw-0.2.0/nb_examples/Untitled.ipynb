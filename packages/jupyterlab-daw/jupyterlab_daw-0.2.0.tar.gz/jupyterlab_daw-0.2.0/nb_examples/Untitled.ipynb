{
 "cells": [
  {
   "cell_type": "code",
   "execution_count": 1,
   "id": "e7047b98-3e56-4e05-91c0-f5c200de07f1",
   "metadata": {
    "tags": []
   },
   "outputs": [],
   "source": [
    "import ipytone"
   ]
  },
  {
   "cell_type": "code",
   "execution_count": 2,
   "id": "b0c75ed5-8e84-4fdd-a0ac-858aeb3fd091",
   "metadata": {
    "tags": []
   },
   "outputs": [],
   "source": [
    "synth = ipytone.Synth().to_destination()"
   ]
  },
  {
   "cell_type": "code",
   "execution_count": 3,
   "id": "23632f31-b4ff-42b1-8c48-ac71d83665df",
   "metadata": {
    "tags": []
   },
   "outputs": [
    {
     "data": {
      "text/plain": [
       "Synth()"
      ]
     },
     "execution_count": 3,
     "metadata": {},
     "output_type": "execute_result"
    }
   ],
   "source": [
    "synth.trigger_attack_release(\"C4\", 1)"
   ]
  },
  {
   "cell_type": "code",
   "execution_count": 4,
   "id": "70e01734-648f-487c-ae68-efd5feeffd15",
   "metadata": {
    "tags": []
   },
   "outputs": [],
   "source": [
    "channel1 = ipytone.Channel(pan=-0.5, channel_count=1).to_destination()\n",
    "filtr = ipytone.Filter(frequency=100)\n",
    "synth = ipytone.MonoSynth(volume=-7).chain(filtr, channel1)\n",
    "\n",
    "channel2 = ipytone.Channel(pan=0.2, channel_count=2).to_destination()\n",
    "delay = ipytone.PingPongDelay(delay_time=\"16n\", feedback=0.2)\n",
    "perc_synth = ipytone.MembraneSynth(volume=-10).chain(delay, channel2)"
   ]
  },
  {
   "cell_type": "code",
   "execution_count": 5,
   "id": "a973c313-583d-4fa3-9f3a-b481f750b73a",
   "metadata": {
    "tags": []
   },
   "outputs": [],
   "source": [
    "lfo = ipytone.LFO(frequency=\"4m\", min=100, max=10_000)\n",
    "lfo.connect(filtr.frequency).start()\n",
    "\n",
    "lfo2 = ipytone.LFO(frequency=\"8n\", min=-200, max=200, type=\"triangle\")\n",
    "lfo2.connect(perc_synth.detune).start()\n",
    "\n",
    "perc_synth.pitch_decay = 0.02 \n",
    "delay.wet.value = 0.1\n",
    "lfo2.amplitude.value = 0.6"
   ]
  },
  {
   "cell_type": "code",
   "execution_count": 6,
   "id": "6f120e61-4636-4ba7-9812-98e4aab1f810",
   "metadata": {
    "tags": []
   },
   "outputs": [],
   "source": [
    "def clb(time, note):\n",
    "    synth.trigger_attack_release(note, 0.2, time=time)\n",
    "    perc_synth.trigger_attack_release(note, 0.05, time=time)\n",
    "\n",
    "sequence = ipytone.Sequence(\n",
    "    callback=clb,\n",
    "    events=[\"A0\", \"A1\", \"A0\", None, \"F#2\", \"G2\", \"G#2\", \"A2\"],\n",
    "    subdivision=\"16n\",\n",
    ")"
   ]
  },
  {
   "cell_type": "code",
   "execution_count": 15,
   "id": "c831be2c-86f7-49d3-bbe3-2139652b34fd",
   "metadata": {
    "tags": []
   },
   "outputs": [
    {
     "data": {
      "text/plain": [
       "Sequence(loop=True, loop_start=0.0, loop_end=0.0)"
      ]
     },
     "execution_count": 15,
     "metadata": {},
     "output_type": "execute_result"
    }
   ],
   "source": [
    "ipytone.transport.start()\n",
    "sequence.start()"
   ]
  },
  {
   "cell_type": "code",
   "execution_count": 16,
   "id": "cc5fb056-b3af-41fc-864f-bf68e8241421",
   "metadata": {
    "tags": []
   },
   "outputs": [
    {
     "data": {
      "text/plain": [
       "'8:2:2.312'"
      ]
     },
     "execution_count": 16,
     "metadata": {},
     "output_type": "execute_result"
    }
   ],
   "source": [
    "ipytone.transport.position"
   ]
  },
  {
   "cell_type": "code",
   "execution_count": 17,
   "id": "02191b46-1f0d-4891-b20c-b6ad3c61e6aa",
   "metadata": {
    "tags": []
   },
   "outputs": [
    {
     "data": {
      "text/plain": [
       "Transport()"
      ]
     },
     "execution_count": 17,
     "metadata": {},
     "output_type": "execute_result"
    }
   ],
   "source": [
    "ipytone.transport.pause()"
   ]
  },
  {
   "cell_type": "code",
   "execution_count": null,
   "id": "23d0cccf-d6b2-4240-b5e8-13ce2c0bddb5",
   "metadata": {
    "tags": []
   },
   "outputs": [],
   "source": [
    "channel1.pan.value=-1\n",
    "channel2.pan.value=-0.9"
   ]
  },
  {
   "cell_type": "code",
   "execution_count": null,
   "id": "7512e94e-20b0-441c-9b90-54d394e6be08",
   "metadata": {
    "tags": []
   },
   "outputs": [],
   "source": [
    "channel1.pan.value=1\n",
    "channel2.pan.value=0.9"
   ]
  },
  {
   "cell_type": "code",
   "execution_count": null,
   "id": "20a2c1ac-9539-4e07-9e31-adbc61e6bfa1",
   "metadata": {
    "tags": []
   },
   "outputs": [],
   "source": [
    "channel1.volume.value = -50\n",
    "channel2.volume.value = -5"
   ]
  },
  {
   "cell_type": "code",
   "execution_count": 18,
   "id": "baa91441-3fb4-48ad-8364-8c1e275fb19a",
   "metadata": {
    "tags": []
   },
   "outputs": [
    {
     "data": {
      "text/plain": [
       "Transport()"
      ]
     },
     "execution_count": 18,
     "metadata": {},
     "output_type": "execute_result"
    }
   ],
   "source": [
    "ipytone.transport.stop()"
   ]
  },
  {
   "cell_type": "code",
   "execution_count": null,
   "id": "4eceb163-59de-46a0-aa0c-e443a079c4b0",
   "metadata": {
    "tags": []
   },
   "outputs": [],
   "source": [
    "synth.dispose()\n",
    "filtr.dispose()\n",
    "lfo.dispose()\n",
    "lfo2.dispose()\n",
    "channel1.dispose()\n",
    "perc_synth.dispose()\n",
    "delay.dispose()\n",
    "channel2.dispose()\n",
    "\n",
    "sequence.dispose()"
   ]
  },
  {
   "cell_type": "code",
   "execution_count": null,
   "id": "04e8f4f3-91a2-4224-8dd4-6a9ef3264578",
   "metadata": {},
   "outputs": [],
   "source": []
  },
  {
   "cell_type": "code",
   "execution_count": null,
   "id": "cec849e9-e6f7-4fa6-83d4-aebf49619a9d",
   "metadata": {},
   "outputs": [],
   "source": []
  }
 ],
 "metadata": {
  "kernelspec": {
   "display_name": "Python 3 (ipykernel)",
   "language": "python",
   "name": "python3"
  },
  "language_info": {
   "codemirror_mode": {
    "name": "ipython",
    "version": 3
   },
   "file_extension": ".py",
   "mimetype": "text/x-python",
   "name": "python",
   "nbconvert_exporter": "python",
   "pygments_lexer": "ipython3",
   "version": "3.11.0"
  },
  "toc-showtags": false
 },
 "nbformat": 4,
 "nbformat_minor": 5
}
