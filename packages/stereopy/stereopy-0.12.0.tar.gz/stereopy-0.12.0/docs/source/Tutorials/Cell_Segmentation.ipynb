{
 "cells": [
  {
   "cell_type": "markdown",
   "id": "430ab62d",
   "metadata": {},
   "source": [
    "# Cell Segmentation"
   ]
  },
  {
   "cell_type": "markdown",
   "id": "ed2dd6ba",
   "metadata": {},
   "source": [
    "This part shows how to use the function of cell segmentation. We provide two models here, deep cell model and the deep learning model developed by ourselves.\n"
   ]
  },
  {
   "cell_type": "markdown",
   "id": "ea531119",
   "metadata": {},
   "source": [
    "<div class=\"alert alert-info\">\n",
    "\n",
    "**Preparation**\n",
    "\n",
    "Before **Cell Segmentation**, **Tissue Segmentation** or generating **mask file** from **ssDNA image** on **Cell Correction**, certain packages should be installed beforehand. **Cell Segmentation** version 3.0 don't need to install those python packages below see more details at **Deep Learning Model**.\n",
    "\n",
    "Install necessary packages by running commands as below:\n",
    "\n",
    "> &ensp;&ensp; **pip install tensorflow==2.7.0**  \n",
    "> &ensp;&ensp; **pip install torch==1.10.0**  \n",
    "> &ensp;&ensp; **pip install torchvision==0.11.1**  \n",
    "> &ensp;&ensp; **pip install albumentations==0.4.6**\n",
    "\n",
    "</div>"
   ]
  },
  {
   "attachments": {},
   "cell_type": "markdown",
   "id": "996b97da",
   "metadata": {},
   "source": [
    "## About Tissue Segmentation\n",
    "\n",
    "All processes of cell segmentation will perform tissue segmentation beforehand. You could specify the method by `tissue_seg_method` and the path to tissue segmentation model file by `tissue_seg_model_path`. We strongly recommend setting `tissue_seg_method=1` which is based on deep learning and is more effective, while 0 is based on OpenCV.\n",
    "\n",
    "Download the [**Tissue Segmentation Model**](https://pan.genomics.cn/ucdisk/s/ai22e2).\n",
    "\n",
    "More detail about [**Tissue Segmentation**](https://stereopy.readthedocs.io/en/latest/Tutorials/Tissue_Segmentation.html)."
   ]
  },
  {
   "cell_type": "markdown",
   "id": "a09a6f2b",
   "metadata": {},
   "source": [
    "##  Deep Learning Model"
   ]
  },
  {
   "attachments": {},
   "cell_type": "markdown",
   "id": "c7b785ea",
   "metadata": {},
   "source": [
    "In order to keep compatibility, we support two versions of `cell_seg` methods in `stereo.image` module."
   ]
  },
  {
   "cell_type": "markdown",
   "id": "3d70df83",
   "metadata": {},
   "source": [
    "### Deep Learning Model V3"
   ]
  },
  {
   "attachments": {},
   "cell_type": "markdown",
   "id": "b674926b",
   "metadata": {},
   "source": [
    "New V3 model is upload to our [**example_data/cell_segmetation**](https://pan.genomics.cn/ucdisk/s/BvIrye) named `cell_segmetation_v3.0.onnx`. V3 method don't need to install heavy packages like `tensorflow`, `pytorch`, you can just import `cell_seg_v3` from `stereo.image`, ignoring the warning."
   ]
  },
  {
   "attachments": {},
   "cell_type": "markdown",
   "id": "ba32a678",
   "metadata": {},
   "source": [
    "<div class=\"alert alert-info\">\n",
    "\n",
    "**Note**\n",
    "\n",
    "If you don't need to perform tissue segmentation, you can set the `need_tissue_cut` parameter to `False` in the `cell_seg_v3` function.\n",
    "\n",
    "</div>"
   ]
  },
  {
   "cell_type": "code",
   "execution_count": 2,
   "id": "6717a1a0",
   "metadata": {
    "ExecuteTime": {
     "end_time": "2023-04-27T04:25:04.762272Z",
     "start_time": "2023-04-27T02:18:34.268311Z"
    }
   },
   "outputs": [
    {
     "name": "stderr",
     "output_type": "stream",
     "text": [
      "[2023-04-27 10:18:35][Stereo][27531][MainThread][140689697720128][pipeline][64][INFO]: source image type: ssdna\n",
      "[2023-04-27 10:18:35][Stereo][27531][MainThread][140689697720128][pipeline][65][INFO]: segmentation method: intensity segmentation\n",
      "[2023-04-27 10:18:35][Stereo][27531][MainThread][140689697720128][pipeline][171][INFO]: image loading and preprocessing...\n",
      "[2023-04-27 10:18:35][Stereo][27531][MainThread][140689697720128][pipeline][200][INFO]: segment by intensity...\n",
      "[2023-04-27 10:18:46][Stereo][27531][MainThread][140689697720128][pipeline][167][INFO]: seg results saved in /ldfssz1/ST_BI/USER/stereopy/test/lyonlin/test_cell_seg\n",
      "100%|██████████| 124/124 [2:04:07<00:00, 60.06s/it] \n"
     ]
    }
   ],
   "source": [
    "from stereo import image as im\n",
    "\n",
    "model_path = './cell_segmetation_v3.0.onnx'\n",
    "img_path = './SS200000135TL_D1_regist.tif'\n",
    "out_path = './SS200000135TL_D1_regist.cell_cut.tif'\n",
    "tissue_seg_model_path = \"./weight_tissue_cut_tool_220304.hdf5\"\n",
    "tissue_seg_method = 1\n",
    "\n",
    "im.cell_seg_v3(model_path, img_path, out_path, need_tissue_cut=True, tissue_seg_model_path=tissue_seg_model_path, tissue_seg_method=1)"
   ]
  },
  {
   "cell_type": "markdown",
   "id": "a0931349",
   "metadata": {},
   "source": [
    "### Deep Learning Model V1"
   ]
  },
  {
   "attachments": {},
   "cell_type": "markdown",
   "id": "4613008c",
   "metadata": {
    "ExecuteTime": {
     "end_time": "2021-12-30T09:24:11.562608Z",
     "start_time": "2021-12-30T09:24:11.492657Z"
    }
   },
   "source": [
    "First, please download the [**deep learning model**](https://pan.genomics.cn/ucdisk/s/vm6JNz). It is assumed that the local storage path is `'./seg_model_20211210.pth'`. \n",
    "\n",
    "Besides, if you want to use GPU for prediction, set GPU id to the parameter `gpu`, if not, CPU will be used by default."
   ]
  },
  {
   "cell_type": "code",
   "execution_count": 3,
   "id": "a4277dc8",
   "metadata": {
    "ExecuteTime": {
     "end_time": "2023-04-27T05:11:19.622803Z",
     "start_time": "2023-04-27T04:55:48.820972Z"
    }
   },
   "outputs": [
    {
     "name": "stderr",
     "output_type": "stream",
     "text": [
      "[2023-04-27 12:55:50][Stereo][27531][MainThread][140689697720128][cell_seg_pipeline][57][INFO]: Transform 16bit to 8bit : 0.00\n",
      "[2023-04-27 12:55:50][Stereo][27531][MainThread][140689697720128][pipeline][64][INFO]: source image type: ssdna\n",
      "[2023-04-27 12:55:50][Stereo][27531][MainThread][140689697720128][pipeline][65][INFO]: segmentation method: intensity segmentation\n",
      "[2023-04-27 12:55:50][Stereo][27531][MainThread][140689697720128][pipeline][171][INFO]: image loading and preprocessing...\n",
      "[2023-04-27 12:55:51][Stereo][27531][MainThread][140689697720128][pipeline][200][INFO]: segment by intensity...\n",
      "[2023-04-27 12:56:04][Stereo][27531][MainThread][140689697720128][pipeline][167][INFO]: seg results saved in /ldfssz1/ST_BI/USER/stereopy/test/lyonlin/test_cell_seg/cell_seg_res/\n",
      "[2023-04-27 12:56:05][Stereo][27531][MainThread][140689697720128][cell_seg_pipeline][154][INFO]: get roi\n"
     ]
    },
    {
     "name": "stdout",
     "output_type": "stream",
     "text": [
      "【image 1/1】\n"
     ]
    },
    {
     "name": "stderr",
     "output_type": "stream",
     "text": [
      "100%|█████████████████████████████████████████| 180/180 [11:55<00:00,  3.98s/it]\n",
      "[2023-04-27 13:08:52][Stereo][27531][MainThread][140689697720128][cell_seg_pipeline][321][INFO]: Cell inference : 746.64\n",
      "[2023-04-27 13:10:41][Stereo][27531][MainThread][140689697720128][cell_seg_pipeline][330][INFO]: Post-processing : 109.68\n",
      "[2023-04-27 13:11:19][Stereo][27531][MainThread][140689697720128][cell_seg_pipeline][333][INFO]: Result saved : /ldfssz1/ST_BI/USER/stereopy/test/lyonlin/test_cell_seg/cell_seg_res/ \n"
     ]
    }
   ],
   "source": [
    "from stereo import image as im\n",
    "\n",
    "model_path = './seg_model_20211210.pth'\n",
    "img_path = './SS200000135TL_D1_regist.tif'\n",
    "out_path = './cell_seg_res/'\n",
    "tissue_seg_model_path = \"./weight_tissue_cut_tool_220304.hdf5\"\n",
    "tissue_seg_method = 1\n",
    "\n",
    "im.cell_seg(model_path, img_path, out_path, tissue_seg_model_path=tissue_seg_model_path, tissue_seg_method=1)"
   ]
  },
  {
   "cell_type": "markdown",
   "id": "0e247d0a",
   "metadata": {},
   "source": [
    "## Deep Cell Model"
   ]
  },
  {
   "attachments": {},
   "cell_type": "markdown",
   "id": "9f06b249",
   "metadata": {},
   "source": [
    "Similarly download the [**deep cell model**](https://pan.genomics.cn/ucdisk/s/6JFbIr) from our cloud disk. It is assumed that the local storage path is `'./models/deepcell/'`."
   ]
  },
  {
   "cell_type": "code",
   "execution_count": 4,
   "id": "a5b73fbb",
   "metadata": {
    "ExecuteTime": {
     "end_time": "2023-04-27T05:59:45.724348Z",
     "start_time": "2023-04-27T05:49:10.308870Z"
    }
   },
   "outputs": [
    {
     "name": "stderr",
     "output_type": "stream",
     "text": [
      "[2023-04-27 13:49:11][Stereo][27531][MainThread][140689697720128][cell_seg_pipeline][47][INFO]: Create new dir : /ldfssz1/ST_BI/USER/stereopy/test/lyonlin/test_cell_seg/cell_seg_res/deepcell/\n",
      "[2023-04-27 13:49:11][Stereo][27531][MainThread][140689697720128][cell_seg_pipeline][52][INFO]: Transform 16bit to 8bit : 0.00\n",
      "[2023-04-27 13:49:11][Stereo][27531][MainThread][140689697720128][pipeline][64][INFO]: source image type: ssdna\n",
      "[2023-04-27 13:49:11][Stereo][27531][MainThread][140689697720128][pipeline][65][INFO]: segmentation method: intensity segmentation\n",
      "[2023-04-27 13:49:11][Stereo][27531][MainThread][140689697720128][pipeline][171][INFO]: image loading and preprocessing...\n",
      "[2023-04-27 13:49:12][Stereo][27531][MainThread][140689697720128][pipeline][200][INFO]: segment by intensity...\n",
      "[2023-04-27 13:49:24][Stereo][27531][MainThread][140689697720128][pipeline][167][INFO]: seg results saved in /ldfssz1/ST_BI/USER/stereopy/test/lyonlin/test_cell_seg/cell_seg_res/deepcell/\n",
      "[2023-04-27 13:49:24][Stereo][27531][MainThread][140689697720128][cell_seg_pipeline][60][INFO]: Get tissue mask : 12.21\n",
      "WARNING:tensorflow:SavedModel saved prior to TF 2.5 detected when loading Keras model. Please ensure that you are saving the model with model.save() or tf.keras.models.save_model(), *NOT* tf.saved_model.save(). To confirm, there should be a file named \"keras_metadata.pb\" in the SavedModel directory.\n",
      "2023-04-27 13:49:49.316079: W tensorflow/stream_executor/platform/default/dso_loader.cc:64] Could not load dynamic library 'libcuda.so.1'; dlerror: libcuda.so.1: cannot open shared object file: No such file or directory; LD_LIBRARY_PATH: /ldfssz1/ST_BI/USER/stereopy/app/conda_envs/envs/test_cell_cut/lib/python3.8/site-packages/cv2/../../lib64:/ldfssz1/ST_BI/USER/software/lib:/ldfssz1/ST_BI/USER/software/lib64:/ldfssz1/ST_BI/USER/software/app/hdf5-1.12.1/lib:/opt/gridengine/lib/lx-amd64\n",
      "2023-04-27 13:49:49.330330: W tensorflow/stream_executor/cuda/cuda_driver.cc:269] failed call to cuInit: UNKNOWN ERROR (303)\n",
      "2023-04-27 13:49:49.335160: I tensorflow/stream_executor/cuda/cuda_diagnostics.cc:156] kernel driver does not appear to be running on this host (cngb-hadoop-a17-7.cngb.sz.hpc): /proc/driver/nvidia/version does not exist\n",
      "2023-04-27 13:49:49.423604: I tensorflow/core/platform/cpu_feature_guard.cc:151] This TensorFlow binary is optimized with oneAPI Deep Neural Network Library (oneDNN) to use the following CPU instructions in performance-critical operations:  AVX2 FMA\n",
      "To enable them in other operations, rebuild TensorFlow with the appropriate compiler flags.\n"
     ]
    },
    {
     "name": "stdout",
     "output_type": "stream",
     "text": [
      "\r\n",
      "【image 1/1】 batch:[>>>>>>>>>>>>>>>>>>>>>>>>>>>>>>>>>>>>>>>>]100%\t1/1\n"
     ]
    },
    {
     "name": "stderr",
     "output_type": "stream",
     "text": [
      "[2023-04-27 13:58:00][Stereo][27531][MainThread][140689697720128][cell_seg_pipeline][303][INFO]: Cell inference : 495.68\n",
      "[2023-04-27 13:58:00][Stereo][27531][MainThread][140689697720128][cell_seg_pipeline][308][INFO]: Filter by tissue mask : 0.29\n",
      "[2023-04-27 13:58:00][Stereo][27531][MainThread][140689697720128][cell_seg_pipeline][313][INFO]: Mosaic tissue roi : 0.12\n",
      "[2023-04-27 13:59:26][Stereo][27531][MainThread][140689697720128][cell_seg_pipeline][318][INFO]: Post-processing : 86.05\n",
      "[2023-04-27 13:59:45][Stereo][27531][MainThread][140689697720128][cell_seg_pipeline][321][INFO]: Result saved : /ldfssz1/ST_BI/USER/stereopy/test/lyonlin/test_cell_seg/cell_seg_res/deepcell/ \n"
     ]
    }
   ],
   "source": [
    "model_dir = './cell_segmentation_deepcell/'\n",
    "img_path = './SS200000135TL_D1_regist.tif'\n",
    "out_path = './deepcell/'\n",
    "tissue_seg_model_path = \"./weight_tissue_cut_tool_220304.hdf5\"\n",
    "tissue_seg_method = 1\n",
    "\n",
    "im.cell_seg_deepcell(model_dir, img_path, out_path, tissue_seg_model_path=tissue_seg_model_path, tissue_seg_method=1)"
   ]
  },
  {
   "cell_type": "markdown",
   "id": "4a24456e",
   "metadata": {},
   "source": [
    "After running the function, three result pictures will be generated in the out path directory.\n",
    "\n",
    "    mask.tif: cell segmentation result\n",
    "\n",
    "    outline.tif: cell boundary result\n",
    "\n",
    "    score.tif: cell fraction result"
   ]
  },
  {
   "attachments": {},
   "cell_type": "markdown",
   "id": "466031df",
   "metadata": {},
   "source": [
    "We compared different cell segmentation algorithm models:"
   ]
  },
  {
   "attachments": {},
   "cell_type": "markdown",
   "id": "71c112e8",
   "metadata": {},
   "source": [
    "![cell_segmentation_comparision](https://raw.githubusercontent.com/BGIResearch/stereopy/main/docs/source/_static/cell_segmentation_comparision.png)"
   ]
  },
  {
   "cell_type": "markdown",
   "id": "18fcaa2c",
   "metadata": {},
   "source": [
    "## New CGEF"
   ]
  },
  {
   "cell_type": "markdown",
   "id": "53466b8f",
   "metadata": {},
   "source": [
    "After obtaining mask results through cell segmentation function, you can generate a cell bin GEF from the mask as well as the corresponding BGEF (including `SN.raw.gef`, `SN.gef`, `SN.tissue.gef`).\n",
    "\n",
    "First, you need a BGEF , then refer to following example. Remember to specify the path of directory to save cell bin GEF by `cgef_out_dir`, the path of BGEF by `bgef_path` and the path of mask by `mask_path`.\n",
    "\n",
    "It will return the path of cell bin GEF."
   ]
  },
  {
   "cell_type": "code",
   "execution_count": null,
   "id": "b434f801",
   "metadata": {},
   "outputs": [],
   "source": [
    "from stereo.tools.cell_cut import CellCut\n",
    "\n",
    "cgef_out_dir = \"./cell_cut_out\"\n",
    "bgef_path = \"../test_data/SS200000135TL_D1.raw.gef\"\n",
    "mask_path = \"../test_data/SS200000135TL_D1_mask.tif\"\n",
    "\n",
    "cc = CellCut(cgef_out_dir=cgef_out_dir)\n",
    "out_path = cc.cell_cut(bgef_path=bgef_path, mask_path=mask_path)"
   ]
  },
  {
   "cell_type": "markdown",
   "id": "b6e944c1",
   "metadata": {},
   "source": [
    "If only have GEM file, you could generate a new cell bin GEF based on it and the corresponding mask."
   ]
  },
  {
   "cell_type": "code",
   "execution_count": null,
   "id": "4d8024de",
   "metadata": {},
   "outputs": [],
   "source": [
    "from stereo.tools.cell_cut import CellCut\n",
    "\n",
    "cgef_out_dir = \"./cell_cut_out\"\n",
    "gem_path = \"./SS200000135TL_D1.gem.gz\"\n",
    "mask_path = \"./SS200000135TL_D1_mask.tif\"\n",
    "\n",
    "cc = CellCut(cgef_out_dir=cgef_out_dir)\n",
    "out_path = cc.cell_cut(gem_path=gem_path, mask_path=mask_path)"
   ]
  }
 ],
 "metadata": {
  "celltoolbar": "Tags",
  "kernelspec": {
   "display_name": "Python 3 (ipykernel)",
   "language": "python",
   "name": "python3"
  },
  "language_info": {
   "codemirror_mode": {
    "name": "ipython",
    "version": 3
   },
   "file_extension": ".py",
   "mimetype": "text/x-python",
   "name": "python",
   "nbconvert_exporter": "python",
   "pygments_lexer": "ipython3",
   "version": "3.8.16"
  },
  "toc": {
   "base_numbering": 1,
   "nav_menu": {},
   "number_sections": true,
   "sideBar": true,
   "skip_h1_title": false,
   "title_cell": "Table of Contents",
   "title_sidebar": "Contents",
   "toc_cell": false,
   "toc_position": {
    "height": "calc(100% - 180px)",
    "left": "10px",
    "top": "150px",
    "width": "228px"
   },
   "toc_section_display": true,
   "toc_window_display": true
  },
  "varInspector": {
   "cols": {
    "lenName": 16,
    "lenType": 16,
    "lenVar": 40
   },
   "kernels_config": {
    "python": {
     "delete_cmd_postfix": "",
     "delete_cmd_prefix": "del ",
     "library": "var_list.py",
     "varRefreshCmd": "print(var_dic_list())"
    },
    "r": {
     "delete_cmd_postfix": ") ",
     "delete_cmd_prefix": "rm(",
     "library": "var_list.r",
     "varRefreshCmd": "cat(var_dic_list()) "
    }
   },
   "types_to_exclude": [
    "module",
    "function",
    "builtin_function_or_method",
    "instance",
    "_Feature"
   ],
   "window_display": false
  },
  "vscode": {
   "interpreter": {
    "hash": "70dbeb2a90198859cd91b6ea0f3adc73d66939fe301617b631d99dfc954c0323"
   }
  }
 },
 "nbformat": 4,
 "nbformat_minor": 5
}
