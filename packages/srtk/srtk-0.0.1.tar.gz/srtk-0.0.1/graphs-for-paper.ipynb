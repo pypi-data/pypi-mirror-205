{
 "cells": [
  {
   "attachments": {},
   "cell_type": "markdown",
   "metadata": {},
   "source": [
    "# Wikidata"
   ]
  },
  {
   "attachments": {},
   "cell_type": "markdown",
   "metadata": {},
   "source": [
    "## Wikidata Simple Question\n",
    "\n",
    "Under beam size 2, 5, 10, 20, how the coverage and the graph size vary?"
   ]
  },
  {
   "cell_type": "code",
   "execution_count": 1,
   "metadata": {},
   "outputs": [],
   "source": [
    "import os\n",
    "\n",
    "intermediate_dir = 'data/wikidata-simplequestions/intermediate'\n",
    "retrieve_subgraph_dir = 'artifacts/subgraphs/wikidata-simple-question'\n",
    "trained_model_dir = 'artifacts/models/scorer-wikidata-e5'\n",
    "test_scored_path = os.path.join(intermediate_dir, 'scores_test.jsonl')"
   ]
  },
  {
   "cell_type": "code",
   "execution_count": 2,
   "metadata": {},
   "outputs": [
    {
     "name": "stdout",
     "output_type": "stream",
     "text": [
      "Retrieving subgraphs: 100%|█████████████████| 4296/4296 [02:34<00:00, 27.73it/s]\n",
      "Retrieved subgraphs saved to to artifacts/subgraphs/wikidata-simple-question/e5-b-2.jsonl\n",
      "Answer recall: 0.07029795158286778 (302 / 4296)\n",
      "Retrieving subgraphs: 100%|█████████████████| 4296/4296 [01:52<00:00, 38.11it/s]\n",
      "Retrieved subgraphs saved to to artifacts/subgraphs/wikidata-simple-question/e5-b-5.jsonl\n",
      "Answer recall: 0.2877094972067039 (1236 / 4296)\n",
      "Retrieving subgraphs: 100%|█████████████████| 4296/4296 [02:24<00:00, 29.66it/s]\n",
      "Retrieved subgraphs saved to to artifacts/subgraphs/wikidata-simple-question/e5-b-10.jsonl\n",
      "Answer recall: 0.7276536312849162 (3126 / 4296)\n",
      "Retrieving subgraphs: 100%|█████████████████| 4296/4296 [02:54<00:00, 24.56it/s]\n",
      "Retrieved subgraphs saved to to artifacts/subgraphs/wikidata-simple-question/e5-b-20.jsonl\n",
      "Answer recall: 0.957635009310987 (4114 / 4296)\n"
     ]
    }
   ],
   "source": [
    "for beam_width in [2, 5, 10, 20]:\n",
    "    retrieved_subgraph_path = os.path.join(retrieve_subgraph_dir, f'e5-b-{beam_width}.jsonl')\n",
    "    !srtk retrieve -i $test_scored_path \\\n",
    "        -o $retrieved_subgraph_path \\\n",
    "        -e http://localhost:1234/api/endpoint/sparql \\\n",
    "        -kg wikidata \\\n",
    "        --scorer-model-path $trained_model_dir \\\n",
    "        --beam-width $beam_width \\\n",
    "        --max-depth 1 \\\n",
    "        --evaluate"
   ]
  },
  {
   "cell_type": "code",
   "execution_count": 3,
   "metadata": {},
   "outputs": [
    {
     "name": "stdout",
     "output_type": "stream",
     "text": [
      "Retrieving subgraphs: 100%|█████████████████| 4296/4296 [03:08<00:00, 22.73it/s]\n",
      "Retrieved subgraphs saved to to artifacts/subgraphs/wikidata-simple-question/e5-b-30.jsonl\n",
      "Answer recall: 0.9753258845437617 (4190 / 4296)\n"
     ]
    }
   ],
   "source": [
    "beam_width = 40\n",
    "retrieved_subgraph_path = os.path.join(retrieve_subgraph_dir, f'e5-b-{beam_width}.jsonl')\n",
    "!srtk retrieve -i $test_scored_path \\\n",
    "    -o $retrieved_subgraph_path \\\n",
    "    -e http://localhost:1234/api/endpoint/sparql \\\n",
    "    -kg wikidata \\\n",
    "    --scorer-model-path $trained_model_dir \\\n",
    "    --beam-width $beam_width \\\n",
    "    --max-depth 1 \\\n",
    "    --evaluate"
   ]
  },
  {
   "attachments": {},
   "cell_type": "markdown",
   "metadata": {},
   "source": [
    "# Freebase"
   ]
  },
  {
   "attachments": {},
   "cell_type": "markdown",
   "metadata": {},
   "source": [
    "## WebQSP"
   ]
  },
  {
   "cell_type": "code",
   "execution_count": 5,
   "metadata": {},
   "outputs": [],
   "source": [
    "formatted_data_dir = 'data/webqsp/formatted'\n",
    "retrieve_subgraph_dir = 'artifacts/subgraphs/webqsp'\n",
    "webqsp_model_dir = 'artifacts/models/scorer-freebase'\n",
    "formatted_test_path = os.path.join(formatted_data_dir, 'test.jsonl')"
   ]
  },
  {
   "cell_type": "code",
   "execution_count": 6,
   "metadata": {},
   "outputs": [
    {
     "name": "stdout",
     "output_type": "stream",
     "text": [
      "Retrieving subgraphs:   8%|█▌                | 133/1582 [01:36<08:38,  2.79it/s]"
     ]
    }
   ],
   "source": [
    "for beam_width in [2, 5, 10, 20]:\n",
    "    retrieve_subgraph_path = os.path.join(retrieve_subgraph_dir, f'e5-b{beam_width}.jsonl')\n",
    "    !srtk retrieve --input $formatted_test_path \\\n",
    "        --output $retrieve_subgraph_path \\\n",
    "        --sparql-endpoint http://localhost:3001/sparql \\\n",
    "        --knowledge-graph freebase \\\n",
    "        --scorer-model-path $webqsp_model_dir \\\n",
    "        --beam-width $beam_width \\\n",
    "        --max-depth 2 \\\n",
    "        --evaluate"
   ]
  },
  {
   "attachments": {},
   "cell_type": "markdown",
   "metadata": {},
   "source": [
    "## CWQ"
   ]
  },
  {
   "cell_type": "markdown",
   "metadata": {},
   "source": []
  }
 ],
 "metadata": {
  "kernelspec": {
   "display_name": "dragon",
   "language": "python",
   "name": "python3"
  },
  "language_info": {
   "codemirror_mode": {
    "name": "ipython",
    "version": 3
   },
   "file_extension": ".py",
   "mimetype": "text/x-python",
   "name": "python",
   "nbconvert_exporter": "python",
   "pygments_lexer": "ipython3",
   "version": "3.8.15"
  },
  "orig_nbformat": 4
 },
 "nbformat": 4,
 "nbformat_minor": 2
}
