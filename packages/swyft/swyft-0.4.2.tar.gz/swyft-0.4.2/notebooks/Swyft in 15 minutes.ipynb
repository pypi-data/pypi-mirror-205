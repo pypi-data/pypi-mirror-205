{
 "cells": [
  {
   "cell_type": "code",
   "execution_count": 1,
   "id": "43b54d61-2a21-4360-8f08-d9ab03239760",
   "metadata": {},
   "outputs": [],
   "source": [
    "%load_ext autoreload\n",
    "%autoreload 2"
   ]
  },
  {
   "cell_type": "markdown",
   "id": "6ec77850-b62c-4d3d-94d8-4c6ca4c70b77",
   "metadata": {},
   "source": [
    "# Swyft in 15 Minutes\n",
    "\n",
    "We discuss seven key steps of a typical Swyft workflow."
   ]
  },
  {
   "cell_type": "markdown",
   "id": "bd3002ce-7495-433b-9c95-693c60e917a1",
   "metadata": {},
   "source": [
    "## 1. Installing Swyft"
   ]
  },
  {
   "cell_type": "markdown",
   "id": "0cfdfa13-ee61-4f32-9310-ad8b807b1f07",
   "metadata": {},
   "source": [
    "We can use `pip` to install the lightning branch (latest development branch) of Swyft."
   ]
  },
  {
   "cell_type": "code",
   "execution_count": 2,
   "id": "7b2f598a-93c6-4c73-a093-d76f0b126813",
   "metadata": {},
   "outputs": [],
   "source": [
    "#!pip install https://github.com/undark-lab/swyft.git@lightning"
   ]
  },
  {
   "cell_type": "code",
   "execution_count": 3,
   "id": "db1bfed8-219c-4420-bf4d-673d98a51ef2",
   "metadata": {},
   "outputs": [],
   "source": [
    "import numpy as np\n",
    "from scipy import stats\n",
    "import pylab as plt\n",
    "import torch\n",
    "import swyft"
   ]
  },
  {
   "cell_type": "markdown",
   "id": "15649024-2f24-4257-8d0e-0f326bf67884",
   "metadata": {},
   "source": [
    "## 2. Define the Simulator"
   ]
  },
  {
   "cell_type": "markdown",
   "id": "e3f6b1a8-d721-4d4f-b441-b03d1f9bf8a2",
   "metadata": {},
   "source": [
    "Next we define a simulator class, which specifies the computational graph of our simulator."
   ]
  },
  {
   "cell_type": "code",
   "execution_count": 4,
   "id": "94119669-c228-4ed1-8d8a-c1090c532a21",
   "metadata": {},
   "outputs": [
    {
     "name": "stderr",
     "output_type": "stream",
     "text": [
      "100%|██████████| 10000/10000 [00:00<00:00, 40216.54it/s]\n"
     ]
    }
   ],
   "source": [
    "class Simulator(swyft.Simulator):\n",
    "    def __init__(self):\n",
    "        super().__init__()\n",
    "        self.transform_samples = swyft.to_numpy32\n",
    "        self.x = np.linspace(-1, 1, 10)\n",
    "         \n",
    "    def build(self, graph):\n",
    "        z = graph.node('z', lambda: np.random.rand(2)*2-1)\n",
    "        f = graph.node('f', lambda z: z[0] + z[1]*self.x, z)\n",
    "        x = graph.node('x', lambda f: f + np.random.randn(10)*0.1, f)\n",
    "        \n",
    "sim = Simulator()\n",
    "samples = sim.sample(N = 10000)"
   ]
  },
  {
   "cell_type": "markdown",
   "id": "115822b0-1872-4bdd-a0ed-7310b25da80d",
   "metadata": {},
   "source": [
    "## 3. Define the SwyftModule"
   ]
  },
  {
   "cell_type": "code",
   "execution_count": 5,
   "id": "a636462e-aa89-4996-89e1-04037cd8f43f",
   "metadata": {},
   "outputs": [],
   "source": [
    "class Network(swyft.SwyftModule):\n",
    "    def __init__(self):\n",
    "        super().__init__()\n",
    "        self.embedding = torch.nn.Linear(10, 2)\n",
    "        self.logratios1 = swyft.LogRatioEstimator_1dim(num_features = 2, num_params = 2, varnames = 'z')\n",
    "        self.logratios2 = swyft.LogRatioEstimator_Ndim(num_features = 2, marginals = ((0, 1),), varnames = 'z')\n",
    "\n",
    "    def forward(self, A, B):\n",
    "        embedding = self.embedding(A['x'])\n",
    "        logratios1 = self.logratios1(embedding, B['z'])\n",
    "        logratios2 = self.logratios2(embedding, B['z'])\n",
    "        return logratios1, logratios2"
   ]
  },
  {
   "cell_type": "markdown",
   "id": "9348cf96-3347-4698-8d89-fa6c50cd2314",
   "metadata": {},
   "source": [
    "## 4. Train the model"
   ]
  },
  {
   "cell_type": "code",
   "execution_count": 6,
   "id": "db43aac6-7bdd-4016-9f24-fbb374c5738d",
   "metadata": {},
   "outputs": [
    {
     "name": "stderr",
     "output_type": "stream",
     "text": [
      "GPU available: True (cuda), used: True\n",
      "TPU available: False, using: 0 TPU cores\n",
      "IPU available: False, using: 0 IPUs\n",
      "HPU available: False, using: 0 HPUs\n"
     ]
    }
   ],
   "source": [
    "trainer = swyft.SwyftTrainer(accelerator = 'gpu', max_epochs = 2)"
   ]
  },
  {
   "cell_type": "code",
   "execution_count": 7,
   "id": "800f08ac-2f14-4cb7-a28f-0f7fbd10a7c0",
   "metadata": {},
   "outputs": [],
   "source": [
    "dm = swyft.SwyftDataModule(samples, fractions = [0.8, 0.1, 0.1], batch_size = 64, num_workers = 3)"
   ]
  },
  {
   "cell_type": "code",
   "execution_count": 8,
   "id": "b3ca1594-2913-4c9b-a1fc-bdd0fffa0935",
   "metadata": {},
   "outputs": [
    {
     "name": "stderr",
     "output_type": "stream",
     "text": [
      "/home/weniger/miniconda3b/envs/zero/lib/python3.9/site-packages/pytorch_lightning/callbacks/model_checkpoint.py:616: UserWarning: Checkpoint directory /home/weniger/codes/swyft/notebooks/lightning_logs/version_10034687/checkpoints exists and is not empty.\n",
      "  rank_zero_warn(f\"Checkpoint directory {dirpath} exists and is not empty.\")\n",
      "LOCAL_RANK: 0 - CUDA_VISIBLE_DEVICES: [0]\n",
      "\n",
      "  | Name       | Type                   | Params\n",
      "------------------------------------------------------\n",
      "0 | embedding  | Linear                 | 22    \n",
      "1 | logratios1 | LogRatioEstimator_1dim | 34.9 K\n",
      "2 | logratios2 | LogRatioEstimator_Ndim | 17.5 K\n",
      "------------------------------------------------------\n",
      "52.5 K    Trainable params\n",
      "0         Non-trainable params\n",
      "52.5 K    Total params\n",
      "0.210     Total estimated model params size (MB)\n"
     ]
    },
    {
     "name": "stdout",
     "output_type": "stream",
     "text": [
      "Epoch 0:  89%|████████▊ | 125/141 [00:02<00:00, 57.59it/s, loss=-2.99, v_num=1e+7]\n",
      "Validation: 0it [00:00, ?it/s]\u001b[A\n",
      "Validation:   0%|          | 0/16 [00:00<?, ?it/s]\u001b[A\n",
      "Validation DataLoader 0:   0%|          | 0/16 [00:00<?, ?it/s]\u001b[A\n",
      "Epoch 0:  89%|████████▉ | 126/141 [00:02<00:00, 49.33it/s, loss=-2.99, v_num=1e+7]\n",
      "Epoch 0:  90%|█████████ | 127/141 [00:02<00:00, 49.56it/s, loss=-2.99, v_num=1e+7]\n",
      "Epoch 0:  91%|█████████ | 128/141 [00:02<00:00, 49.83it/s, loss=-2.99, v_num=1e+7]\n",
      "Epoch 0:  91%|█████████▏| 129/141 [00:02<00:00, 50.11it/s, loss=-2.99, v_num=1e+7]\n",
      "Epoch 0:  92%|█████████▏| 130/141 [00:02<00:00, 50.37it/s, loss=-2.99, v_num=1e+7]\n",
      "Epoch 0:  93%|█████████▎| 131/141 [00:02<00:00, 50.65it/s, loss=-2.99, v_num=1e+7]\n",
      "Epoch 0:  94%|█████████▎| 132/141 [00:02<00:00, 50.91it/s, loss=-2.99, v_num=1e+7]\n",
      "Epoch 0:  94%|█████████▍| 133/141 [00:02<00:00, 51.17it/s, loss=-2.99, v_num=1e+7]\n",
      "Epoch 0:  95%|█████████▌| 134/141 [00:02<00:00, 51.43it/s, loss=-2.99, v_num=1e+7]\n",
      "Epoch 0:  96%|█████████▌| 135/141 [00:02<00:00, 51.69it/s, loss=-2.99, v_num=1e+7]\n",
      "Epoch 0:  96%|█████████▋| 136/141 [00:02<00:00, 51.96it/s, loss=-2.99, v_num=1e+7]\n",
      "Epoch 0:  97%|█████████▋| 137/141 [00:02<00:00, 52.21it/s, loss=-2.99, v_num=1e+7]\n",
      "Epoch 0:  98%|█████████▊| 138/141 [00:02<00:00, 52.47it/s, loss=-2.99, v_num=1e+7]\n",
      "Epoch 0:  99%|█████████▊| 139/141 [00:02<00:00, 52.73it/s, loss=-2.99, v_num=1e+7]\n",
      "Epoch 0:  99%|█████████▉| 140/141 [00:02<00:00, 52.97it/s, loss=-2.99, v_num=1e+7]\n",
      "Epoch 0: 100%|██████████| 141/141 [00:02<00:00, 53.16it/s, loss=-2.99, v_num=1e+7, val_loss=-3.03]\n",
      "Epoch 1:  89%|████████▊ | 125/141 [00:02<00:00, 56.29it/s, loss=-3.11, v_num=1e+7, val_loss=-3.03]\n",
      "Validation: 0it [00:00, ?it/s]\u001b[A\n",
      "Validation:   0%|          | 0/16 [00:00<?, ?it/s]\u001b[A\n",
      "Validation DataLoader 0:   0%|          | 0/16 [00:00<?, ?it/s]\u001b[A\n",
      "Epoch 1:  89%|████████▉ | 126/141 [00:02<00:00, 49.61it/s, loss=-3.11, v_num=1e+7, val_loss=-3.03]\n",
      "Epoch 1:  90%|█████████ | 127/141 [00:02<00:00, 49.86it/s, loss=-3.11, v_num=1e+7, val_loss=-3.03]\n",
      "Epoch 1:  91%|█████████ | 128/141 [00:02<00:00, 50.07it/s, loss=-3.11, v_num=1e+7, val_loss=-3.03]\n",
      "Epoch 1:  91%|█████████▏| 129/141 [00:02<00:00, 50.35it/s, loss=-3.11, v_num=1e+7, val_loss=-3.03]\n",
      "Epoch 1:  92%|█████████▏| 130/141 [00:02<00:00, 50.64it/s, loss=-3.11, v_num=1e+7, val_loss=-3.03]\n",
      "Epoch 1:  93%|█████████▎| 131/141 [00:02<00:00, 50.90it/s, loss=-3.11, v_num=1e+7, val_loss=-3.03]\n",
      "Epoch 1:  94%|█████████▎| 132/141 [00:02<00:00, 51.18it/s, loss=-3.11, v_num=1e+7, val_loss=-3.03]\n",
      "Epoch 1:  94%|█████████▍| 133/141 [00:02<00:00, 51.44it/s, loss=-3.11, v_num=1e+7, val_loss=-3.03]\n",
      "Epoch 1:  95%|█████████▌| 134/141 [00:02<00:00, 51.70it/s, loss=-3.11, v_num=1e+7, val_loss=-3.03]\n",
      "Epoch 1:  96%|█████████▌| 135/141 [00:02<00:00, 51.96it/s, loss=-3.11, v_num=1e+7, val_loss=-3.03]\n",
      "Epoch 1:  96%|█████████▋| 136/141 [00:02<00:00, 52.23it/s, loss=-3.11, v_num=1e+7, val_loss=-3.03]\n",
      "Epoch 1:  97%|█████████▋| 137/141 [00:02<00:00, 52.49it/s, loss=-3.11, v_num=1e+7, val_loss=-3.03]\n",
      "Epoch 1:  98%|█████████▊| 138/141 [00:02<00:00, 52.75it/s, loss=-3.11, v_num=1e+7, val_loss=-3.03]\n",
      "Epoch 1:  99%|█████████▊| 139/141 [00:02<00:00, 53.00it/s, loss=-3.11, v_num=1e+7, val_loss=-3.03]\n",
      "Epoch 1:  99%|█████████▉| 140/141 [00:02<00:00, 53.26it/s, loss=-3.11, v_num=1e+7, val_loss=-3.03]\n",
      "Epoch 1: 100%|██████████| 141/141 [00:02<00:00, 53.44it/s, loss=-3.11, v_num=1e+7, val_loss=-3.11]\n",
      "Epoch 1: 100%|██████████| 141/141 [00:02<00:00, 53.38it/s, loss=-3.11, v_num=1e+7, val_loss=-3.11]"
     ]
    },
    {
     "name": "stderr",
     "output_type": "stream",
     "text": [
      "`Trainer.fit` stopped: `max_epochs=2` reached.\n"
     ]
    },
    {
     "name": "stdout",
     "output_type": "stream",
     "text": [
      "Epoch 1: 100%|██████████| 141/141 [00:02<00:00, 52.81it/s, loss=-3.11, v_num=1e+7, val_loss=-3.11]\n"
     ]
    }
   ],
   "source": [
    "network = Network()\n",
    "trainer.fit(network, dm)"
   ]
  },
  {
   "cell_type": "markdown",
   "id": "ac47fc0b-926d-48ce-9af6-d8ac6e50003f",
   "metadata": {},
   "source": [
    "## 5. Visualize training"
   ]
  },
  {
   "cell_type": "markdown",
   "id": "6b3861d8-2655-496b-b274-f1d346e0ec73",
   "metadata": {},
   "source": [
    "N/A"
   ]
  },
  {
   "cell_type": "markdown",
   "id": "3bc33732-9b4d-434e-8684-bad8e50f56c5",
   "metadata": {},
   "source": [
    "## 6. Perform validation tests"
   ]
  },
  {
   "cell_type": "code",
   "execution_count": 9,
   "id": "6a87cd11-46fe-4234-90dc-1475925f0f80",
   "metadata": {},
   "outputs": [
    {
     "name": "stderr",
     "output_type": "stream",
     "text": [
      "LOCAL_RANK: 0 - CUDA_VISIBLE_DEVICES: [0]\n"
     ]
    },
    {
     "name": "stdout",
     "output_type": "stream",
     "text": [
      "Testing DataLoader 0: 100%|██████████| 16/16 [00:00<00:00, 162.68it/s]\n"
     ]
    },
    {
     "data": {
      "text/html": [
       "<pre style=\"white-space:pre;overflow-x:auto;line-height:normal;font-family:Menlo,'DejaVu Sans Mono',consolas,'Courier New',monospace\">┏━━━━━━━━━━━━━━━━━━━━━━━━━━━┳━━━━━━━━━━━━━━━━━━━━━━━━━━━┓\n",
       "┃<span style=\"font-weight: bold\">        Test metric        </span>┃<span style=\"font-weight: bold\">       DataLoader 0        </span>┃\n",
       "┡━━━━━━━━━━━━━━━━━━━━━━━━━━━╇━━━━━━━━━━━━━━━━━━━━━━━━━━━┩\n",
       "│<span style=\"color: #008080; text-decoration-color: #008080\">         test_loss         </span>│<span style=\"color: #800080; text-decoration-color: #800080\">    -3.0958783626556396    </span>│\n",
       "└───────────────────────────┴───────────────────────────┘\n",
       "</pre>\n"
      ],
      "text/plain": [
       "┏━━━━━━━━━━━━━━━━━━━━━━━━━━━┳━━━━━━━━━━━━━━━━━━━━━━━━━━━┓\n",
       "┃\u001b[1m \u001b[0m\u001b[1m       Test metric       \u001b[0m\u001b[1m \u001b[0m┃\u001b[1m \u001b[0m\u001b[1m      DataLoader 0       \u001b[0m\u001b[1m \u001b[0m┃\n",
       "┡━━━━━━━━━━━━━━━━━━━━━━━━━━━╇━━━━━━━━━━━━━━━━━━━━━━━━━━━┩\n",
       "│\u001b[36m \u001b[0m\u001b[36m        test_loss        \u001b[0m\u001b[36m \u001b[0m│\u001b[35m \u001b[0m\u001b[35m   -3.0958783626556396   \u001b[0m\u001b[35m \u001b[0m│\n",
       "└───────────────────────────┴───────────────────────────┘\n"
      ]
     },
     "metadata": {},
     "output_type": "display_data"
    },
    {
     "data": {
      "text/plain": [
       "[{'test_loss': -3.0958783626556396}]"
      ]
     },
     "execution_count": 9,
     "metadata": {},
     "output_type": "execute_result"
    }
   ],
   "source": [
    "trainer.test(network, dm)"
   ]
  },
  {
   "cell_type": "code",
   "execution_count": 10,
   "id": "482a232c-9a3b-4e02-9859-44d0f7cfe56f",
   "metadata": {},
   "outputs": [
    {
     "name": "stdout",
     "output_type": "stream",
     "text": [
      "WARNING: This estimates the mass of highest-likelihood intervals.\n"
     ]
    },
    {
     "name": "stderr",
     "output_type": "stream",
     "text": [
      "LOCAL_RANK: 0 - CUDA_VISIBLE_DEVICES: [0]\n"
     ]
    },
    {
     "name": "stdout",
     "output_type": "stream",
     "text": [
      "Predicting DataLoader 0: 100%|██████████| 32/32 [00:00<00:00, 202.16it/s]\n"
     ]
    },
    {
     "name": "stderr",
     "output_type": "stream",
     "text": [
      "/home/weniger/miniconda3b/envs/zero/lib/python3.9/site-packages/pytorch_lightning/loops/epoch/prediction_epoch_loop.py:173: UserWarning: Lightning couldn't infer the indices fetched for your dataloader.\n",
      "  warning_cache.warn(\"Lightning couldn't infer the indices fetched for your dataloader.\")\n",
      "LOCAL_RANK: 0 - CUDA_VISIBLE_DEVICES: [0]\n"
     ]
    },
    {
     "name": "stdout",
     "output_type": "stream",
     "text": [
      "Predicting DataLoader 0: 100%|██████████| 1000/1000 [00:13<00:00, 72.18it/s]\n"
     ]
    }
   ],
   "source": [
    "B = samples[:1000]\n",
    "A = samples[:1000]\n",
    "mass = trainer.test_coverage(network, A, B)"
   ]
  },
  {
   "cell_type": "markdown",
   "id": "94b5923b-7aaf-40bf-be45-2dfac15ce460",
   "metadata": {},
   "source": [
    "## 7. Generate posteriors"
   ]
  },
  {
   "cell_type": "code",
   "execution_count": 11,
   "id": "efce6bf3-ccaf-4291-8976-a7efec80fdd1",
   "metadata": {},
   "outputs": [
    {
     "data": {
      "text/plain": [
       "[<matplotlib.lines.Line2D at 0x14c75e46e970>]"
      ]
     },
     "execution_count": 11,
     "metadata": {},
     "output_type": "execute_result"
    },
    {
     "data": {
      "image/png": "[encoded data removed]",
      "text/plain": [
       "<Figure size 432x288 with 1 Axes>"
      ]
     },
     "metadata": {
      "needs_background": "light"
     },
     "output_type": "display_data"
    }
   ],
   "source": [
    "z0 = np.array([0.3, 0.7])\n",
    "x0 = sim.sample(conditions = {\"z\": z0})['x']\n",
    "plt.plot(x0)"
   ]
  },
  {
   "cell_type": "code",
   "execution_count": 12,
   "id": "345d094f-c144-4324-9e83-297d5b07d266",
   "metadata": {},
   "outputs": [
    {
     "name": "stderr",
     "output_type": "stream",
     "text": [
      "100%|██████████| 100000/100000 [00:01<00:00, 98539.19it/s]\n"
     ]
    }
   ],
   "source": [
    "prior_samples = sim.sample(targets = ['z'], N = 100000)"
   ]
  },
  {
   "cell_type": "code",
   "execution_count": 13,
   "id": "72add50d-4448-4461-84a6-89efb73e9bc7",
   "metadata": {},
   "outputs": [
    {
     "name": "stderr",
     "output_type": "stream",
     "text": [
      "LOCAL_RANK: 0 - CUDA_VISIBLE_DEVICES: [0]\n"
     ]
    },
    {
     "name": "stdout",
     "output_type": "stream",
     "text": [
      "Predicting DataLoader 0: 100%|██████████| 98/98 [00:00<00:00, 127.59it/s]\n"
     ]
    }
   ],
   "source": [
    "predictions = trainer.infer(network, swyft.Sample(x = x0), prior_samples)"
   ]
  },
  {
   "cell_type": "code",
   "execution_count": 14,
   "id": "4fde6973-e7dd-4464-ae3c-ca34d657b3cf",
   "metadata": {},
   "outputs": [
    {
     "data": {
      "text/plain": [
       "array([['z[0]'],\n",
       "       ['z[1]']], dtype='<U4')"
      ]
     },
     "execution_count": 14,
     "metadata": {},
     "output_type": "execute_result"
    }
   ],
   "source": [
    "predictions[0].parnames"
   ]
  },
  {
   "cell_type": "code",
   "execution_count": 15,
   "id": "a073a774-abd6-42fb-b680-38eccccfb1f4",
   "metadata": {},
   "outputs": [
    {
     "data": {
      "image/png": "[encoded data removed]",
      "text/plain": [
       "<Figure size 432x288 with 1 Axes>"
      ]
     },
     "metadata": {
      "needs_background": "light"
     },
     "output_type": "display_data"
    }
   ],
   "source": [
    "swyft.plot_1d(predictions, 'z[0]', ax = plt.gca())"
   ]
  },
  {
   "cell_type": "code",
   "execution_count": 16,
   "id": "4515dd82-df43-4742-899c-8cb6303a65fe",
   "metadata": {},
   "outputs": [
    {
     "data": {
      "image/png": "[encoded data removed]",
      "text/plain": [
       "<Figure size 432x288 with 1 Axes>"
      ]
     },
     "metadata": {
      "needs_background": "light"
     },
     "output_type": "display_data"
    }
   ],
   "source": [
    "swyft.plot_1d(predictions, 'z[1]', ax = plt.gca())"
   ]
  },
  {
   "cell_type": "code",
   "execution_count": null,
   "id": "84c11ef2-6f78-4d13-aff2-e73ea09f596c",
   "metadata": {},
   "outputs": [],
   "source": []
  }
 ],
 "metadata": {
  "kernelspec": {
   "display_name": "Python 3",
   "language": "python",
   "name": "python3"
  },
  "language_info": {
   "codemirror_mode": {
    "name": "ipython",
    "version": 3
   },
   "file_extension": ".py",
   "mimetype": "text/x-python",
   "name": "python",
   "nbconvert_exporter": "python",
   "pygments_lexer": "ipython3",
   "version": "3.9.7"
  }
 },
 "nbformat": 4,
 "nbformat_minor": 5
}
