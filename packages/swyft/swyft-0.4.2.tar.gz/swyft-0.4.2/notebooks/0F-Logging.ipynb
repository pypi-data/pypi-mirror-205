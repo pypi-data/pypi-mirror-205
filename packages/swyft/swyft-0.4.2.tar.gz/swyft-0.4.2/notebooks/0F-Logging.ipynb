{
 "cells": [
  {
   "cell_type": "markdown",
   "id": "b4c7a3f1-ab43-432e-a64f-b7f1358a24da",
   "metadata": {},
   "source": [
    "# Logging\n",
    "\n",
    "First we need some imports."
   ]
  },
  {
   "cell_type": "code",
   "execution_count": 1,
   "id": "8e9d04e5-d08e-46ab-a520-4547dedf0487",
   "metadata": {},
   "outputs": [],
   "source": [
    "%load_ext autoreload\n",
    "%autoreload 2"
   ]
  },
  {
   "cell_type": "code",
   "execution_count": 2,
   "id": "0297c907",
   "metadata": {},
   "outputs": [],
   "source": [
    "import numpy as np\n",
    "from scipy import stats\n",
    "import pylab as plt\n",
    "import torch\n",
    "import torchist\n",
    "import swyft\n",
    "import pytorch_lightning as pl"
   ]
  },
  {
   "cell_type": "markdown",
   "id": "ab99366b-0783-46f5-be2d-80cbbb85e163",
   "metadata": {
    "tags": []
   },
   "source": [
    "## Training data\n",
    "\n",
    "Now we generate training data.  As simple example, we consider the model\n",
    "\n",
    "$$\n",
    "x = z + \\epsilon\n",
    "$$\n",
    "\n",
    "where the parameter $z \\sim \\mathcal{N}(\\mu = 0, \\sigma = 1)$ is standard normal distributed, and $\\epsilon \\sim \\mathcal{N}(\\mu = 0, \\sigma = 0.1)$ is a small noise contribution.  We are interested in the posterior of $z$ given a measurement of parameter $x$."
   ]
  },
  {
   "cell_type": "code",
   "execution_count": 3,
   "id": "c0439f14-d49f-4e52-8916-49a785daede5",
   "metadata": {},
   "outputs": [],
   "source": [
    "class Simulator(swyft.Simulator):\n",
    "    def __init__(self):\n",
    "        super().__init__()\n",
    "        self.transform_samples = swyft.to_numpy32\n",
    "\n",
    "    def build(self, graph):\n",
    "        z = graph.node('z', lambda: np.random.rand(1))\n",
    "        x = graph.node('x', lambda z: z + np.random.randn(1)*0.1, z)\n",
    "        \n",
    "sim = Simulator()"
   ]
  },
  {
   "cell_type": "code",
   "execution_count": 4,
   "id": "4a1ed06f-9bbe-460d-bda3-400a3eaee6f5",
   "metadata": {},
   "outputs": [
    {
     "name": "stderr",
     "output_type": "stream",
     "text": [
      "100%|██████████| 10000/10000 [00:00<00:00, 71467.83it/s]\n"
     ]
    }
   ],
   "source": [
    "samples = sim.sample(10000)"
   ]
  },
  {
   "cell_type": "code",
   "execution_count": 5,
   "id": "3e6dc7e9-ff0a-479d-a4e8-fd8025717327",
   "metadata": {},
   "outputs": [],
   "source": [
    "class Network(swyft.SwyftModule):\n",
    "    def __init__(self):\n",
    "        super().__init__()\n",
    "        self.logratios = swyft.LogRatioEstimator_1dim(num_features = 1, num_params = 1, varnames = 'z')\n",
    "\n",
    "    def forward(self, A, B):\n",
    "        logratios = self.logratios(A['x'], B['z'])\n",
    "        return logratios"
   ]
  },
  {
   "cell_type": "markdown",
   "id": "2554dbed-fc91-45d2-bfa7-418cdaad67b6",
   "metadata": {},
   "source": [
    "## Trainer\n",
    "\n",
    "Training is now done using the `SwyftTrainer` class, which extends `pytorch_lightning.Trainer` by methods like `infer` (see below)."
   ]
  },
  {
   "cell_type": "code",
   "execution_count": 6,
   "id": "5683ce37-a8d0-4ed7-94a6-512ccc7babcb",
   "metadata": {},
   "outputs": [
    {
     "name": "stderr",
     "output_type": "stream",
     "text": [
      "GPU available: True (cuda), used: True\n",
      "TPU available: False, using: 0 TPU cores\n",
      "IPU available: False, using: 0 IPUs\n",
      "HPU available: False, using: 0 HPUs\n"
     ]
    }
   ],
   "source": [
    "logger = pl.loggers.TensorBoardLogger(\"./lightning_logs\", name = \"Test1\")\n",
    "model_checkpoint = pl.callbacks.ModelCheckpoint(monitor = 'val_loss', save_top_k = 1)\n",
    "callbacks = [\n",
    "    pl.callbacks.LearningRateMonitor(),\n",
    "    pl.callbacks.EarlyStopping(\"val_loss\", patience = 3),\n",
    "    model_checkpoint\n",
    "]\n",
    "trainer = swyft.SwyftTrainer(accelerator = 'gpu', max_epochs = 100, precision = 64, logger = logger, callbacks = callbacks)"
   ]
  },
  {
   "cell_type": "markdown",
   "id": "053eff99-5d2b-4419-bce7-d938831b623e",
   "metadata": {},
   "source": [
    "The `swyft.Samples` class provides convenience functions to generate data loaders for training and validation data."
   ]
  },
  {
   "cell_type": "code",
   "execution_count": 7,
   "id": "b1b09c64-a0e4-4d69-a639-a5843efac80c",
   "metadata": {},
   "outputs": [],
   "source": [
    "dm = swyft.SwyftDataModule(samples, fractions = [0.8, 0.02, 0.1], num_workers = 3, batch_size = 128)"
   ]
  },
  {
   "cell_type": "code",
   "execution_count": 8,
   "id": "c5811d37-d10b-49e8-a8ed-1e6d43caefa4",
   "metadata": {},
   "outputs": [],
   "source": [
    "network = Network()"
   ]
  },
  {
   "cell_type": "code",
   "execution_count": 9,
   "id": "41f7765b-45b8-4684-b820-4f75c9719857",
   "metadata": {},
   "outputs": [
    {
     "name": "stderr",
     "output_type": "stream",
     "text": [
      "LOCAL_RANK: 0 - CUDA_VISIBLE_DEVICES: [0]\n",
      "\n",
      "  | Name      | Type                   | Params\n",
      "-----------------------------------------------------\n",
      "0 | logratios | LogRatioEstimator_1dim | 17.4 K\n",
      "-----------------------------------------------------\n",
      "17.4 K    Trainable params\n",
      "0         Non-trainable params\n",
      "17.4 K    Total params\n",
      "0.139     Total estimated model params size (MB)\n"
     ]
    },
    {
     "name": "stdout",
     "output_type": "stream",
     "text": [
      "Epoch 0:  97%|█████████▋| 68/70 [00:01<00:00, 66.22it/s, loss=-0.543, v_num=53] \n",
      "Validation: 0it [00:00, ?it/s]\u001b[A\n",
      "Validation:   0%|          | 0/2 [00:00<?, ?it/s]\u001b[A\n",
      "Validation DataLoader 0:   0%|          | 0/2 [00:00<?, ?it/s]\u001b[A\n",
      "Epoch 0:  99%|█████████▊| 69/70 [00:01<00:00, 53.78it/s, loss=-0.543, v_num=53]\n",
      "Epoch 0: 100%|██████████| 70/70 [00:01<00:00, 53.00it/s, loss=-0.543, v_num=53, val_loss=-.526]\n",
      "Epoch 1:  97%|█████████▋| 68/70 [00:01<00:00, 65.55it/s, loss=-0.587, v_num=53, val_loss=-.526]\n",
      "Validation: 0it [00:00, ?it/s]\u001b[A\n",
      "Validation:   0%|          | 0/2 [00:00<?, ?it/s]\u001b[A\n",
      "Validation DataLoader 0:   0%|          | 0/2 [00:00<?, ?it/s]\u001b[A\n",
      "Epoch 1:  99%|█████████▊| 69/70 [00:01<00:00, 52.48it/s, loss=-0.587, v_num=53, val_loss=-.526]\n",
      "Epoch 1: 100%|██████████| 70/70 [00:01<00:00, 51.18it/s, loss=-0.587, v_num=53, val_loss=-.526]\n",
      "Epoch 2:  97%|█████████▋| 68/70 [00:01<00:00, 61.50it/s, loss=-0.571, v_num=53, val_loss=-.526]\n",
      "Validation: 0it [00:00, ?it/s]\u001b[A\n",
      "Validation:   0%|          | 0/2 [00:00<?, ?it/s]\u001b[A\n",
      "Validation DataLoader 0:   0%|          | 0/2 [00:00<?, ?it/s]\u001b[A\n",
      "Epoch 2:  99%|█████████▊| 69/70 [00:01<00:00, 46.57it/s, loss=-0.571, v_num=53, val_loss=-.526]\n",
      "Epoch 2: 100%|██████████| 70/70 [00:01<00:00, 46.88it/s, loss=-0.571, v_num=53, val_loss=-.529]\n",
      "Epoch 3:  97%|█████████▋| 68/70 [00:01<00:00, 61.21it/s, loss=-0.575, v_num=53, val_loss=-.529]\n",
      "Validation: 0it [00:00, ?it/s]\u001b[A\n",
      "Validation:   0%|          | 0/2 [00:00<?, ?it/s]\u001b[A\n",
      "Validation DataLoader 0:   0%|          | 0/2 [00:00<?, ?it/s]\u001b[A\n",
      "Epoch 3:  99%|█████████▊| 69/70 [00:01<00:00, 44.77it/s, loss=-0.575, v_num=53, val_loss=-.529]\n",
      "Epoch 3: 100%|██████████| 70/70 [00:01<00:00, 45.15it/s, loss=-0.575, v_num=53, val_loss=-.517]\n",
      "Epoch 4:  97%|█████████▋| 68/70 [00:01<00:00, 62.55it/s, loss=-0.569, v_num=53, val_loss=-.517]\n",
      "Validation: 0it [00:00, ?it/s]\u001b[A\n",
      "Validation:   0%|          | 0/2 [00:00<?, ?it/s]\u001b[A\n",
      "Validation DataLoader 0:   0%|          | 0/2 [00:00<?, ?it/s]\u001b[A\n",
      "Epoch 4:  99%|█████████▊| 69/70 [00:01<00:00, 49.84it/s, loss=-0.569, v_num=53, val_loss=-.517]\n",
      "Epoch 4: 100%|██████████| 70/70 [00:01<00:00, 49.35it/s, loss=-0.569, v_num=53, val_loss=-.535]\n",
      "Epoch 5:  97%|█████████▋| 68/70 [00:01<00:00, 64.67it/s, loss=-0.553, v_num=53, val_loss=-.535]\n",
      "Validation: 0it [00:00, ?it/s]\u001b[A\n",
      "Validation:   0%|          | 0/2 [00:00<?, ?it/s]\u001b[A\n",
      "Validation DataLoader 0:   0%|          | 0/2 [00:00<?, ?it/s]\u001b[A\n",
      "Epoch 5:  99%|█████████▊| 69/70 [00:01<00:00, 50.98it/s, loss=-0.553, v_num=53, val_loss=-.535]\n",
      "Epoch 5: 100%|██████████| 70/70 [00:01<00:00, 51.08it/s, loss=-0.553, v_num=53, val_loss=-.547]\n",
      "Epoch 6:  97%|█████████▋| 68/70 [00:01<00:00, 55.86it/s, loss=-0.565, v_num=53, val_loss=-.547]\n",
      "Validation: 0it [00:00, ?it/s]\u001b[A\n",
      "Validation:   0%|          | 0/2 [00:00<?, ?it/s]\u001b[A\n",
      "Validation DataLoader 0:   0%|          | 0/2 [00:00<?, ?it/s]\u001b[A\n",
      "Epoch 6:  99%|█████████▊| 69/70 [00:01<00:00, 43.95it/s, loss=-0.565, v_num=53, val_loss=-.547]\n",
      "Epoch 6: 100%|██████████| 70/70 [00:01<00:00, 44.27it/s, loss=-0.565, v_num=53, val_loss=-.534]\n",
      "Epoch 7:  97%|█████████▋| 68/70 [00:01<00:00, 61.57it/s, loss=-0.573, v_num=53, val_loss=-.534]\n",
      "Validation: 0it [00:00, ?it/s]\u001b[A\n",
      "Validation:   0%|          | 0/2 [00:00<?, ?it/s]\u001b[A\n",
      "Validation DataLoader 0:   0%|          | 0/2 [00:00<?, ?it/s]\u001b[A\n",
      "Epoch 7:  99%|█████████▊| 69/70 [00:01<00:00, 49.25it/s, loss=-0.573, v_num=53, val_loss=-.534]\n",
      "Epoch 7: 100%|██████████| 70/70 [00:01<00:00, 49.40it/s, loss=-0.573, v_num=53, val_loss=-.520]\n",
      "Epoch 8:  97%|█████████▋| 68/70 [00:01<00:00, 62.81it/s, loss=-0.573, v_num=53, val_loss=-.520]\n",
      "Validation: 0it [00:00, ?it/s]\u001b[A\n",
      "Validation:   0%|          | 0/2 [00:00<?, ?it/s]\u001b[A\n",
      "Validation DataLoader 0:   0%|          | 0/2 [00:00<?, ?it/s]\u001b[A\n",
      "Epoch 8:  99%|█████████▊| 69/70 [00:01<00:00, 46.57it/s, loss=-0.573, v_num=53, val_loss=-.520]\n",
      "Epoch 8: 100%|██████████| 70/70 [00:01<00:00, 46.99it/s, loss=-0.573, v_num=53, val_loss=-.539]\n",
      "Epoch 8: 100%|██████████| 70/70 [00:01<00:00, 46.34it/s, loss=-0.573, v_num=53, val_loss=-.539]\n"
     ]
    }
   ],
   "source": [
    "trainer.fit(network, dm)"
   ]
  },
  {
   "cell_type": "code",
   "execution_count": 10,
   "id": "8686a194-ee93-4f48-937d-9b9f92dbc397",
   "metadata": {},
   "outputs": [],
   "source": [
    "model_checkpoint.to_yaml(\"./test4.yaml\")"
   ]
  },
  {
   "cell_type": "code",
   "execution_count": 11,
   "id": "2d7406c7-15d8-4138-a2d1-8bbf6e1cca7e",
   "metadata": {},
   "outputs": [],
   "source": [
    "ckpt_path = swyft.best_from_yaml(\"./test4.yaml\")"
   ]
  },
  {
   "cell_type": "code",
   "execution_count": 12,
   "id": "2863fb41-2d1a-49db-a8f6-29ce8325356f",
   "metadata": {},
   "outputs": [
    {
     "name": "stderr",
     "output_type": "stream",
     "text": [
      "Restoring states from the checkpoint path at ./lightning_logs/Test1/version_53/checkpoints/epoch=5-step=408.ckpt\n",
      "LOCAL_RANK: 0 - CUDA_VISIBLE_DEVICES: [0]\n",
      "Loaded model weights from checkpoint at ./lightning_logs/Test1/version_53/checkpoints/epoch=5-step=408.ckpt\n"
     ]
    },
    {
     "name": "stdout",
     "output_type": "stream",
     "text": [
      "Testing DataLoader 0: 100%|██████████| 9/9 [00:00<00:00, 100.01it/s]\n"
     ]
    },
    {
     "data": {
      "text/html": [
       "<pre style=\"white-space:pre;overflow-x:auto;line-height:normal;font-family:Menlo,'DejaVu Sans Mono',consolas,'Courier New',monospace\">┏━━━━━━━━━━━━━━━━━━━━━━━━━━━┳━━━━━━━━━━━━━━━━━━━━━━━━━━━┓\n",
       "┃<span style=\"font-weight: bold\">        Test metric        </span>┃<span style=\"font-weight: bold\">       DataLoader 0        </span>┃\n",
       "┡━━━━━━━━━━━━━━━━━━━━━━━━━━━╇━━━━━━━━━━━━━━━━━━━━━━━━━━━┩\n",
       "│<span style=\"color: #008080; text-decoration-color: #008080\">         test_loss         </span>│<span style=\"color: #800080; text-decoration-color: #800080\">    -0.5928590465564723    </span>│\n",
       "└───────────────────────────┴───────────────────────────┘\n",
       "</pre>\n"
      ],
      "text/plain": [
       "┏━━━━━━━━━━━━━━━━━━━━━━━━━━━┳━━━━━━━━━━━━━━━━━━━━━━━━━━━┓\n",
       "┃\u001b[1m \u001b[0m\u001b[1m       Test metric       \u001b[0m\u001b[1m \u001b[0m┃\u001b[1m \u001b[0m\u001b[1m      DataLoader 0       \u001b[0m\u001b[1m \u001b[0m┃\n",
       "┡━━━━━━━━━━━━━━━━━━━━━━━━━━━╇━━━━━━━━━━━━━━━━━━━━━━━━━━━┩\n",
       "│\u001b[36m \u001b[0m\u001b[36m        test_loss        \u001b[0m\u001b[36m \u001b[0m│\u001b[35m \u001b[0m\u001b[35m   -0.5928590465564723   \u001b[0m\u001b[35m \u001b[0m│\n",
       "└───────────────────────────┴───────────────────────────┘\n"
      ]
     },
     "metadata": {},
     "output_type": "display_data"
    },
    {
     "data": {
      "text/plain": [
       "[{'test_loss': -0.5928590465564723}]"
      ]
     },
     "execution_count": 12,
     "metadata": {},
     "output_type": "execute_result"
    }
   ],
   "source": [
    "trainer.test(network, dm, ckpt_path = ckpt_path)"
   ]
  },
  {
   "cell_type": "code",
   "execution_count": null,
   "id": "cc701a6c-de14-4561-a0f1-42ae6f02866e",
   "metadata": {},
   "outputs": [],
   "source": []
  }
 ],
 "metadata": {
  "kernelspec": {
   "display_name": "Python 3",
   "language": "python",
   "name": "python3"
  },
  "language_info": {
   "codemirror_mode": {
    "name": "ipython",
    "version": 3
   },
   "file_extension": ".py",
   "mimetype": "text/x-python",
   "name": "python",
   "nbconvert_exporter": "python",
   "pygments_lexer": "ipython3",
   "version": "3.9.7"
  }
 },
 "nbformat": 4,
 "nbformat_minor": 5
}
