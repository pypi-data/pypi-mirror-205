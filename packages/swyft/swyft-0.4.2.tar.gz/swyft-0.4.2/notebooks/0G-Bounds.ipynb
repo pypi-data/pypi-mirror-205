{
 "cells": [
  {
   "cell_type": "markdown",
   "id": "b4c7a3f1-ab43-432e-a64f-b7f1358a24da",
   "metadata": {},
   "source": [
    "# Bounds\n",
    "\n",
    "First we need some imports."
   ]
  },
  {
   "cell_type": "code",
   "execution_count": 1,
   "id": "8e9d04e5-d08e-46ab-a520-4547dedf0487",
   "metadata": {},
   "outputs": [],
   "source": [
    "%load_ext autoreload\n",
    "%autoreload 2"
   ]
  },
  {
   "cell_type": "code",
   "execution_count": 2,
   "id": "0297c907",
   "metadata": {},
   "outputs": [],
   "source": [
    "import numpy as np\n",
    "from scipy import stats\n",
    "import pylab as plt\n",
    "import torch\n",
    "import torchist\n",
    "import swyft\n",
    "import pytorch_lightning as pl"
   ]
  },
  {
   "cell_type": "markdown",
   "id": "ab99366b-0783-46f5-be2d-80cbbb85e163",
   "metadata": {
    "tags": []
   },
   "source": [
    "## Training data\n",
    "\n",
    "Now we generate training data.  As simple example, we consider the model\n",
    "\n",
    "$$\n",
    "x = z + \\epsilon\n",
    "$$\n",
    "\n",
    "where the parameter $z \\sim \\mathcal{N}(\\mu = 0, \\sigma = 1)$ is standard normal distributed, and $\\epsilon \\sim \\mathcal{N}(\\mu = 0, \\sigma = 0.1)$ is a small noise contribution.  We are interested in the posterior of $z$ given a measurement of parameter $x$."
   ]
  },
  {
   "cell_type": "code",
   "execution_count": 3,
   "id": "c0439f14-d49f-4e52-8916-49a785daede5",
   "metadata": {},
   "outputs": [],
   "source": [
    "class Simulator(swyft.Simulator):\n",
    "    def __init__(self, bounds = None):\n",
    "        super().__init__()\n",
    "        self.transform_samples = swyft.to_numpy32\n",
    "        self.z_sampler = swyft.RectBoundSampler(stats.norm([0], [1]), bounds = bounds.params[0,0] if bounds else None)\n",
    "\n",
    "    def build(self, graph):\n",
    "        z = graph.node('z', self.z_sampler)\n",
    "        x = graph.node('x', lambda z: z + np.random.randn(1)*0.1, z)\n",
    "        \n",
    "sim = Simulator(bounds = None)"
   ]
  },
  {
   "cell_type": "code",
   "execution_count": 4,
   "id": "4a1ed06f-9bbe-460d-bda3-400a3eaee6f5",
   "metadata": {},
   "outputs": [
    {
     "name": "stderr",
     "output_type": "stream",
     "text": [
      "100%|██████████| 10000/10000 [00:08<00:00, 1221.85it/s]\n"
     ]
    }
   ],
   "source": [
    "samples = sim.sample(10000)"
   ]
  },
  {
   "cell_type": "code",
   "execution_count": 5,
   "id": "3e6dc7e9-ff0a-479d-a4e8-fd8025717327",
   "metadata": {},
   "outputs": [],
   "source": [
    "class Network(swyft.SwyftModule):\n",
    "    def __init__(self):\n",
    "        super().__init__()\n",
    "        self.logratios = swyft.LogRatioEstimator_1dim(num_features = 1, num_params = 1, varnames = 'z')\n",
    "\n",
    "    def forward(self, A, B):\n",
    "        logratios = self.logratios(A['x'], B['z'])\n",
    "        return logratios"
   ]
  },
  {
   "cell_type": "markdown",
   "id": "2554dbed-fc91-45d2-bfa7-418cdaad67b6",
   "metadata": {},
   "source": [
    "## Trainer\n",
    "\n",
    "Training is now done using the `SwyftTrainer` class, which extends `pytorch_lightning.Trainer` by methods like `infer` (see below)."
   ]
  },
  {
   "cell_type": "code",
   "execution_count": 6,
   "id": "5683ce37-a8d0-4ed7-94a6-512ccc7babcb",
   "metadata": {},
   "outputs": [
    {
     "name": "stderr",
     "output_type": "stream",
     "text": [
      "GPU available: True (cuda), used: True\n",
      "TPU available: False, using: 0 TPU cores\n",
      "IPU available: False, using: 0 IPUs\n",
      "HPU available: False, using: 0 HPUs\n"
     ]
    }
   ],
   "source": [
    "model_checkpoint = pl.callbacks.ModelCheckpoint(monitor = 'val_loss', save_top_k = 1)\n",
    "logger = pl.loggers.TensorBoardLogger(\"./lightning_logs\", name = \"Test1\")\n",
    "trainer = swyft.SwyftTrainer(accelerator = 'gpu', max_epochs = 20, precision = 64, logger = logger, callbacks = [model_checkpoint])"
   ]
  },
  {
   "cell_type": "markdown",
   "id": "053eff99-5d2b-4419-bce7-d938831b623e",
   "metadata": {},
   "source": [
    "The `swyft.Samples` class provides convenience functions to generate data loaders for training and validation data."
   ]
  },
  {
   "cell_type": "code",
   "execution_count": 7,
   "id": "b1b09c64-a0e4-4d69-a639-a5843efac80c",
   "metadata": {},
   "outputs": [],
   "source": [
    "dm = swyft.SwyftDataModule(samples, fractions = [0.8, 0.02, 0.1], num_workers = 3, batch_size = 256)"
   ]
  },
  {
   "cell_type": "code",
   "execution_count": 8,
   "id": "c5811d37-d10b-49e8-a8ed-1e6d43caefa4",
   "metadata": {},
   "outputs": [],
   "source": [
    "network = Network()"
   ]
  },
  {
   "cell_type": "code",
   "execution_count": 9,
   "id": "41f7765b-45b8-4684-b820-4f75c9719857",
   "metadata": {},
   "outputs": [
    {
     "name": "stderr",
     "output_type": "stream",
     "text": [
      "LOCAL_RANK: 0 - CUDA_VISIBLE_DEVICES: [0]\n",
      "\n",
      "  | Name      | Type                   | Params\n",
      "-----------------------------------------------------\n",
      "0 | logratios | LogRatioEstimator_1dim | 17.4 K\n",
      "-----------------------------------------------------\n",
      "17.4 K    Trainable params\n",
      "0         Non-trainable params\n",
      "17.4 K    Total params\n",
      "0.139     Total estimated model params size (MB)\n"
     ]
    },
    {
     "name": "stdout",
     "output_type": "stream",
     "text": [
      "                                                                           "
     ]
    },
    {
     "name": "stderr",
     "output_type": "stream",
     "text": [
      "/home/weniger/miniconda3b/envs/zero/lib/python3.9/site-packages/pytorch_lightning/trainer/trainer.py:1894: PossibleUserWarning: The number of training batches (34) is smaller than the logging interval Trainer(log_every_n_steps=50). Set a lower value for log_every_n_steps if you want to see logs for the training epoch.\n",
      "  rank_zero_warn(\n"
     ]
    },
    {
     "name": "stdout",
     "output_type": "stream",
     "text": [
      "Epoch 0:  97%|█████████▋| 34/35 [00:00<00:00, 55.22it/s, loss=-0.932, v_num=54] \n",
      "Validation: 0it [00:00, ?it/s]\u001b[A\n",
      "Validation:   0%|          | 0/1 [00:00<?, ?it/s]\u001b[A\n",
      "Validation DataLoader 0:   0%|          | 0/1 [00:00<?, ?it/s]\u001b[A\n",
      "Epoch 0: 100%|██████████| 35/35 [00:00<00:00, 35.75it/s, loss=-0.932, v_num=54, val_loss=-.676]\n",
      "Epoch 1:  97%|█████████▋| 34/35 [00:00<00:00, 52.57it/s, loss=-0.966, v_num=54, val_loss=-.676]\n",
      "Validation: 0it [00:00, ?it/s]\u001b[A\n",
      "Validation:   0%|          | 0/1 [00:00<?, ?it/s]\u001b[A\n",
      "Validation DataLoader 0:   0%|          | 0/1 [00:00<?, ?it/s]\u001b[A\n",
      "Epoch 1: 100%|██████████| 35/35 [00:01<00:00, 32.47it/s, loss=-0.966, v_num=54, val_loss=-.927]\n",
      "Epoch 2:  97%|█████████▋| 34/35 [00:00<00:00, 47.42it/s, loss=-0.965, v_num=54, val_loss=-.927]\n",
      "Validation: 0it [00:00, ?it/s]\u001b[A\n",
      "Validation:   0%|          | 0/1 [00:00<?, ?it/s]\u001b[A\n",
      "Validation DataLoader 0:   0%|          | 0/1 [00:00<?, ?it/s]\u001b[A\n",
      "Epoch 2: 100%|██████████| 35/35 [00:01<00:00, 34.45it/s, loss=-0.965, v_num=54, val_loss=-.941]\n",
      "Epoch 3:  97%|█████████▋| 34/35 [00:00<00:00, 54.49it/s, loss=-0.959, v_num=54, val_loss=-.941]\n",
      "Validation: 0it [00:00, ?it/s]\u001b[A\n",
      "Validation:   0%|          | 0/1 [00:00<?, ?it/s]\u001b[A\n",
      "Validation DataLoader 0:   0%|          | 0/1 [00:00<?, ?it/s]\u001b[A\n",
      "Epoch 3: 100%|██████████| 35/35 [00:00<00:00, 36.50it/s, loss=-0.959, v_num=54, val_loss=-.943]\n",
      "Epoch 4:  97%|█████████▋| 34/35 [00:00<00:00, 46.98it/s, loss=-0.972, v_num=54, val_loss=-.943]\n",
      "Validation: 0it [00:00, ?it/s]\u001b[A\n",
      "Validation:   0%|          | 0/1 [00:00<?, ?it/s]\u001b[A\n",
      "Validation DataLoader 0:   0%|          | 0/1 [00:00<?, ?it/s]\u001b[A\n",
      "Epoch 4: 100%|██████████| 35/35 [00:01<00:00, 33.03it/s, loss=-0.972, v_num=54, val_loss=-.925]\n",
      "Epoch 5:  97%|█████████▋| 34/35 [00:00<00:00, 53.99it/s, loss=-0.976, v_num=54, val_loss=-.925]\n",
      "Validation: 0it [00:00, ?it/s]\u001b[A\n",
      "Validation:   0%|          | 0/1 [00:00<?, ?it/s]\u001b[A\n",
      "Validation DataLoader 0:   0%|          | 0/1 [00:00<?, ?it/s]\u001b[A\n",
      "Epoch 5: 100%|██████████| 35/35 [00:00<00:00, 39.04it/s, loss=-0.976, v_num=54, val_loss=-.941]\n",
      "Epoch 6:  97%|█████████▋| 34/35 [00:00<00:00, 51.17it/s, loss=-0.974, v_num=54, val_loss=-.941]\n",
      "Validation: 0it [00:00, ?it/s]\u001b[A\n",
      "Validation:   0%|          | 0/1 [00:00<?, ?it/s]\u001b[A\n",
      "Validation DataLoader 0:   0%|          | 0/1 [00:00<?, ?it/s]\u001b[A\n",
      "Epoch 6: 100%|██████████| 35/35 [00:00<00:00, 38.60it/s, loss=-0.974, v_num=54, val_loss=-.947]\n",
      "Epoch 7:  97%|█████████▋| 34/35 [00:00<00:00, 48.07it/s, loss=-0.967, v_num=54, val_loss=-.947]\n",
      "Validation: 0it [00:00, ?it/s]\u001b[A\n",
      "Validation:   0%|          | 0/1 [00:00<?, ?it/s]\u001b[A\n",
      "Validation DataLoader 0:   0%|          | 0/1 [00:00<?, ?it/s]\u001b[A\n",
      "Epoch 7: 100%|██████████| 35/35 [00:01<00:00, 32.99it/s, loss=-0.967, v_num=54, val_loss=-.942]\n",
      "Epoch 8:  97%|█████████▋| 34/35 [00:00<00:00, 57.84it/s, loss=-0.966, v_num=54, val_loss=-.942]\n",
      "Validation: 0it [00:00, ?it/s]\u001b[A\n",
      "Validation:   0%|          | 0/1 [00:00<?, ?it/s]\u001b[A\n",
      "Validation DataLoader 0:   0%|          | 0/1 [00:00<?, ?it/s]\u001b[A\n",
      "Epoch 8: 100%|██████████| 35/35 [00:00<00:00, 37.35it/s, loss=-0.966, v_num=54, val_loss=-.944]\n",
      "Epoch 9:  97%|█████████▋| 34/35 [00:00<00:00, 52.04it/s, loss=-0.956, v_num=54, val_loss=-.944]\n",
      "Validation: 0it [00:00, ?it/s]\u001b[A\n",
      "Validation:   0%|          | 0/1 [00:00<?, ?it/s]\u001b[A\n",
      "Validation DataLoader 0:   0%|          | 0/1 [00:00<?, ?it/s]\u001b[A\n",
      "Epoch 9: 100%|██████████| 35/35 [00:00<00:00, 36.01it/s, loss=-0.956, v_num=54, val_loss=-.947]\n",
      "Epoch 10:  97%|█████████▋| 34/35 [00:00<00:00, 53.66it/s, loss=-0.976, v_num=54, val_loss=-.947]\n",
      "Validation: 0it [00:00, ?it/s]\u001b[A\n",
      "Validation:   0%|          | 0/1 [00:00<?, ?it/s]\u001b[A\n",
      "Validation DataLoader 0:   0%|          | 0/1 [00:00<?, ?it/s]\u001b[A\n",
      "Epoch 10: 100%|██████████| 35/35 [00:00<00:00, 41.58it/s, loss=-0.976, v_num=54, val_loss=-.937]\n",
      "Epoch 11:  97%|█████████▋| 34/35 [00:00<00:00, 46.99it/s, loss=-0.965, v_num=54, val_loss=-.937]\n",
      "Validation: 0it [00:00, ?it/s]\u001b[A\n",
      "Validation:   0%|          | 0/1 [00:00<?, ?it/s]\u001b[A\n",
      "Validation DataLoader 0:   0%|          | 0/1 [00:00<?, ?it/s]\u001b[A\n",
      "Epoch 11: 100%|██████████| 35/35 [00:01<00:00, 33.30it/s, loss=-0.965, v_num=54, val_loss=-.935]\n",
      "Epoch 12:  97%|█████████▋| 34/35 [00:00<00:00, 49.78it/s, loss=-0.972, v_num=54, val_loss=-.935]\n",
      "Validation: 0it [00:00, ?it/s]\u001b[A\n",
      "Validation:   0%|          | 0/1 [00:00<?, ?it/s]\u001b[A\n",
      "Validation DataLoader 0:   0%|          | 0/1 [00:00<?, ?it/s]\u001b[A\n",
      "Epoch 12: 100%|██████████| 35/35 [00:01<00:00, 33.83it/s, loss=-0.972, v_num=54, val_loss=-.932]\n",
      "Epoch 13:  97%|█████████▋| 34/35 [00:00<00:00, 49.08it/s, loss=-0.972, v_num=54, val_loss=-.932]\n",
      "Validation: 0it [00:00, ?it/s]\u001b[A\n",
      "Validation:   0%|          | 0/1 [00:00<?, ?it/s]\u001b[A\n",
      "Validation DataLoader 0:   0%|          | 0/1 [00:00<?, ?it/s]\u001b[A\n",
      "Epoch 13: 100%|██████████| 35/35 [00:00<00:00, 36.06it/s, loss=-0.972, v_num=54, val_loss=-.946]\n",
      "Epoch 14:  97%|█████████▋| 34/35 [00:00<00:00, 50.02it/s, loss=-0.965, v_num=54, val_loss=-.946]\n",
      "Validation: 0it [00:00, ?it/s]\u001b[A\n",
      "Validation:   0%|          | 0/1 [00:00<?, ?it/s]\u001b[A\n",
      "Validation DataLoader 0:   0%|          | 0/1 [00:00<?, ?it/s]\u001b[A\n",
      "Epoch 14: 100%|██████████| 35/35 [00:00<00:00, 36.56it/s, loss=-0.965, v_num=54, val_loss=-.944]\n",
      "Epoch 15:  97%|█████████▋| 34/35 [00:00<00:00, 53.10it/s, loss=-0.969, v_num=54, val_loss=-.944]\n",
      "Validation: 0it [00:00, ?it/s]\u001b[A\n",
      "Validation:   0%|          | 0/1 [00:00<?, ?it/s]\u001b[A\n",
      "Validation DataLoader 0:   0%|          | 0/1 [00:00<?, ?it/s]\u001b[A\n",
      "Epoch 15: 100%|██████████| 35/35 [00:00<00:00, 38.36it/s, loss=-0.969, v_num=54, val_loss=-.943]\n",
      "Epoch 16:  97%|█████████▋| 34/35 [00:00<00:00, 45.45it/s, loss=-0.968, v_num=54, val_loss=-.943]\n",
      "Validation: 0it [00:00, ?it/s]\u001b[A\n",
      "Validation:   0%|          | 0/1 [00:00<?, ?it/s]\u001b[A\n",
      "Validation DataLoader 0:   0%|          | 0/1 [00:00<?, ?it/s]\u001b[A\n",
      "Epoch 16: 100%|██████████| 35/35 [00:01<00:00, 32.26it/s, loss=-0.968, v_num=54, val_loss=-.948]\n",
      "Epoch 17:  97%|█████████▋| 34/35 [00:00<00:00, 49.43it/s, loss=-0.989, v_num=54, val_loss=-.948]\n",
      "Validation: 0it [00:00, ?it/s]\u001b[A\n",
      "Validation:   0%|          | 0/1 [00:00<?, ?it/s]\u001b[A\n",
      "Validation DataLoader 0:   0%|          | 0/1 [00:00<?, ?it/s]\u001b[A\n",
      "Epoch 17: 100%|██████████| 35/35 [00:01<00:00, 33.66it/s, loss=-0.989, v_num=54, val_loss=-.946]\n",
      "Epoch 18:  97%|█████████▋| 34/35 [00:00<00:00, 50.29it/s, loss=-0.972, v_num=54, val_loss=-.946]\n",
      "Validation: 0it [00:00, ?it/s]\u001b[A\n",
      "Validation:   0%|          | 0/1 [00:00<?, ?it/s]\u001b[A\n",
      "Validation DataLoader 0:   0%|          | 0/1 [00:00<?, ?it/s]\u001b[A\n",
      "Epoch 18: 100%|██████████| 35/35 [00:01<00:00, 34.25it/s, loss=-0.972, v_num=54, val_loss=-.943]\n",
      "Epoch 19:  97%|█████████▋| 34/35 [00:00<00:00, 51.76it/s, loss=-0.992, v_num=54, val_loss=-.943]\n",
      "Validation: 0it [00:00, ?it/s]\u001b[A\n",
      "Validation:   0%|          | 0/1 [00:00<?, ?it/s]\u001b[A\n",
      "Validation DataLoader 0:   0%|          | 0/1 [00:00<?, ?it/s]\u001b[A\n",
      "Epoch 19: 100%|██████████| 35/35 [00:00<00:00, 36.06it/s, loss=-0.992, v_num=54, val_loss=-.945]\n",
      "Epoch 19: 100%|██████████| 35/35 [00:00<00:00, 35.96it/s, loss=-0.992, v_num=54, val_loss=-.945]"
     ]
    },
    {
     "name": "stderr",
     "output_type": "stream",
     "text": [
      "`Trainer.fit` stopped: `max_epochs=20` reached.\n"
     ]
    },
    {
     "name": "stdout",
     "output_type": "stream",
     "text": [
      "Epoch 19: 100%|██████████| 35/35 [00:00<00:00, 35.84it/s, loss=-0.992, v_num=54, val_loss=-.945]\n"
     ]
    }
   ],
   "source": [
    "trainer.fit(network, dm)"
   ]
  },
  {
   "cell_type": "code",
   "execution_count": 10,
   "id": "6712af91-b48c-4ab8-b9ca-a6bacd31d3de",
   "metadata": {},
   "outputs": [
    {
     "name": "stderr",
     "output_type": "stream",
     "text": [
      "100%|██████████| 10000/10000 [00:08<00:00, 1237.94it/s]\n"
     ]
    }
   ],
   "source": [
    "prior_samples = sim.sample(N = 10000, targets = ['z'])"
   ]
  },
  {
   "cell_type": "code",
   "execution_count": 11,
   "id": "796e5339-1473-40cb-8183-54a7ef22d118",
   "metadata": {},
   "outputs": [],
   "source": [
    "obs = swyft.Sample(x = np.array([0.3]))"
   ]
  },
  {
   "cell_type": "code",
   "execution_count": 12,
   "id": "2f38bf37-5a4d-4a4a-a680-17312f8ab9ce",
   "metadata": {},
   "outputs": [
    {
     "name": "stderr",
     "output_type": "stream",
     "text": [
      "LOCAL_RANK: 0 - CUDA_VISIBLE_DEVICES: [0]\n"
     ]
    },
    {
     "name": "stdout",
     "output_type": "stream",
     "text": [
      "Predicting DataLoader 0:  30%|███       | 3/10 [00:00<00:00, 153.42it/s]"
     ]
    },
    {
     "name": "stderr",
     "output_type": "stream",
     "text": [
      "/home/weniger/miniconda3b/envs/zero/lib/python3.9/site-packages/pytorch_lightning/loops/epoch/prediction_epoch_loop.py:173: UserWarning: Lightning couldn't infer the indices fetched for your dataloader.\n",
      "  warning_cache.warn(\"Lightning couldn't infer the indices fetched for your dataloader.\")\n"
     ]
    },
    {
     "name": "stdout",
     "output_type": "stream",
     "text": [
      "Predicting DataLoader 0: 100%|██████████| 10/10 [00:00<00:00, 155.68it/s]\n"
     ]
    }
   ],
   "source": [
    "logratios = trainer.infer(network, obs, prior_samples)"
   ]
  },
  {
   "cell_type": "code",
   "execution_count": 13,
   "id": "9ecf1e03-0ae4-4f82-a8b0-f166b97093eb",
   "metadata": {},
   "outputs": [
    {
     "data": {
      "image/png": "[encoded data removed]",
      "text/plain": [
       "<Figure size 432x288 with 1 Axes>"
      ]
     },
     "metadata": {
      "needs_background": "light"
     },
     "output_type": "display_data"
    }
   ],
   "source": [
    "swyft.plot_1d(logratios, \"z[0]\", ax = plt.gca(), smooth = 1, bins = 30)"
   ]
  },
  {
   "cell_type": "code",
   "execution_count": 14,
   "id": "0a245da6-52a0-48d4-abb6-c3431f77d46a",
   "metadata": {},
   "outputs": [
    {
     "data": {
      "text/plain": [
       "RectangleBounds(params=tensor([[[-1.7873,  2.2994]]], dtype=torch.float64), parnames=array([['z[0]']], dtype='<U4'))"
      ]
     },
     "execution_count": 14,
     "metadata": {},
     "output_type": "execute_result"
    }
   ],
   "source": [
    "bounds = swyft.lightning.bounds.get_rect_bounds(logratios, threshold = 1e-6)\n",
    "bounds"
   ]
  },
  {
   "cell_type": "code",
   "execution_count": null,
   "id": "15f609f4-6b40-4a57-8632-da7f638e1317",
   "metadata": {},
   "outputs": [],
   "source": []
  }
 ],
 "metadata": {
  "kernelspec": {
   "display_name": "Python 3",
   "language": "python",
   "name": "python3"
  },
  "language_info": {
   "codemirror_mode": {
    "name": "ipython",
    "version": 3
   },
   "file_extension": ".py",
   "mimetype": "text/x-python",
   "name": "python",
   "nbconvert_exporter": "python",
   "pygments_lexer": "ipython3",
   "version": "3.9.7"
  }
 },
 "nbformat": 4,
 "nbformat_minor": 5
}
