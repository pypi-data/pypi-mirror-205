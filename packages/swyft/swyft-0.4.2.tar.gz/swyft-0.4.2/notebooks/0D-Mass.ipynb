{
 "cells": [
  {
   "cell_type": "markdown",
   "id": "b4c7a3f1-ab43-432e-a64f-b7f1358a24da",
   "metadata": {},
   "source": [
    "# Mass estimation\n",
    "\n",
    "First we need some imports."
   ]
  },
  {
   "cell_type": "code",
   "execution_count": 1,
   "id": "8e9d04e5-d08e-46ab-a520-4547dedf0487",
   "metadata": {},
   "outputs": [],
   "source": [
    "%load_ext autoreload\n",
    "%autoreload 2"
   ]
  },
  {
   "cell_type": "code",
   "execution_count": 2,
   "id": "0297c907",
   "metadata": {},
   "outputs": [],
   "source": [
    "import numpy as np\n",
    "from scipy import stats\n",
    "import pylab as plt\n",
    "import torch\n",
    "import torchist\n",
    "import swyft"
   ]
  },
  {
   "cell_type": "markdown",
   "id": "ab99366b-0783-46f5-be2d-80cbbb85e163",
   "metadata": {
    "tags": []
   },
   "source": [
    "## Training data\n",
    "\n",
    "Now we generate training data.  As simple example, we consider the model\n",
    "\n",
    "$$\n",
    "x = z + \\epsilon\n",
    "$$\n",
    "\n",
    "where the parameter $z \\sim \\mathcal{N}(\\mu = 0, \\sigma = 1)$ is standard normal distributed, and $\\epsilon \\sim \\mathcal{N}(\\mu = 0, \\sigma = 0.1)$ is a small noise contribution.  We are interested in the posterior of $z$ given a measurement of parameter $x$."
   ]
  },
  {
   "cell_type": "code",
   "execution_count": 3,
   "id": "c0439f14-d49f-4e52-8916-49a785daede5",
   "metadata": {},
   "outputs": [],
   "source": [
    "N = 100000  # Number of samples\n",
    "z = np.random.rand(N, 3)*2 - 1\n",
    "r = (z[:,0]**2 + z[:,1]**2)**0.5\n",
    "x = r.reshape(N, 1) + np.random.randn(N, 1)*0.1"
   ]
  },
  {
   "cell_type": "markdown",
   "id": "0fc90b4f-dd7e-43fb-af9a-7664f43787ab",
   "metadata": {},
   "source": [
    "Training data that is kept in memory is stored in a `swyft.Samples` object."
   ]
  },
  {
   "cell_type": "code",
   "execution_count": 4,
   "id": "315a3a80-c59b-4daf-b846-afb452b7575c",
   "metadata": {},
   "outputs": [],
   "source": [
    "samples = swyft.Samples(x = x, z = z)"
   ]
  },
  {
   "cell_type": "markdown",
   "id": "c3380509-cb9d-415d-b5f8-787ab75b10f7",
   "metadata": {},
   "source": [
    "## Inference network\n",
    "\n",
    "The inference network is an instance of `swyft.SwyftModule`.  It estimates ratios of the form\n",
    "$$\n",
    "r(A; B) = \\frac{p(A, B)}{p(A)p(B)}\\;,\n",
    "$$\n",
    "where $A$ and $B$ refer to any subset of variables in the training data.  In the below example, we set $A \\to x$ and $B \\to z$.\n",
    "\n",
    "We use here a standard dense network, `swyft.RatioEstimatorMLP1d`, for mapping $x$ and $z$ onto a ratio estimator object."
   ]
  },
  {
   "cell_type": "code",
   "execution_count": 5,
   "id": "3e6dc7e9-ff0a-479d-a4e8-fd8025717327",
   "metadata": {},
   "outputs": [],
   "source": [
    "class Network(swyft.SwyftModule):\n",
    "    def __init__(self):\n",
    "        super().__init__()\n",
    "        marginals = ((0, 1),)\n",
    "        self.logratios1 = swyft.LogRatioEstimator_1dim(num_features = 1, num_params = 3, varnames = 'z')\n",
    "        self.logratios2 = swyft.LogRatioEstimator_Ndim(num_features = 1, marginals = marginals, varnames = 'z')\n",
    "\n",
    "    def forward(self, A, B):\n",
    "        logratios1 = self.logratios1(A['x'], B['z'])\n",
    "        logratios2 = self.logratios2(A['x'], B['z'])\n",
    "        return logratios1, logratios2"
   ]
  },
  {
   "cell_type": "markdown",
   "id": "2554dbed-fc91-45d2-bfa7-418cdaad67b6",
   "metadata": {},
   "source": [
    "## Trainer\n",
    "\n",
    "Training is now done using the `SwyftTrainer` class, which extends `pytorch_lightning.Trainer` by methods like `infer` (see below)."
   ]
  },
  {
   "cell_type": "code",
   "execution_count": 6,
   "id": "5683ce37-a8d0-4ed7-94a6-512ccc7babcb",
   "metadata": {},
   "outputs": [
    {
     "name": "stderr",
     "output_type": "stream",
     "text": [
      "/home/weniger/miniconda3b/envs/zero/lib/python3.9/site-packages/pytorch_lightning/trainer/connectors/accelerator_connector.py:446: LightningDeprecationWarning: Setting `Trainer(gpus=1)` is deprecated in v1.7 and will be removed in v2.0. Please use `Trainer(accelerator='gpu', devices=1)` instead.\n",
      "  rank_zero_deprecation(\n",
      "GPU available: True (cuda), used: True\n",
      "TPU available: False, using: 0 TPU cores\n",
      "IPU available: False, using: 0 IPUs\n",
      "HPU available: False, using: 0 HPUs\n"
     ]
    }
   ],
   "source": [
    "trainer = swyft.SwyftTrainer(accelerator = 'gpu', gpus=1, max_epochs = 1, precision = 64)"
   ]
  },
  {
   "cell_type": "markdown",
   "id": "053eff99-5d2b-4419-bce7-d938831b623e",
   "metadata": {},
   "source": [
    "The `swyft.Samples` class provides convenience functions to generate data loaders for training and validation data."
   ]
  },
  {
   "cell_type": "code",
   "execution_count": 7,
   "id": "60085c53-3c65-4851-ab71-ea369e365eda",
   "metadata": {},
   "outputs": [
    {
     "name": "stdout",
     "output_type": "stream",
     "text": [
      "WARNING: Deprecated\n",
      "WARNING: Deprecated\n"
     ]
    }
   ],
   "source": [
    "dl_train = samples[:2000].get_dataloader(batch_size = 512, shuffle = True)\n",
    "dl_valid = samples[2000:4000].get_dataloader(batch_size = 512)"
   ]
  },
  {
   "cell_type": "code",
   "execution_count": 8,
   "id": "c5811d37-d10b-49e8-a8ed-1e6d43caefa4",
   "metadata": {},
   "outputs": [],
   "source": [
    "network = Network()"
   ]
  },
  {
   "cell_type": "code",
   "execution_count": 9,
   "id": "41f7765b-45b8-4684-b820-4f75c9719857",
   "metadata": {},
   "outputs": [
    {
     "name": "stderr",
     "output_type": "stream",
     "text": [
      "/home/weniger/miniconda3b/envs/zero/lib/python3.9/site-packages/pytorch_lightning/callbacks/model_checkpoint.py:616: UserWarning: Checkpoint directory /home/weniger/codes/swyft/notebooks/lightning_logs/version_10053910/checkpoints exists and is not empty.\n",
      "  rank_zero_warn(f\"Checkpoint directory {dirpath} exists and is not empty.\")\n",
      "LOCAL_RANK: 0 - CUDA_VISIBLE_DEVICES: [0]\n",
      "\n",
      "  | Name       | Type                   | Params\n",
      "------------------------------------------------------\n",
      "0 | logratios1 | LogRatioEstimator_1dim | 52.2 K\n",
      "1 | logratios2 | LogRatioEstimator_Ndim | 17.5 K\n",
      "------------------------------------------------------\n",
      "69.7 K    Trainable params\n",
      "0         Non-trainable params\n",
      "69.7 K    Total params\n",
      "0.558     Total estimated model params size (MB)\n"
     ]
    },
    {
     "data": {
      "application/vnd.jupyter.widget-view+json": {
       "model_id": "",
       "version_major": 2,
       "version_minor": 0
      },
      "text/plain": [
       "Sanity Checking: 0it [00:00, ?it/s]"
      ]
     },
     "metadata": {},
     "output_type": "display_data"
    },
    {
     "name": "stderr",
     "output_type": "stream",
     "text": [
      "/home/weniger/miniconda3b/envs/zero/lib/python3.9/site-packages/pytorch_lightning/trainer/connectors/data_connector.py:219: PossibleUserWarning: The dataloader, val_dataloader 0, does not have many workers which may be a bottleneck. Consider increasing the value of the `num_workers` argument` (try 24 which is the number of cpus on this machine) in the `DataLoader` init to improve performance.\n",
      "  rank_zero_warn(\n",
      "/home/weniger/miniconda3b/envs/zero/lib/python3.9/site-packages/pytorch_lightning/trainer/connectors/data_connector.py:219: PossibleUserWarning: The dataloader, train_dataloader, does not have many workers which may be a bottleneck. Consider increasing the value of the `num_workers` argument` (try 24 which is the number of cpus on this machine) in the `DataLoader` init to improve performance.\n",
      "  rank_zero_warn(\n",
      "/home/weniger/miniconda3b/envs/zero/lib/python3.9/site-packages/pytorch_lightning/trainer/trainer.py:1894: PossibleUserWarning: The number of training batches (4) is smaller than the logging interval Trainer(log_every_n_steps=50). Set a lower value for log_every_n_steps if you want to see logs for the training epoch.\n",
      "  rank_zero_warn(\n"
     ]
    },
    {
     "data": {
      "application/vnd.jupyter.widget-view+json": {
       "model_id": "df60409509f2479e91890ecca9a3a7d8",
       "version_major": 2,
       "version_minor": 0
      },
      "text/plain": [
       "Training: 0it [00:00, ?it/s]"
      ]
     },
     "metadata": {},
     "output_type": "display_data"
    },
    {
     "data": {
      "application/vnd.jupyter.widget-view+json": {
       "model_id": "",
       "version_major": 2,
       "version_minor": 0
      },
      "text/plain": [
       "Validation: 0it [00:00, ?it/s]"
      ]
     },
     "metadata": {},
     "output_type": "display_data"
    },
    {
     "name": "stderr",
     "output_type": "stream",
     "text": [
      "`Trainer.fit` stopped: `max_epochs=1` reached.\n"
     ]
    }
   ],
   "source": [
    "trainer.fit(network, dl_train, dl_valid)"
   ]
  },
  {
   "cell_type": "markdown",
   "id": "a7bd5cdf-d1d1-4bbc-b70a-387d8b0a22a3",
   "metadata": {},
   "source": [
    "## Coverage tests"
   ]
  },
  {
   "cell_type": "markdown",
   "id": "ee9bdb3a-243f-4457-b826-d7ec967f0a98",
   "metadata": {},
   "source": [
    "We first generate some prior samples."
   ]
  },
  {
   "cell_type": "code",
   "execution_count": 10,
   "id": "6ec1f09c-de11-4688-89bd-564f75a64bb8",
   "metadata": {},
   "outputs": [],
   "source": [
    "samples_prior = swyft.Samples(z = np.random.rand(10000, 3)*2-1)"
   ]
  },
  {
   "cell_type": "markdown",
   "id": "ca56fcb9-c1a3-4047-ac98-d6abe3f8368f",
   "metadata": {},
   "source": [
    "Then we can use the `test_coverage` method to estimate the probability mass contained in the smallest highest-likelihood regions that contain the true parameter."
   ]
  },
  {
   "cell_type": "code",
   "execution_count": 11,
   "id": "8f6d74d6-464d-4ae7-b933-237193ec200a",
   "metadata": {},
   "outputs": [
    {
     "name": "stdout",
     "output_type": "stream",
     "text": [
      "WARNING: This estimates the mass of highest-likelihood intervals.\n",
      "WARNING: Deprecated\n",
      "WARNING: Deprecated\n"
     ]
    },
    {
     "name": "stderr",
     "output_type": "stream",
     "text": [
      "LOCAL_RANK: 0 - CUDA_VISIBLE_DEVICES: [0]\n"
     ]
    },
    {
     "data": {
      "application/vnd.jupyter.widget-view+json": {
       "model_id": "625c337abb2d4c4eb213798ce2e5d243",
       "version_major": 2,
       "version_minor": 0
      },
      "text/plain": [
       "Predicting: 4it [00:00, ?it/s]"
      ]
     },
     "metadata": {},
     "output_type": "display_data"
    },
    {
     "name": "stderr",
     "output_type": "stream",
     "text": [
      "/home/weniger/miniconda3b/envs/zero/lib/python3.9/site-packages/pytorch_lightning/loops/epoch/prediction_epoch_loop.py:173: UserWarning: Lightning couldn't infer the indices fetched for your dataloader.\n",
      "  warning_cache.warn(\"Lightning couldn't infer the indices fetched for your dataloader.\")\n"
     ]
    },
    {
     "name": "stdout",
     "output_type": "stream",
     "text": [
      "WARNING: Deprecated\n",
      "WARNING: Deprecated\n"
     ]
    },
    {
     "name": "stderr",
     "output_type": "stream",
     "text": [
      "LOCAL_RANK: 0 - CUDA_VISIBLE_DEVICES: [0]\n"
     ]
    },
    {
     "data": {
      "application/vnd.jupyter.widget-view+json": {
       "model_id": "1a7bbcfa28174da0b43f094fc4975248",
       "version_major": 2,
       "version_minor": 0
      },
      "text/plain": [
       "Predicting: 4it [00:00, ?it/s]"
      ]
     },
     "metadata": {},
     "output_type": "display_data"
    }
   ],
   "source": [
    "coverage_samples = trainer.test_coverage(network, samples[-500:], samples_prior)"
   ]
  },
  {
   "cell_type": "markdown",
   "id": "886b1d5d-b022-490b-acd7-5aa15ce548ee",
   "metadata": {},
   "source": [
    "Based on these estimates, we can produce then the standard P-P plot. Here, $p$ corresponds to the probability mass *outside* the highest-likelihodo regions.  We here plot $1-p$, in order to move the credible regions with the highest credibility to the upper right corner."
   ]
  },
  {
   "cell_type": "code",
   "execution_count": 13,
   "id": "8e962c3b-469e-4472-8220-41991a46d518",
   "metadata": {},
   "outputs": [
    {
     "data": {
      "image/png": "[encoded data removed]",
      "text/plain": [
       "<Figure size 432x288 with 1 Axes>"
      ]
     },
     "metadata": {
      "needs_background": "light"
     },
     "output_type": "display_data"
    }
   ],
   "source": [
    "swyft.plot_pp(coverage_samples, \"z[0]\")"
   ]
  },
  {
   "cell_type": "markdown",
   "id": "cf23d109-7ccc-4a0c-962b-9ffbd3a7a550",
   "metadata": {},
   "source": [
    "In P-P plots, regions with high credibility ($1-p = 68.3\\%, 95.5\\%, 99.7\\%$ etc) become increasingly hard to interpret. Swyft also provides functionality to directly plot the corresponding $z_p$ values ($z_p = 1.0, 2.0, 3.0$ etc)."
   ]
  },
  {
   "cell_type": "code",
   "execution_count": 14,
   "id": "54a4a7ed-7281-4cf6-adbb-093a0876ed33",
   "metadata": {},
   "outputs": [
    {
     "data": {
      "image/png": "[encoded data removed]",
      "text/plain": [
       "<Figure size 432x288 with 1 Axes>"
      ]
     },
     "metadata": {
      "needs_background": "light"
     },
     "output_type": "display_data"
    }
   ],
   "source": [
    "swyft.plot_zz(coverage_samples, \"z[0]\")"
   ]
  },
  {
   "cell_type": "code",
   "execution_count": null,
   "id": "988ed45b-4d4c-4507-b291-04f692c26277",
   "metadata": {},
   "outputs": [],
   "source": []
  }
 ],
 "metadata": {
  "kernelspec": {
   "display_name": "Python 3",
   "language": "python",
   "name": "python3"
  },
  "language_info": {
   "codemirror_mode": {
    "name": "ipython",
    "version": 3
   },
   "file_extension": ".py",
   "mimetype": "text/x-python",
   "name": "python",
   "nbconvert_exporter": "python",
   "pygments_lexer": "ipython3",
   "version": "3.9.7"
  }
 },
 "nbformat": 4,
 "nbformat_minor": 5
}
