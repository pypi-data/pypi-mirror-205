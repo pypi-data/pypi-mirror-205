{
 "cells": [
  {
   "cell_type": "markdown",
   "metadata": {
    "id": "qNX0GA1AEzwK",
    "nteract": {
     "transient": {
      "deleting": false
     }
    }
   },
   "source": [
    "# The Store - Caching and (re-)using simulator results with SWYFT\n",
    "\n",
    "The caching and (re-)use of simulator results is central to the working of SWYFT, with reuse possible both within the context of a single inference problem, as well as between different experiments -- provided the simulator used (including **all** its settings) is the same. \n",
    "**It is the responsibility of the user to ensure the employed simulator is consistent between experiments using the same store.** \n",
    "\n",
    "To this end SWYFT incorporates a `Store` class with two main implementations: a **memory store**, which holds data in the main memory, and a **directory store**, which saves data in files written to disk. Here we demonstrate the use of these stores.\n"
   ]
  },
  {
   "cell_type": "code",
   "execution_count": 1,
   "metadata": {},
   "outputs": [],
   "source": [
    "%load_ext autoreload\n",
    "%autoreload 2"
   ]
  },
  {
   "cell_type": "code",
   "execution_count": 2,
   "metadata": {
    "id": "MZGCjgra6z91"
   },
   "outputs": [],
   "source": [
    "# DON'T FORGET TO ACTIVATE THE GPU when on google colab (Edit > Notebook settings)\n",
    "from os import environ\n",
    "GOOGLE_COLAB = True if \"COLAB_GPU\" in environ else False\n",
    "if GOOGLE_COLAB:\n",
    "    !pip install git+https://github.com/undark-lab/swyft.git"
   ]
  },
  {
   "cell_type": "code",
   "execution_count": 3,
   "metadata": {
    "id": "F4qPfUYOE0YY"
   },
   "outputs": [],
   "source": [
    "import numpy as np\n",
    "import torch\n",
    "import pylab as plt\n",
    "import os\n",
    "\n",
    "import swyft"
   ]
  },
  {
   "cell_type": "markdown",
   "metadata": {
    "id": "YmljDpCXSxDe"
   },
   "source": [
    "We again begin by defining some parameters, a toy simulator, and a prior."
   ]
  },
  {
   "cell_type": "code",
   "execution_count": 4,
   "metadata": {
    "id": "DgK78OA5FKVt"
   },
   "outputs": [],
   "source": [
    "# Set randomness\n",
    "np.random.seed(25)\n",
    "torch.manual_seed(25)\n",
    "\n",
    "# cwd\n",
    "cwd = os.getcwd()\n",
    "\n",
    "# swyft\n",
    "device = 'cpu'\n",
    "n_training_samples = 3000\n",
    "n_parameters = 2\n",
    "observation_key = \"x\""
   ]
  },
  {
   "cell_type": "code",
   "execution_count": 5,
   "metadata": {
    "id": "F480HEa4qTcq"
   },
   "outputs": [],
   "source": [
    "def model(v, sigma = 0.01):\n",
    "    x = v + np.random.randn(n_parameters)*sigma\n",
    "    return {observation_key: x}\n",
    "\n",
    "v_o = np.zeros(n_parameters)\n",
    "observation_o = model(v_o, sigma = 0.)\n",
    "\n",
    "n_observation_features = observation_o[observation_key].shape[0]\n",
    "observation_shapes = {key: value.shape for key, value in observation_o.items()}"
   ]
  },
  {
   "cell_type": "code",
   "execution_count": 6,
   "metadata": {
    "id": "gbFvZVmgqbxx"
   },
   "outputs": [
    {
     "name": "stdout",
     "output_type": "stream",
     "text": [
      "Creating new store.\n",
      "Store: Adding 2993 new samples to simulator store.\n"
     ]
    }
   ],
   "source": [
    "simulator = swyft.Simulator(\n",
    "    model, \n",
    "    n_parameters, \n",
    "    sim_shapes=observation_shapes,\n",
    ")\n",
    "\n",
    "low = -1 * np.ones(n_parameters)\n",
    "high = 1 * np.ones(n_parameters)\n",
    "prior = swyft.get_uniform_prior(low, high)\n",
    "\n",
    "store = swyft.Store.memory_store(simulator)\n",
    "# drawing samples from the store is Poisson distributed. Simulating slightly more than we need avoids attempting to draw more than we have.\n",
    "store.add(n_training_samples + 0.01 * n_training_samples, prior)\n",
    "store.simulate()"
   ]
  },
  {
   "cell_type": "markdown",
   "metadata": {
    "id": "1u3eyPuNTOQ3"
   },
   "source": [
    "## The memory store\n",
    "\n",
    "The memory store, which, intuitively, stores all results in active memory using `zarr`, provides  `SWYFT`'s simplest store option.\n",
    "\n",
    "An empty store can be instantiated as follows, requiring only the specification of an associated simulator."
   ]
  },
  {
   "cell_type": "code",
   "execution_count": 7,
   "metadata": {
    "id": "4m3z0Dt8JGHv"
   },
   "outputs": [
    {
     "name": "stdout",
     "output_type": "stream",
     "text": [
      "Creating new store.\n"
     ]
    }
   ],
   "source": [
    "store = swyft.Store.memory_store(simulator)"
   ]
  },
  {
   "cell_type": "markdown",
   "metadata": {
    "id": "LxlcUe_8V1tc"
   },
   "source": [
    "Subsequently, parameters, drawn according to the specified prior, can be added to the store as\n",
    "\n",
    "NOTE: the store ADDS a Poisson-distributed number of samples with parameter `n_training_samples`. When samples are drawn FROM the store, that amount is also Poisson-distributed. When more samples are drawn than exist within the store, an error is thrown. To avoid this issue, add more samples to the store than you intend to draw from it."
   ]
  },
  {
   "cell_type": "code",
   "execution_count": 8,
   "metadata": {
    "id": "nH84gCfwKNEN"
   },
   "outputs": [
    {
     "name": "stdout",
     "output_type": "stream",
     "text": [
      "Store: Adding 2969 new samples to simulator store.\n"
     ]
    }
   ],
   "source": [
    "# Drawing samples from the store is Poisson distributed. \n",
    "# Simulating slightly more than we need avoids attempting to draw more than we have.\n",
    "store.add(n_training_samples + 0.01 * n_training_samples, prior=prior)"
   ]
  },
  {
   "cell_type": "markdown",
   "metadata": {
    "id": "B3yU1pABV9mW"
   },
   "source": [
    "and it is possible to check whether entries in the store require simulator runs using"
   ]
  },
  {
   "cell_type": "code",
   "execution_count": 9,
   "metadata": {
    "id": "jTmK3CeSKNLx"
   },
   "outputs": [
    {
     "data": {
      "text/plain": [
       "True"
      ]
     },
     "execution_count": 9,
     "metadata": {},
     "output_type": "execute_result"
    }
   ],
   "source": [
    "needs_sim = store.requires_sim()\n",
    "needs_sim"
   ]
  },
  {
   "cell_type": "markdown",
   "metadata": {
    "id": "bjb48Xpiqedy"
   },
   "source": [
    "Similarly, an overview of the exact simulation staus of all entries can be obtained using "
   ]
  },
  {
   "cell_type": "code",
   "execution_count": 10,
   "metadata": {
    "id": "rkbmEZjaKNZc"
   },
   "outputs": [
    {
     "data": {
      "text/plain": [
       "array([0, 0, 0, ..., 0, 0, 0])"
      ]
     },
     "execution_count": 10,
     "metadata": {},
     "output_type": "execute_result"
    }
   ],
   "source": [
    "store.get_simulation_status()"
   ]
  },
  {
   "cell_type": "markdown",
   "metadata": {
    "id": "W6_rj2j0Xc-w"
   },
   "source": [
    "Where a value of 0 corresponds to not yet simulated ."
   ]
  },
  {
   "cell_type": "markdown",
   "metadata": {
    "id": "p0WMPNrDYF4p"
   },
   "source": [
    "The reqired simulations can then be run using the store's `simulate` method."
   ]
  },
  {
   "cell_type": "code",
   "execution_count": 11,
   "metadata": {
    "id": "wl5jlbwXLhuW"
   },
   "outputs": [],
   "source": [
    "store.simulate()"
   ]
  },
  {
   "cell_type": "markdown",
   "metadata": {
    "id": "D3OEsZDAYcZz"
   },
   "source": [
    "Afterwards, all simulations have been run, and their status in the store has been updated (2 corresponds to successfully simulated)."
   ]
  },
  {
   "cell_type": "code",
   "execution_count": 12,
   "metadata": {
    "id": "ZHP10bDjLhzn"
   },
   "outputs": [
    {
     "data": {
      "text/plain": [
       "False"
      ]
     },
     "execution_count": 12,
     "metadata": {},
     "output_type": "execute_result"
    }
   ],
   "source": [
    "store.requires_sim()"
   ]
  },
  {
   "cell_type": "code",
   "execution_count": 13,
   "metadata": {
    "id": "ImQvK_VVLh4x"
   },
   "outputs": [
    {
     "data": {
      "text/plain": [
       "array([2, 2, 2, ..., 2, 2, 2])"
      ]
     },
     "execution_count": 13,
     "metadata": {},
     "output_type": "execute_result"
    }
   ],
   "source": [
    "store.get_simulation_status()"
   ]
  },
  {
   "cell_type": "markdown",
   "metadata": {
    "id": "behWzMHxZTm1"
   },
   "source": [
    "### Sample re-use and coverage\n",
    "`SWYFT`'s store enables reuse of simulations. In order to check which fraction of a required number of samples can be reused, the coverge of the store for the desired prior, i.e. which fraction of the desired nuumber of samples to be drawn from the specified prior is already available in the store, can he inspected as follows."
   ]
  },
  {
   "cell_type": "code",
   "execution_count": 14,
   "metadata": {
    "id": "DGVWsYJmLxpG"
   },
   "outputs": [
    {
     "data": {
      "text/plain": [
       "0.5050005"
      ]
     },
     "execution_count": 14,
     "metadata": {},
     "output_type": "execute_result"
    }
   ],
   "source": [
    "store.coverage(2*n_training_samples, prior=prior)"
   ]
  },
  {
   "cell_type": "markdown",
   "metadata": {
    "id": "Ryf69Gr7afMq"
   },
   "source": [
    "Adding a specified number of samples to the store then becomes a question of adding the missing number. "
   ]
  },
  {
   "cell_type": "code",
   "execution_count": 15,
   "metadata": {
    "id": "v8J2F3JOLxuL"
   },
   "outputs": [
    {
     "name": "stdout",
     "output_type": "stream",
     "text": [
      "Store: Adding 2934 new samples to simulator store.\n"
     ]
    }
   ],
   "source": [
    "store.add(2*n_training_samples, prior=prior)"
   ]
  },
  {
   "cell_type": "markdown",
   "metadata": {
    "id": "Hi9wZNVKbEEh"
   },
   "source": [
    "These, however, do not yet have associated simulation results."
   ]
  },
  {
   "cell_type": "code",
   "execution_count": 16,
   "metadata": {
    "id": "hVTOuef3LxzR"
   },
   "outputs": [
    {
     "data": {
      "text/plain": [
       "True"
      ]
     },
     "execution_count": 16,
     "metadata": {},
     "output_type": "execute_result"
    }
   ],
   "source": [
    "store.requires_sim()"
   ]
  },
  {
   "cell_type": "code",
   "execution_count": 17,
   "metadata": {
    "id": "I2AJSYSHeZ4r"
   },
   "outputs": [
    {
     "data": {
      "text/plain": [
       "array([2969, 2970, 2971, ..., 5900, 5901, 5902])"
      ]
     },
     "execution_count": 17,
     "metadata": {},
     "output_type": "execute_result"
    }
   ],
   "source": [
    "store._get_indices_to_simulate()"
   ]
  },
  {
   "cell_type": "markdown",
   "metadata": {
    "id": "bSjleIINcPOW"
   },
   "source": [
    "#### Saving and loading\n",
    "A memory store can also be saved, i.e. serialized to disk as a directory store, using the `save` method which takes the desired path as an argument,"
   ]
  },
  {
   "cell_type": "code",
   "execution_count": 18,
   "metadata": {
    "id": "YMqHcimtMdNQ"
   },
   "outputs": [],
   "source": [
    "store.save(cwd+'/SavedStore')"
   ]
  },
  {
   "cell_type": "markdown",
   "metadata": {
    "id": "PCaEwkowdIyQ"
   },
   "source": [
    "and be loaded into memory by specifying the path to a directory store and a simulator"
   ]
  },
  {
   "cell_type": "code",
   "execution_count": 19,
   "metadata": {
    "id": "CNT5USwmNkf9"
   },
   "outputs": [
    {
     "name": "stdout",
     "output_type": "stream",
     "text": [
      "Loading existing store.\n",
      "Loading existing store.\n"
     ]
    }
   ],
   "source": [
    "store2 = swyft.Store.load(cwd+'/SavedStore', simulator=simulator).to_memory()"
   ]
  },
  {
   "cell_type": "code",
   "execution_count": 20,
   "metadata": {
    "id": "AtABTpUlOUBr"
   },
   "outputs": [
    {
     "data": {
      "text/plain": [
       "array([2969, 2970, 2971, ..., 5900, 5901, 5902])"
      ]
     },
     "execution_count": 20,
     "metadata": {},
     "output_type": "execute_result"
    }
   ],
   "source": [
    "store2._get_indices_to_simulate()"
   ]
  },
  {
   "cell_type": "markdown",
   "metadata": {
    "id": "NPLCp-0ogdXv"
   },
   "source": [
    "## The directory store\n",
    "In many cases, running an instance of a simulator may be quite computationally expensive. For such simulators `SWYFT`'s ability to support reuse of simulations across different experiments is of paramount importance.\n",
    "\n",
    "`SWYFT` provides this capability in the form of the directory store, which serializes the store to disk using `zarr`and keeps it up-to-date with regard to requested samples and parameters.\n",
    "\n",
    "A directory store can be instantiated via the `Store.directory_store()` convenience method by providing a path and a simulator as arguments. In order to open an existing store, `Store.load()` can be employed."
   ]
  },
  {
   "cell_type": "code",
   "execution_count": 21,
   "metadata": {
    "id": "_qc4J1YMPhrb"
   },
   "outputs": [
    {
     "name": "stdout",
     "output_type": "stream",
     "text": [
      "Loading existing store.\n"
     ]
    }
   ],
   "source": [
    "dirStore = swyft.Store.load(cwd+'/SavedStore')"
   ]
  },
  {
   "cell_type": "markdown",
   "metadata": {
    "id": "wFZls7OcjEPv"
   },
   "source": [
    "While it is necessary to specify the simulator to be associated with a directory store upon instantiation via the `simulator` keyword, it is possible to load an existing store without specifying a simulator and set the simulator later/afterwards."
   ]
  },
  {
   "cell_type": "code",
   "execution_count": 22,
   "metadata": {
    "id": "E2fxegpDPvOJ"
   },
   "outputs": [],
   "source": [
    "dirStore.set_simulator(simulator)"
   ]
  },
  {
   "cell_type": "markdown",
   "metadata": {
    "id": "ukYnDrpMlGih"
   },
   "source": [
    "### Updating on disk\n",
    "We now briefly demonstrate the difference between a directory store and a memory store which has been loaded from an existing directory store.\n",
    "\n",
    "In the example above, both the `dirStor` and `store2` are currenlty equivalent in content. In the `dirStore` we will now add simulations for half of the currently present samples lacking simulations, "
   ]
  },
  {
   "cell_type": "code",
   "execution_count": 23,
   "metadata": {
    "id": "p_OKCYFKP-YQ"
   },
   "outputs": [],
   "source": [
    "all_to_sim = dirStore._get_indices_to_simulate()\n",
    "sim_now = all_to_sim[0:int(len(all_to_sim)/2)]\n",
    "dirStore.simulate(sim_now)"
   ]
  },
  {
   "cell_type": "markdown",
   "metadata": {
    "id": "eDdqLY1Tmph6"
   },
   "source": [
    "Where we have made use of the ability to explicitly specify the indices of samples to be simulated.\n",
    "\n",
    "The remaining samples lacking simulation results in the `dirStore` are now"
   ]
  },
  {
   "cell_type": "code",
   "execution_count": 24,
   "metadata": {
    "id": "YSJmqbjcQ2qB"
   },
   "outputs": [
    {
     "data": {
      "text/plain": [
       "array([4436, 4437, 4438, ..., 5900, 5901, 5902])"
      ]
     },
     "execution_count": 24,
     "metadata": {},
     "output_type": "execute_result"
    }
   ],
   "source": [
    "dirStore._get_indices_to_simulate()"
   ]
  },
  {
   "cell_type": "markdown",
   "metadata": {
    "id": "7B2EUVH_nayL"
   },
   "source": [
    "i.e. the store has been updated on disk, while in comparison the samples lacking simulation results in `store2` are still"
   ]
  },
  {
   "cell_type": "code",
   "execution_count": 25,
   "metadata": {
    "id": "sjJnCemsRHYV"
   },
   "outputs": [
    {
     "data": {
      "text/plain": [
       "array([2969, 2970, 2971, ..., 5900, 5901, 5902])"
      ]
     },
     "execution_count": 25,
     "metadata": {},
     "output_type": "execute_result"
    }
   ],
   "source": [
    "store2._get_indices_to_simulate()"
   ]
  },
  {
   "cell_type": "markdown",
   "metadata": {
    "id": "44ZINZPNn0ax"
   },
   "source": [
    "## asynchronous usage\n",
    "\n",
    "In contrast to the memory store, the directory store also supports asynchronous usage, i.e. when simulations are requested control immediately returns, with the simulations and updating of the store happening in the background.\n",
    "\n",
    "This is particularly relevant for long-running simulators and parallelization using Dask, as is showcased in a separate notebook.\n",
    "\n",
    "Here, as a small example, we simply add further samples to the store and then execute the associated simulations without waiting for the results.\n"
   ]
  },
  {
   "cell_type": "code",
   "execution_count": 26,
   "metadata": {
    "id": "eTsEcKj8RHqR"
   },
   "outputs": [
    {
     "name": "stdout",
     "output_type": "stream",
     "text": [
      "Store: Adding 9064 new samples to simulator store.\n"
     ]
    }
   ],
   "source": [
    "dirStore.add(5*n_training_samples,prior=prior)"
   ]
  },
  {
   "cell_type": "code",
   "execution_count": 27,
   "metadata": {
    "id": "eyvej4GdRtMt"
   },
   "outputs": [],
   "source": [
    "dirStore.simulate(wait_for_results=False)"
   ]
  },
  {
   "cell_type": "code",
   "execution_count": 28,
   "metadata": {
    "id": "tEHjFJc0U31F"
   },
   "outputs": [
    {
     "name": "stdout",
     "output_type": "stream",
     "text": [
      "control returned\n"
     ]
    }
   ],
   "source": [
    "print('control returned')"
   ]
  }
 ],
 "metadata": {
  "colab": {
   "collapsed_sections": [],
   "name": "Examples - 5. The Store.ipynb",
   "provenance": []
  },
  "kernelspec": {
   "display_name": "Python 3 (ipykernel)",
   "language": "python",
   "name": "python3"
  },
  "language_info": {
   "codemirror_mode": {
    "name": "ipython",
    "version": 3
   },
   "file_extension": ".py",
   "mimetype": "text/x-python",
   "name": "python",
   "nbconvert_exporter": "python",
   "pygments_lexer": "ipython3",
   "version": "3.8.11"
  },
  "nteract": {
   "version": "0.28.0"
  }
 },
 "nbformat": 4,
 "nbformat_minor": 4
}
