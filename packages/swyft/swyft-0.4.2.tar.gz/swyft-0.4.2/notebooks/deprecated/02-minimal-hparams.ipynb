{
 "cells": [
  {
   "cell_type": "code",
   "execution_count": 1,
   "id": "3822aac4-d5eb-4979-b237-70c80d2489e8",
   "metadata": {},
   "outputs": [],
   "source": [
    "%load_ext autoreload\n",
    "%autoreload 2"
   ]
  },
  {
   "cell_type": "code",
   "execution_count": 2,
   "id": "0297c907",
   "metadata": {},
   "outputs": [],
   "source": [
    "import pylab as plt\n",
    "import numpy as np\n",
    "import torch\n",
    "import swyft"
   ]
  },
  {
   "cell_type": "code",
   "execution_count": 3,
   "id": "370c159f-de20-4a20-8c9d-72902c3e05fe",
   "metadata": {},
   "outputs": [],
   "source": [
    "class Simulator(swyft.Simulator):\n",
    "    def __init__(self, bounds = None):\n",
    "        super().__init__()\n",
    "        self.on_after_forward = swyft.to_numpy32\n",
    "        \n",
    "    def forward(self, trace):\n",
    "        z = trace.sample('z', np.random.rand, 3)\n",
    "        x = trace.sample('x', lambda z: z + np.random.randn(3)*0.02, z)"
   ]
  },
  {
   "cell_type": "code",
   "execution_count": 4,
   "id": "3e6dc7e9-ff0a-479d-a4e8-fd8025717327",
   "metadata": {},
   "outputs": [],
   "source": [
    "class Network(swyft.SwyftModule):\n",
    "    def __init__(self, dropout = 0.1, lr = 1e-4):\n",
    "        super().__init__()\n",
    "        self.classifier = swyft.RatioEstimatorMLP1d(3, 3, hidden_features = 256, dropout = self.hparams.dropout)\n",
    "        \n",
    "    def forward(self, x, z):\n",
    "        x = x['x']\n",
    "        z = z['z']\n",
    "        ratios_z = self.classifier(x, z)\n",
    "        return dict(z = ratios_z)"
   ]
  },
  {
   "cell_type": "code",
   "execution_count": 5,
   "id": "ae869371-5e0c-4433-a183-776ae7d8fb1b",
   "metadata": {},
   "outputs": [
    {
     "name": "stderr",
     "output_type": "stream",
     "text": [
      "100%|██████████| 1000/1000 [00:00<00:00, 46759.76it/s]\n"
     ]
    }
   ],
   "source": [
    "simulator = Simulator()\n",
    "samples = simulator(1000)"
   ]
  },
  {
   "cell_type": "code",
   "execution_count": 6,
   "id": "f77353b8-042b-4408-bab3-84f7e59def92",
   "metadata": {},
   "outputs": [],
   "source": [
    "dl_train = samples[:800].get_dataloader(batch_size = 128, shuffle = True)\n",
    "dl_valid = samples[800:900].get_dataloader(batch_size = 128)\n",
    "dl_test = samples[900:].get_dataloader(batch_size = 128)"
   ]
  },
  {
   "cell_type": "code",
   "execution_count": 7,
   "id": "41f7765b-45b8-4684-b820-4f75c9719857",
   "metadata": {},
   "outputs": [
    {
     "name": "stderr",
     "output_type": "stream",
     "text": [
      "GPU available: True, used: True\n",
      "TPU available: False, using: 0 TPU cores\n",
      "IPU available: False, using: 0 IPUs\n",
      "LOCAL_RANK: 0 - CUDA_VISIBLE_DEVICES: [0]\n",
      "\n",
      "  | Name       | Type                | Params\n",
      "---------------------------------------------------\n",
      "0 | classifier | RatioEstimatorMLP1d | 800 K \n",
      "---------------------------------------------------\n",
      "800 K     Trainable params\n",
      "0         Non-trainable params\n",
      "800 K     Total params\n",
      "3.201     Total estimated model params size (MB)\n"
     ]
    },
    {
     "name": "stdout",
     "output_type": "stream",
     "text": [
      "Validation sanity check:   0%|          | 0/1 [00:00<?, ?it/s]"
     ]
    },
    {
     "name": "stderr",
     "output_type": "stream",
     "text": [
      "/home/weniger/miniconda3b/envs/zero/lib/python3.9/site-packages/pytorch_lightning/trainer/data_loading.py:132: UserWarning: The dataloader, val_dataloader 0, does not have many workers which may be a bottleneck. Consider increasing the value of the `num_workers` argument` (try 24 which is the number of cpus on this machine) in the `DataLoader` init to improve performance.\n",
      "  rank_zero_warn(\n"
     ]
    },
    {
     "name": "stdout",
     "output_type": "stream",
     "text": [
      "                                                                      "
     ]
    },
    {
     "name": "stderr",
     "output_type": "stream",
     "text": [
      "/home/weniger/miniconda3b/envs/zero/lib/python3.9/site-packages/pytorch_lightning/trainer/data_loading.py:132: UserWarning: The dataloader, train_dataloader, does not have many workers which may be a bottleneck. Consider increasing the value of the `num_workers` argument` (try 24 which is the number of cpus on this machine) in the `DataLoader` init to improve performance.\n",
      "  rank_zero_warn(\n",
      "/home/weniger/miniconda3b/envs/zero/lib/python3.9/site-packages/pytorch_lightning/trainer/data_loading.py:432: UserWarning: The number of training samples (7) is smaller than the logging interval Trainer(log_every_n_steps=50). Set a lower value for log_every_n_steps if you want to see logs for the training epoch.\n",
      "  rank_zero_warn(\n"
     ]
    },
    {
     "name": "stdout",
     "output_type": "stream",
     "text": [
      "Epoch 0:  88%|████████▊ | 7/8 [00:00<00:00, 63.72it/s, loss=322, v_num=4]    \n",
      "Validating: 0it [00:00, ?it/s]\u001b[A\n",
      "Epoch 0: 100%|██████████| 8/8 [00:00<00:00, 63.24it/s, loss=322, v_num=4, val_loss=556.0]\n",
      "Epoch 1:  88%|████████▊ | 7/8 [00:00<00:00, 73.62it/s, loss=204, v_num=4, val_loss=556.0]\n",
      "Validating: 0it [00:00, ?it/s]\u001b[A\n",
      "Epoch 1: 100%|██████████| 8/8 [00:00<00:00, 73.71it/s, loss=204, v_num=4, val_loss=47.10]\n",
      "Epoch 2:  88%|████████▊ | 7/8 [00:00<00:00, 73.56it/s, loss=147, v_num=4, val_loss=47.10]\n",
      "Validating: 0it [00:00, ?it/s]\u001b[A\n",
      "Epoch 2: 100%|██████████| 8/8 [00:00<00:00, 70.56it/s, loss=147, v_num=4, val_loss=13.30]\n",
      "Epoch 3:  88%|████████▊ | 7/8 [00:00<00:00, 65.71it/s, loss=24.4, v_num=4, val_loss=13.30]\n",
      "Validating: 0it [00:00, ?it/s]\u001b[A\n",
      "Epoch 3: 100%|██████████| 8/8 [00:00<00:00, 67.37it/s, loss=24.4, v_num=4, val_loss=4.350]\n",
      "Epoch 4:  88%|████████▊ | 7/8 [00:00<00:00, 73.04it/s, loss=4.41, v_num=4, val_loss=4.350]\n",
      "Validating: 0it [00:00, ?it/s]\u001b[A\n",
      "Epoch 4: 100%|██████████| 8/8 [00:00<00:00, 73.11it/s, loss=4.41, v_num=4, val_loss=2.120]\n",
      "Epoch 5:  88%|████████▊ | 7/8 [00:00<00:00, 74.17it/s, loss=0.32, v_num=4, val_loss=2.120] \n",
      "Validating: 0it [00:00, ?it/s]\u001b[A\n",
      "Epoch 5: 100%|██████████| 8/8 [00:00<00:00, 74.17it/s, loss=0.32, v_num=4, val_loss=1.650]\n",
      "Epoch 6: 100%|██████████| 8/8 [00:00<00:00, 79.97it/s, loss=0.199, v_num=4, val_loss=1.650]\n",
      "Validating: 0it [00:00, ?it/s]\u001b[A\n",
      "Epoch 6: 100%|██████████| 8/8 [00:00<00:00, 71.47it/s, loss=0.199, v_num=4, val_loss=2.160]\n",
      "Epoch 7:  88%|████████▊ | 7/8 [00:00<00:00, 77.55it/s, loss=0.0315, v_num=4, val_loss=2.160]\n",
      "Validating: 0it [00:00, ?it/s]\u001b[A\n",
      "Epoch 7: 100%|██████████| 8/8 [00:00<00:00, 77.55it/s, loss=0.0315, v_num=4, val_loss=-1.66]\n",
      "Epoch 8:  88%|████████▊ | 7/8 [00:00<00:00, 74.20it/s, loss=-0.407, v_num=4, val_loss=-1.66]\n",
      "Validating: 0it [00:00, ?it/s]\u001b[A\n",
      "Epoch 8: 100%|██████████| 8/8 [00:00<00:00, 74.51it/s, loss=-0.407, v_num=4, val_loss=-1.72]\n",
      "Epoch 9:  88%|████████▊ | 7/8 [00:00<00:00, 72.93it/s, loss=-1.13, v_num=4, val_loss=-1.72] \n",
      "Validating: 0it [00:00, ?it/s]\u001b[A\n",
      "Epoch 9: 100%|██████████| 8/8 [00:00<00:00, 73.35it/s, loss=-1.13, v_num=4, val_loss=-1.90]\n",
      "Epoch 10:  88%|████████▊ | 7/8 [00:00<00:00, 75.86it/s, loss=-1.55, v_num=4, val_loss=-1.90]\n",
      "Validating: 0it [00:00, ?it/s]\u001b[A\n",
      "Epoch 10: 100%|██████████| 8/8 [00:00<00:00, 76.50it/s, loss=-1.55, v_num=4, val_loss=-1.95]\n",
      "Epoch 11:  88%|████████▊ | 7/8 [00:00<00:00, 71.91it/s, loss=-1.81, v_num=4, val_loss=-1.95]\n",
      "Validating: 0it [00:00, ?it/s]\u001b[A\n",
      "Epoch 11: 100%|██████████| 8/8 [00:00<00:00, 72.83it/s, loss=-1.81, v_num=4, val_loss=-1.97]\n",
      "Epoch 12:  88%|████████▊ | 7/8 [00:00<00:00, 81.99it/s, loss=-1.96, v_num=4, val_loss=-1.97]\n",
      "Validating: 0it [00:00, ?it/s]\u001b[A\n",
      "Epoch 12: 100%|██████████| 8/8 [00:00<00:00, 81.24it/s, loss=-1.96, v_num=4, val_loss=-1.83]\n",
      "Epoch 13:  88%|████████▊ | 7/8 [00:00<00:00, 83.18it/s, loss=-2.03, v_num=4, val_loss=-1.83]\n",
      "Validating: 0it [00:00, ?it/s]\u001b[A\n",
      "Epoch 13: 100%|██████████| 8/8 [00:00<00:00, 82.50it/s, loss=-2.03, v_num=4, val_loss=-2.17]\n",
      "Epoch 14: 100%|██████████| 8/8 [00:00<00:00, 78.58it/s, loss=-2.06, v_num=4, val_loss=-2.17]\n",
      "Validating: 0it [00:00, ?it/s]\u001b[A\n",
      "Epoch 14: 100%|██████████| 8/8 [00:00<00:00, 70.63it/s, loss=-2.06, v_num=4, val_loss=-2.18]\n",
      "Epoch 15: 100%|██████████| 8/8 [00:00<00:00, 79.20it/s, loss=-2.13, v_num=4, val_loss=-2.18]\n",
      "Validating: 0it [00:00, ?it/s]\u001b[A\n",
      "Epoch 15: 100%|██████████| 8/8 [00:00<00:00, 71.49it/s, loss=-2.13, v_num=4, val_loss=-2.33]\n",
      "Epoch 16: 100%|██████████| 8/8 [00:00<00:00, 78.14it/s, loss=-2.2, v_num=4, val_loss=-2.33] \n",
      "Validating: 0it [00:00, ?it/s]\u001b[A\n",
      "Epoch 16: 100%|██████████| 8/8 [00:00<00:00, 70.22it/s, loss=-2.2, v_num=4, val_loss=-2.45]\n",
      "Epoch 17:  88%|████████▊ | 7/8 [00:00<00:00, 75.94it/s, loss=-2.29, v_num=4, val_loss=-2.45]\n",
      "Validating: 0it [00:00, ?it/s]\u001b[A\n",
      "Epoch 17: 100%|██████████| 8/8 [00:00<00:00, 74.81it/s, loss=-2.29, v_num=4, val_loss=-2.51]\n",
      "Epoch 18:  88%|████████▊ | 7/8 [00:00<00:00, 80.81it/s, loss=-2.34, v_num=4, val_loss=-2.51]\n",
      "Validating: 0it [00:00, ?it/s]\u001b[A\n",
      "Epoch 18: 100%|██████████| 8/8 [00:00<00:00, 80.91it/s, loss=-2.34, v_num=4, val_loss=-2.52]\n",
      "Epoch 19: 100%|██████████| 8/8 [00:00<00:00, 76.11it/s, loss=-2.36, v_num=4, val_loss=-2.52]\n",
      "Validating: 0it [00:00, ?it/s]\u001b[A\n",
      "Epoch 19: 100%|██████████| 8/8 [00:00<00:00, 68.48it/s, loss=-2.36, v_num=4, val_loss=-2.55]\n",
      "Epoch 20:  88%|████████▊ | 7/8 [00:00<00:00, 71.66it/s, loss=-2.37, v_num=4, val_loss=-2.55]\n",
      "Validating: 0it [00:00, ?it/s]\u001b[A\n",
      "Epoch 20: 100%|██████████| 8/8 [00:00<00:00, 72.78it/s, loss=-2.37, v_num=4, val_loss=-2.46]\n",
      "Epoch 21:  88%|████████▊ | 7/8 [00:00<00:00, 79.70it/s, loss=-2.38, v_num=4, val_loss=-2.46]\n",
      "Validating: 0it [00:00, ?it/s]\u001b[A\n",
      "Epoch 21: 100%|██████████| 8/8 [00:00<00:00, 79.88it/s, loss=-2.38, v_num=4, val_loss=-2.50]\n",
      "Epoch 22:  88%|████████▊ | 7/8 [00:00<00:00, 78.07it/s, loss=-2.43, v_num=4, val_loss=-2.50]\n",
      "Validating: 0it [00:00, ?it/s]\u001b[A\n",
      "Epoch 22: 100%|██████████| 8/8 [00:00<00:00, 77.70it/s, loss=-2.43, v_num=4, val_loss=-2.21]\n",
      "Epoch 22: 100%|██████████| 8/8 [00:00<00:00, 73.83it/s, loss=-2.43, v_num=4, val_loss=-2.21]\n"
     ]
    },
    {
     "name": "stderr",
     "output_type": "stream",
     "text": [
      "Restoring states from the checkpoint path at ./lightning_logs2/01-minimal-hparams/version_4/checkpoints/epoch=19-step=139.ckpt\n",
      "LOCAL_RANK: 0 - CUDA_VISIBLE_DEVICES: [0]\n",
      "Loaded model weights from checkpoint at ./lightning_logs2/01-minimal-hparams/version_4/checkpoints/epoch=19-step=139.ckpt\n",
      "/home/weniger/miniconda3b/envs/zero/lib/python3.9/site-packages/pytorch_lightning/trainer/data_loading.py:132: UserWarning: The dataloader, test_dataloader 0, does not have many workers which may be a bottleneck. Consider increasing the value of the `num_workers` argument` (try 24 which is the number of cpus on this machine) in the `DataLoader` init to improve performance.\n",
      "  rank_zero_warn(\n"
     ]
    },
    {
     "name": "stdout",
     "output_type": "stream",
     "text": [
      "Testing: 0it [00:00, ?it/s]--------------------------------------------------------------------------------\n",
      "DATALOADER:0 TEST RESULTS\n",
      "{'hp/JS-div': -2.5854907035827637, 'hp/KL-div': -4.858042240142822}\n",
      "--------------------------------------------------------------------------------\n",
      "Testing: 100%|██████████| 1/1 [00:00<00:00, 68.19it/s]\n"
     ]
    },
    {
     "name": "stderr",
     "output_type": "stream",
     "text": [
      "GPU available: True, used: True\n",
      "TPU available: False, using: 0 TPU cores\n",
      "IPU available: False, using: 0 IPUs\n",
      "LOCAL_RANK: 0 - CUDA_VISIBLE_DEVICES: [0]\n",
      "\n",
      "  | Name       | Type                | Params\n",
      "---------------------------------------------------\n",
      "0 | classifier | RatioEstimatorMLP1d | 800 K \n",
      "---------------------------------------------------\n",
      "800 K     Trainable params\n",
      "0         Non-trainable params\n",
      "800 K     Total params\n",
      "3.201     Total estimated model params size (MB)\n"
     ]
    },
    {
     "name": "stdout",
     "output_type": "stream",
     "text": [
      "Epoch 0:  88%|████████▊ | 7/8 [00:00<00:00, 81.69it/s, loss=2.41, v_num=5]   \n",
      "Validating: 0it [00:00, ?it/s]\u001b[A\n",
      "Epoch 0: 100%|██████████| 8/8 [00:00<00:00, 81.17it/s, loss=2.41, v_num=5, val_loss=-.0119]\n",
      "Epoch 1:  88%|████████▊ | 7/8 [00:00<00:00, 81.69it/s, loss=0.712, v_num=5, val_loss=-.0119]\n",
      "Validating: 0it [00:00, ?it/s]\u001b[A\n",
      "Epoch 1: 100%|██████████| 8/8 [00:00<00:00, 78.06it/s, loss=0.712, v_num=5, val_loss=-.609] \n",
      "Epoch 2:  88%|████████▊ | 7/8 [00:00<00:00, 82.63it/s, loss=-0.286, v_num=5, val_loss=-.609] \n",
      "Validating: 0it [00:00, ?it/s]\u001b[A\n",
      "Epoch 2: 100%|██████████| 8/8 [00:00<00:00, 82.84it/s, loss=-0.286, v_num=5, val_loss=-.741]\n",
      "Epoch 3:  88%|████████▊ | 7/8 [00:00<00:00, 75.98it/s, loss=-2.07, v_num=5, val_loss=-.741] \n",
      "Validating: 0it [00:00, ?it/s]\u001b[A\n",
      "Epoch 3: 100%|██████████| 8/8 [00:00<00:00, 75.70it/s, loss=-2.07, v_num=5, val_loss=-1.22]\n",
      "Epoch 4:  88%|████████▊ | 7/8 [00:00<00:00, 68.76it/s, loss=-2.53, v_num=5, val_loss=-1.22]\n",
      "Validating: 0it [00:00, ?it/s]\u001b[A\n",
      "Epoch 4: 100%|██████████| 8/8 [00:00<00:00, 69.81it/s, loss=-2.53, v_num=5, val_loss=-1.91]\n",
      "Epoch 5:  88%|████████▊ | 7/8 [00:00<00:00, 78.05it/s, loss=-2.67, v_num=5, val_loss=-1.91]\n",
      "Validating: 0it [00:00, ?it/s]\u001b[A\n",
      "Epoch 5: 100%|██████████| 8/8 [00:00<00:00, 77.41it/s, loss=-2.67, v_num=5, val_loss=-2.09]\n",
      "Epoch 6:  88%|████████▊ | 7/8 [00:00<00:00, 76.41it/s, loss=-2.73, v_num=5, val_loss=-2.09]\n",
      "Validating: 0it [00:00, ?it/s]\u001b[A\n",
      "Epoch 6: 100%|██████████| 8/8 [00:00<00:00, 72.42it/s, loss=-2.73, v_num=5, val_loss=-1.62]\n",
      "Epoch 7: 100%|██████████| 8/8 [00:00<00:00, 79.32it/s, loss=-2.82, v_num=5, val_loss=-1.62]\n",
      "Validating: 0it [00:00, ?it/s]\u001b[A\n",
      "Epoch 7: 100%|██████████| 8/8 [00:00<00:00, 67.12it/s, loss=-2.82, v_num=5, val_loss=-1.93]\n",
      "Epoch 8:  88%|████████▊ | 7/8 [00:00<00:00, 81.49it/s, loss=-2.88, v_num=5, val_loss=-1.93]\n",
      "Validating: 0it [00:00, ?it/s]\u001b[A\n",
      "Epoch 8: 100%|██████████| 8/8 [00:00<00:00, 81.62it/s, loss=-2.88, v_num=5, val_loss=-1.04]\n",
      "Epoch 8: 100%|██████████| 8/8 [00:00<00:00, 77.97it/s, loss=-2.88, v_num=5, val_loss=-1.04]\n"
     ]
    },
    {
     "name": "stderr",
     "output_type": "stream",
     "text": [
      "Restoring states from the checkpoint path at ./lightning_logs2/01-minimal-hparams/version_5/checkpoints/epoch=5-step=41.ckpt\n",
      "LOCAL_RANK: 0 - CUDA_VISIBLE_DEVICES: [0]\n",
      "Loaded model weights from checkpoint at ./lightning_logs2/01-minimal-hparams/version_5/checkpoints/epoch=5-step=41.ckpt\n"
     ]
    },
    {
     "name": "stdout",
     "output_type": "stream",
     "text": [
      "Testing: 0it [00:00, ?it/s]--------------------------------------------------------------------------------\n",
      "DATALOADER:0 TEST RESULTS\n",
      "{'hp/JS-div': -1.8838624954223633, 'hp/KL-div': -5.458173751831055}\n",
      "--------------------------------------------------------------------------------\n",
      "Testing: 100%|██████████| 1/1 [00:00<00:00, 68.60it/s]\n"
     ]
    },
    {
     "name": "stderr",
     "output_type": "stream",
     "text": [
      "GPU available: True, used: True\n",
      "TPU available: False, using: 0 TPU cores\n",
      "IPU available: False, using: 0 IPUs\n",
      "LOCAL_RANK: 0 - CUDA_VISIBLE_DEVICES: [0]\n",
      "\n",
      "  | Name       | Type                | Params\n",
      "---------------------------------------------------\n",
      "0 | classifier | RatioEstimatorMLP1d | 800 K \n",
      "---------------------------------------------------\n",
      "800 K     Trainable params\n",
      "0         Non-trainable params\n",
      "800 K     Total params\n",
      "3.201     Total estimated model params size (MB)\n"
     ]
    },
    {
     "name": "stdout",
     "output_type": "stream",
     "text": [
      "Epoch 0:  88%|████████▊ | 7/8 [00:00<00:00, 82.57it/s, loss=-0.983, v_num=6] \n",
      "Validating: 0it [00:00, ?it/s]\u001b[A\n",
      "Epoch 0: 100%|██████████| 8/8 [00:00<00:00, 81.99it/s, loss=-0.983, v_num=6, val_loss=-.0083]\n",
      "Epoch 1:  88%|████████▊ | 7/8 [00:00<00:00, 80.39it/s, loss=-1.58, v_num=6, val_loss=-.0083] \n",
      "Validating: 0it [00:00, ?it/s]\u001b[A\n",
      "Epoch 1: 100%|██████████| 8/8 [00:00<00:00, 79.67it/s, loss=-1.58, v_num=6, val_loss=-.0196]\n",
      "Epoch 2: 100%|██████████| 8/8 [00:00<00:00, 78.74it/s, loss=-2.03, v_num=6, val_loss=-.0196]\n",
      "Validating: 0it [00:00, ?it/s]\u001b[A\n",
      "Epoch 2: 100%|██████████| 8/8 [00:00<00:00, 71.44it/s, loss=-2.03, v_num=6, val_loss=-.131] \n",
      "Epoch 3:  88%|████████▊ | 7/8 [00:00<00:00, 74.50it/s, loss=-2.52, v_num=6, val_loss=-.131]\n",
      "Validating: 0it [00:00, ?it/s]\u001b[A\n",
      "Epoch 3: 100%|██████████| 8/8 [00:00<00:00, 74.87it/s, loss=-2.52, v_num=6, val_loss=-1.30]\n",
      "Epoch 4:  88%|████████▊ | 7/8 [00:00<00:00, 75.06it/s, loss=-2.69, v_num=6, val_loss=-1.30]\n",
      "Validating: 0it [00:00, ?it/s]\u001b[A\n",
      "Epoch 4: 100%|██████████| 8/8 [00:00<00:00, 75.07it/s, loss=-2.69, v_num=6, val_loss=-1.92]\n",
      "Epoch 5:  88%|████████▊ | 7/8 [00:00<00:00, 72.25it/s, loss=-2.76, v_num=6, val_loss=-1.92]\n",
      "Validating: 0it [00:00, ?it/s]\u001b[A\n",
      "Epoch 5: 100%|██████████| 8/8 [00:00<00:00, 72.55it/s, loss=-2.76, v_num=6, val_loss=-2.34]\n",
      "Epoch 6: 100%|██████████| 8/8 [00:00<00:00, 78.80it/s, loss=-2.86, v_num=6, val_loss=-2.34]\n",
      "Validating: 0it [00:00, ?it/s]\u001b[A\n",
      "Epoch 6: 100%|██████████| 8/8 [00:00<00:00, 70.79it/s, loss=-2.86, v_num=6, val_loss=-2.50]\n",
      "Epoch 7: 100%|██████████| 8/8 [00:00<00:00, 79.77it/s, loss=-2.88, v_num=6, val_loss=-2.50]\n",
      "Validating: 0it [00:00, ?it/s]\u001b[A\n",
      "Epoch 7: 100%|██████████| 8/8 [00:00<00:00, 68.17it/s, loss=-2.88, v_num=6, val_loss=-2.76]\n",
      "Epoch 8:  88%|████████▊ | 7/8 [00:00<00:00, 76.79it/s, loss=-2.88, v_num=6, val_loss=-2.76]\n",
      "Validating: 0it [00:00, ?it/s]\u001b[A\n",
      "Epoch 8: 100%|██████████| 8/8 [00:00<00:00, 76.54it/s, loss=-2.88, v_num=6, val_loss=-2.83]\n",
      "Epoch 9: 100%|██████████| 8/8 [00:00<00:00, 74.12it/s, loss=-2.92, v_num=6, val_loss=-2.83]\n",
      "Validating: 0it [00:00, ?it/s]\u001b[A\n",
      "Epoch 9: 100%|██████████| 8/8 [00:00<00:00, 67.10it/s, loss=-2.92, v_num=6, val_loss=-2.85]\n",
      "Epoch 10:  88%|████████▊ | 7/8 [00:00<00:00, 76.23it/s, loss=-2.99, v_num=6, val_loss=-2.85]\n",
      "Validating: 0it [00:00, ?it/s]\u001b[A\n",
      "Epoch 10: 100%|██████████| 8/8 [00:00<00:00, 75.97it/s, loss=-2.99, v_num=6, val_loss=-2.90]\n",
      "Epoch 11:  88%|████████▊ | 7/8 [00:00<00:00, 75.21it/s, loss=-3.01, v_num=6, val_loss=-2.90]\n",
      "Validating: 0it [00:00, ?it/s]\u001b[A\n",
      "Epoch 11: 100%|██████████| 8/8 [00:00<00:00, 76.03it/s, loss=-3.01, v_num=6, val_loss=-2.66]\n",
      "Epoch 12:  88%|████████▊ | 7/8 [00:00<00:00, 76.45it/s, loss=-2.96, v_num=6, val_loss=-2.66]\n",
      "Validating: 0it [00:00, ?it/s]\u001b[A\n",
      "Epoch 12: 100%|██████████| 8/8 [00:00<00:00, 77.04it/s, loss=-2.96, v_num=6, val_loss=-2.69]\n",
      "Epoch 13:  88%|████████▊ | 7/8 [00:00<00:00, 78.36it/s, loss=-2.9, v_num=6, val_loss=-2.69] \n",
      "Validating: 0it [00:00, ?it/s]\u001b[A\n",
      "Epoch 13: 100%|██████████| 8/8 [00:00<00:00, 77.30it/s, loss=-2.9, v_num=6, val_loss=-2.88]\n",
      "Epoch 13: 100%|██████████| 8/8 [00:00<00:00, 73.47it/s, loss=-2.9, v_num=6, val_loss=-2.88]\n"
     ]
    },
    {
     "name": "stderr",
     "output_type": "stream",
     "text": [
      "Restoring states from the checkpoint path at ./lightning_logs2/01-minimal-hparams/version_6/checkpoints/epoch=10-step=76.ckpt\n",
      "LOCAL_RANK: 0 - CUDA_VISIBLE_DEVICES: [0]\n",
      "Loaded model weights from checkpoint at ./lightning_logs2/01-minimal-hparams/version_6/checkpoints/epoch=10-step=76.ckpt\n"
     ]
    },
    {
     "name": "stdout",
     "output_type": "stream",
     "text": [
      "Testing: 0it [00:00, ?it/s]--------------------------------------------------------------------------------\n",
      "DATALOADER:0 TEST RESULTS\n",
      "{'hp/JS-div': -2.9667282104492188, 'hp/KL-div': -8.11322021484375}\n",
      "--------------------------------------------------------------------------------\n",
      "Testing: 100%|██████████| 1/1 [00:00<00:00, 73.56it/s]\n"
     ]
    },
    {
     "name": "stderr",
     "output_type": "stream",
     "text": [
      "GPU available: True, used: True\n",
      "TPU available: False, using: 0 TPU cores\n",
      "IPU available: False, using: 0 IPUs\n",
      "LOCAL_RANK: 0 - CUDA_VISIBLE_DEVICES: [0]\n",
      "\n",
      "  | Name       | Type                | Params\n",
      "---------------------------------------------------\n",
      "0 | classifier | RatioEstimatorMLP1d | 800 K \n",
      "---------------------------------------------------\n",
      "800 K     Trainable params\n",
      "0         Non-trainable params\n",
      "800 K     Total params\n",
      "3.201     Total estimated model params size (MB)\n"
     ]
    },
    {
     "name": "stdout",
     "output_type": "stream",
     "text": [
      "Epoch 0:  88%|████████▊ | 7/8 [00:00<00:00, 82.19it/s, loss=-0.146, v_num=7]  \n",
      "Validating: 0it [00:00, ?it/s]\u001b[A\n",
      "Epoch 0: 100%|██████████| 8/8 [00:00<00:00, 81.77it/s, loss=-0.146, v_num=7, val_loss=0.000149]\n",
      "Epoch 1: 100%|██████████| 8/8 [00:00<00:00, 77.30it/s, loss=-0.544, v_num=7, val_loss=0.000149]\n",
      "Validating: 0it [00:00, ?it/s]\u001b[A\n",
      "Epoch 1: 100%|██████████| 8/8 [00:00<00:00, 66.94it/s, loss=-0.544, v_num=7, val_loss=-.00424] \n",
      "Epoch 2:  88%|████████▊ | 7/8 [00:00<00:00, 77.41it/s, loss=-0.951, v_num=7, val_loss=-.00424]\n",
      "Validating: 0it [00:00, ?it/s]\u001b[A\n",
      "Epoch 2: 100%|██████████| 8/8 [00:00<00:00, 77.25it/s, loss=-0.951, v_num=7, val_loss=-.0221] \n",
      "Epoch 3: 100%|██████████| 8/8 [00:00<00:00, 79.00it/s, loss=-1.65, v_num=7, val_loss=-.0221] \n",
      "Validating: 0it [00:00, ?it/s]\u001b[A\n",
      "Epoch 3: 100%|██████████| 8/8 [00:00<00:00, 71.77it/s, loss=-1.65, v_num=7, val_loss=-.0853]\n",
      "Epoch 4: 100%|██████████| 8/8 [00:00<00:00, 79.22it/s, loss=-2.19, v_num=7, val_loss=-.0853]\n",
      "Validating: 0it [00:00, ?it/s]\u001b[A\n",
      "Epoch 4: 100%|██████████| 8/8 [00:00<00:00, 70.92it/s, loss=-2.19, v_num=7, val_loss=-.305] \n",
      "Epoch 5:  88%|████████▊ | 7/8 [00:00<00:00, 74.01it/s, loss=-2.56, v_num=7, val_loss=-.305]\n",
      "Validating: 0it [00:00, ?it/s]\u001b[A\n",
      "Epoch 5: 100%|██████████| 8/8 [00:00<00:00, 74.19it/s, loss=-2.56, v_num=7, val_loss=-.879]\n",
      "Epoch 6: 100%|██████████| 8/8 [00:00<00:00, 79.19it/s, loss=-2.75, v_num=7, val_loss=-.879]\n",
      "Validating: 0it [00:00, ?it/s]\u001b[A\n",
      "Epoch 6: 100%|██████████| 8/8 [00:00<00:00, 71.63it/s, loss=-2.75, v_num=7, val_loss=-1.71]\n",
      "Epoch 7: 100%|██████████| 8/8 [00:00<00:00, 75.08it/s, loss=-2.82, v_num=7, val_loss=-1.71]\n",
      "Validating: 0it [00:00, ?it/s]\u001b[A\n",
      "Epoch 7: 100%|██████████| 8/8 [00:00<00:00, 68.29it/s, loss=-2.82, v_num=7, val_loss=-2.33]\n",
      "Epoch 8:  88%|████████▊ | 7/8 [00:00<00:00, 76.90it/s, loss=-2.86, v_num=7, val_loss=-2.33]\n",
      "Validating: 0it [00:00, ?it/s]\u001b[A\n",
      "Epoch 8: 100%|██████████| 8/8 [00:00<00:00, 77.87it/s, loss=-2.86, v_num=7, val_loss=-2.63]\n",
      "Epoch 9:  88%|████████▊ | 7/8 [00:00<00:00, 74.86it/s, loss=-2.91, v_num=7, val_loss=-2.63]\n",
      "Validating: 0it [00:00, ?it/s]\u001b[A\n",
      "Epoch 9: 100%|██████████| 8/8 [00:00<00:00, 75.57it/s, loss=-2.91, v_num=7, val_loss=-2.82]\n",
      "Epoch 10:  88%|████████▊ | 7/8 [00:00<00:00, 72.90it/s, loss=-2.96, v_num=7, val_loss=-2.82]\n",
      "Validating: 0it [00:00, ?it/s]\u001b[A\n",
      "Epoch 10: 100%|██████████| 8/8 [00:00<00:00, 73.19it/s, loss=-2.96, v_num=7, val_loss=-2.94]\n",
      "Epoch 11:  88%|████████▊ | 7/8 [00:00<00:00, 74.22it/s, loss=-3.01, v_num=7, val_loss=-2.94]\n",
      "Validating: 0it [00:00, ?it/s]\u001b[A\n",
      "Epoch 11: 100%|██████████| 8/8 [00:00<00:00, 74.38it/s, loss=-3.01, v_num=7, val_loss=-2.97]\n",
      "Epoch 12:  88%|████████▊ | 7/8 [00:00<00:00, 81.28it/s, loss=-3.05, v_num=7, val_loss=-2.97]\n",
      "Validating: 0it [00:00, ?it/s]\u001b[A\n",
      "Epoch 12: 100%|██████████| 8/8 [00:00<00:00, 83.01it/s, loss=-3.05, v_num=7, val_loss=-2.84]\n",
      "Epoch 13:  88%|████████▊ | 7/8 [00:00<00:00, 84.21it/s, loss=-3.05, v_num=7, val_loss=-2.84]\n",
      "Validating: 0it [00:00, ?it/s]\u001b[A\n",
      "Epoch 13: 100%|██████████| 8/8 [00:00<00:00, 83.83it/s, loss=-3.05, v_num=7, val_loss=-2.97]\n",
      "Epoch 14:  88%|████████▊ | 7/8 [00:00<00:00, 83.20it/s, loss=-3.04, v_num=7, val_loss=-2.97]\n",
      "Validating: 0it [00:00, ?it/s]\u001b[A\n",
      "Epoch 14: 100%|██████████| 8/8 [00:00<00:00, 83.01it/s, loss=-3.04, v_num=7, val_loss=-2.91]\n",
      "Epoch 14: 100%|██████████| 8/8 [00:00<00:00, 79.01it/s, loss=-3.04, v_num=7, val_loss=-2.91]\n"
     ]
    },
    {
     "name": "stderr",
     "output_type": "stream",
     "text": [
      "Restoring states from the checkpoint path at ./lightning_logs2/01-minimal-hparams/version_7/checkpoints/epoch=11-step=83.ckpt\n",
      "LOCAL_RANK: 0 - CUDA_VISIBLE_DEVICES: [0]\n",
      "Loaded model weights from checkpoint at ./lightning_logs2/01-minimal-hparams/version_7/checkpoints/epoch=11-step=83.ckpt\n"
     ]
    },
    {
     "name": "stdout",
     "output_type": "stream",
     "text": [
      "Testing: 0it [00:00, ?it/s]--------------------------------------------------------------------------------\n",
      "DATALOADER:0 TEST RESULTS\n",
      "{'hp/JS-div': -3.0364508628845215, 'hp/KL-div': -6.616926670074463}\n",
      "--------------------------------------------------------------------------------\n",
      "Testing: 100%|██████████| 1/1 [00:00<00:00, 53.05it/s]\n"
     ]
    }
   ],
   "source": [
    "for lr in [1e-1, 1e-2, 1e-3, 1e-4]:\n",
    "    network = Network(dropout = 0.2, lr = lr)\n",
    "    trainer = swyft.SwyftTrainer(accelerator = 'gpu', gpus=1, max_epochs = 100, **swyft.tensorboard_config(save_dir = './lightning_logs2', name = '01-minimal-hparams', version=None))\n",
    "    trainer.fit(network, dl_train, dl_valid)\n",
    "    trainer.test(network, dl_test, ckpt_path = 'best')"
   ]
  },
  {
   "cell_type": "code",
   "execution_count": null,
   "id": "8a88496e-23f2-449e-bc81-86a62e3ec65d",
   "metadata": {},
   "outputs": [],
   "source": []
  }
 ],
 "metadata": {
  "kernelspec": {
   "display_name": "Python 3",
   "language": "python",
   "name": "python3"
  },
  "language_info": {
   "codemirror_mode": {
    "name": "ipython",
    "version": 3
   },
   "file_extension": ".py",
   "mimetype": "text/x-python",
   "name": "python",
   "nbconvert_exporter": "python",
   "pygments_lexer": "ipython3",
   "version": "3.9.7"
  }
 },
 "nbformat": 4,
 "nbformat_minor": 5
}
