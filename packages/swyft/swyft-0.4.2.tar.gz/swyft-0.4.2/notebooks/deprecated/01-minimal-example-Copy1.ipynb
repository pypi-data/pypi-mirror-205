{
 "cells": [
  {
   "cell_type": "code",
   "execution_count": 1,
   "id": "3822aac4-d5eb-4979-b237-70c80d2489e8",
   "metadata": {},
   "outputs": [],
   "source": [
    "%load_ext autoreload\n",
    "%autoreload 2"
   ]
  },
  {
   "cell_type": "code",
   "execution_count": 2,
   "id": "0297c907",
   "metadata": {},
   "outputs": [],
   "source": [
    "import pylab as plt\n",
    "import numpy as np\n",
    "import torch\n",
    "import swyft as swyft"
   ]
  },
  {
   "cell_type": "code",
   "execution_count": 3,
   "id": "370c159f-de20-4a20-8c9d-72902c3e05fe",
   "metadata": {},
   "outputs": [],
   "source": [
    "class Simulator(swyft.Simulator):\n",
    "    def __init__(self, bounds = None):\n",
    "        super().__init__()\n",
    "        self.on_after_forward = swyft.to_numpy32\n",
    "        \n",
    "    def forward(self, trace):\n",
    "        z = trace.sample('z', np.random.rand, 3)\n",
    "        x = trace.sample('x', lambda z: z + np.random.randn(3)*0.02, z)"
   ]
  },
  {
   "cell_type": "code",
   "execution_count": 4,
   "id": "3e6dc7e9-ff0a-479d-a4e8-fd8025717327",
   "metadata": {},
   "outputs": [],
   "source": [
    "class Network(swyft.SwyftModule):\n",
    "    def __init__(self):\n",
    "        super().__init__()\n",
    "        self.classifier = swyft.RatioEstimatorMLP1d(3, 3)\n",
    "        \n",
    "    def forward(self, A, B):\n",
    "        x = A['x']\n",
    "        z = B['z']\n",
    "        ratios_z = self.classifier(x, z)\n",
    "        return dict(z = ratios_z)"
   ]
  },
  {
   "cell_type": "code",
   "execution_count": 5,
   "id": "ae869371-5e0c-4433-a183-776ae7d8fb1b",
   "metadata": {},
   "outputs": [
    {
     "ename": "AttributeError",
     "evalue": "'int' object has no attribute 'sample'",
     "output_type": "error",
     "traceback": [
      "\u001b[0;31m---------------------------------------------------------------------------\u001b[0m",
      "\u001b[0;31mAttributeError\u001b[0m                            Traceback (most recent call last)",
      "Input \u001b[0;32mIn [5]\u001b[0m, in \u001b[0;36m<module>\u001b[0;34m\u001b[0m\n\u001b[1;32m      1\u001b[0m simulator \u001b[38;5;241m=\u001b[39m Simulator()\n\u001b[0;32m----> 2\u001b[0m samples \u001b[38;5;241m=\u001b[39m \u001b[43msimulator\u001b[49m\u001b[43m(\u001b[49m\u001b[38;5;241;43m10000\u001b[39;49m\u001b[43m)\u001b[49m\n",
      "File \u001b[0;32m~/codes/swyft/swyft/lightning/simulator.py:250\u001b[0m, in \u001b[0;36mSimulator.__call__\u001b[0;34m(self, trace)\u001b[0m\n\u001b[1;32m    249\u001b[0m \u001b[38;5;28;01mdef\u001b[39;00m \u001b[38;5;21m__call__\u001b[39m(\u001b[38;5;28mself\u001b[39m, trace):\n\u001b[0;32m--> 250\u001b[0m     result \u001b[38;5;241m=\u001b[39m \u001b[38;5;28;43mself\u001b[39;49m\u001b[38;5;241;43m.\u001b[39;49m\u001b[43mforward\u001b[49m\u001b[43m(\u001b[49m\u001b[43mtrace\u001b[49m\u001b[43m)\u001b[49m\n\u001b[1;32m    251\u001b[0m     \u001b[38;5;28;01mreturn\u001b[39;00m result\n",
      "Input \u001b[0;32mIn [3]\u001b[0m, in \u001b[0;36mSimulator.forward\u001b[0;34m(self, trace)\u001b[0m\n\u001b[1;32m      6\u001b[0m \u001b[38;5;28;01mdef\u001b[39;00m \u001b[38;5;21mforward\u001b[39m(\u001b[38;5;28mself\u001b[39m, trace):\n\u001b[0;32m----> 7\u001b[0m     z \u001b[38;5;241m=\u001b[39m \u001b[43mtrace\u001b[49m\u001b[38;5;241;43m.\u001b[39;49m\u001b[43msample\u001b[49m(\u001b[38;5;124m'\u001b[39m\u001b[38;5;124mz\u001b[39m\u001b[38;5;124m'\u001b[39m, np\u001b[38;5;241m.\u001b[39mrandom\u001b[38;5;241m.\u001b[39mrand, \u001b[38;5;241m3\u001b[39m)\n\u001b[1;32m      8\u001b[0m     x \u001b[38;5;241m=\u001b[39m trace\u001b[38;5;241m.\u001b[39msample(\u001b[38;5;124m'\u001b[39m\u001b[38;5;124mx\u001b[39m\u001b[38;5;124m'\u001b[39m, \u001b[38;5;28;01mlambda\u001b[39;00m z: z \u001b[38;5;241m+\u001b[39m np\u001b[38;5;241m.\u001b[39mrandom\u001b[38;5;241m.\u001b[39mrandn(\u001b[38;5;241m3\u001b[39m)\u001b[38;5;241m*\u001b[39m\u001b[38;5;241m0.02\u001b[39m, z)\n",
      "\u001b[0;31mAttributeError\u001b[0m: 'int' object has no attribute 'sample'"
     ]
    }
   ],
   "source": [
    "simulator = Simulator()\n",
    "samples = simulator(10000)"
   ]
  },
  {
   "cell_type": "code",
   "execution_count": 6,
   "id": "60085c53-3c65-4851-ab71-ea369e365eda",
   "metadata": {},
   "outputs": [],
   "source": [
    "dl_train = samples[:8000].get_dataloader(batch_size = 128, shuffle = True)\n",
    "dl_valid = samples[8000:9000].get_dataloader(batch_size = 128)\n",
    "dl_test = samples[9000:].get_dataloader(batch_size = 128)"
   ]
  },
  {
   "cell_type": "code",
   "execution_count": 7,
   "id": "5683ce37-a8d0-4ed7-94a6-512ccc7babcb",
   "metadata": {},
   "outputs": [
    {
     "name": "stderr",
     "output_type": "stream",
     "text": [
      "GPU available: True, used: True\n",
      "TPU available: False, using: 0 TPU cores\n",
      "IPU available: False, using: 0 IPUs\n"
     ]
    }
   ],
   "source": [
    "trainer = swyft.SwyftTrainer(accelerator = 'gpu', gpus=1, max_epochs = 10)"
   ]
  },
  {
   "cell_type": "code",
   "execution_count": 8,
   "id": "c5811d37-d10b-49e8-a8ed-1e6d43caefa4",
   "metadata": {},
   "outputs": [],
   "source": [
    "network = Network()"
   ]
  },
  {
   "cell_type": "code",
   "execution_count": 9,
   "id": "41f7765b-45b8-4684-b820-4f75c9719857",
   "metadata": {},
   "outputs": [
    {
     "name": "stderr",
     "output_type": "stream",
     "text": [
      "LOCAL_RANK: 0 - CUDA_VISIBLE_DEVICES: [0]\n",
      "\n",
      "  | Name       | Type                | Params\n",
      "---------------------------------------------------\n",
      "0 | classifier | RatioEstimatorMLP1d | 52.6 K\n",
      "---------------------------------------------------\n",
      "52.6 K    Trainable params\n",
      "0         Non-trainable params\n",
      "52.6 K    Total params\n",
      "0.210     Total estimated model params size (MB)\n",
      "/home/weniger/miniconda3b/envs/zero/lib/python3.9/site-packages/pytorch_lightning/callbacks/model_checkpoint.py:631: UserWarning: Checkpoint directory /home/weniger/codes/swyft/notebooks/lightning_logs/version_9748326/checkpoints exists and is not empty.\n",
      "  rank_zero_warn(f\"Checkpoint directory {dirpath} exists and is not empty.\")\n"
     ]
    },
    {
     "name": "stdout",
     "output_type": "stream",
     "text": [
      "Validation sanity check:   0%|          | 0/2 [00:00<?, ?it/s]"
     ]
    },
    {
     "name": "stderr",
     "output_type": "stream",
     "text": [
      "/home/weniger/miniconda3b/envs/zero/lib/python3.9/site-packages/pytorch_lightning/trainer/data_loading.py:132: UserWarning: The dataloader, val_dataloader 0, does not have many workers which may be a bottleneck. Consider increasing the value of the `num_workers` argument` (try 24 which is the number of cpus on this machine) in the `DataLoader` init to improve performance.\n",
      "  rank_zero_warn(\n"
     ]
    },
    {
     "name": "stdout",
     "output_type": "stream",
     "text": [
      "                                                                      "
     ]
    },
    {
     "name": "stderr",
     "output_type": "stream",
     "text": [
      "/home/weniger/miniconda3b/envs/zero/lib/python3.9/site-packages/pytorch_lightning/trainer/data_loading.py:132: UserWarning: The dataloader, train_dataloader, does not have many workers which may be a bottleneck. Consider increasing the value of the `num_workers` argument` (try 24 which is the number of cpus on this machine) in the `DataLoader` init to improve performance.\n",
      "  rank_zero_warn(\n"
     ]
    },
    {
     "name": "stdout",
     "output_type": "stream",
     "text": [
      "Epoch 0:  89%|████████▊ | 63/71 [00:00<00:00, 92.44it/s, loss=-3.02, v_num=9748326] \n",
      "Validating: 0it [00:00, ?it/s]\u001b[A\n",
      "Epoch 0: 100%|██████████| 71/71 [00:00<00:00, 99.26it/s, loss=-3.02, v_num=9748326, val_loss=-2.91]\n",
      "Epoch 1:  89%|████████▊ | 63/71 [00:00<00:00, 90.08it/s, loss=-3.07, v_num=9748326, val_loss=-2.91]\n",
      "Validating: 0it [00:00, ?it/s]\u001b[A\n",
      "Epoch 1: 100%|██████████| 71/71 [00:00<00:00, 97.02it/s, loss=-3.07, v_num=9748326, val_loss=-3.03]\n",
      "Epoch 2:  89%|████████▊ | 63/71 [00:00<00:00, 94.08it/s, loss=-3.16, v_num=9748326, val_loss=-3.03]\n",
      "Validating: 0it [00:00, ?it/s]\u001b[A\n",
      "Epoch 2: 100%|██████████| 71/71 [00:00<00:00, 101.36it/s, loss=-3.16, v_num=9748326, val_loss=-2.98]\n",
      "Epoch 3:  89%|████████▊ | 63/71 [00:00<00:00, 95.58it/s, loss=-3.11, v_num=9748326, val_loss=-2.98] \n",
      "Validating: 0it [00:00, ?it/s]\u001b[A\n",
      "Epoch 3: 100%|██████████| 71/71 [00:00<00:00, 102.32it/s, loss=-3.11, v_num=9748326, val_loss=-3.08]\n",
      "Epoch 4:  89%|████████▊ | 63/71 [00:00<00:00, 92.88it/s, loss=-3.09, v_num=9748326, val_loss=-3.08] \n",
      "Validating: 0it [00:00, ?it/s]\u001b[A\n",
      "Epoch 4: 100%|██████████| 71/71 [00:00<00:00, 99.42it/s, loss=-3.09, v_num=9748326, val_loss=-3.13]\n",
      "Epoch 5:  89%|████████▊ | 63/71 [00:00<00:00, 101.43it/s, loss=-3.09, v_num=9748326, val_loss=-3.13]\n",
      "Validating: 0it [00:00, ?it/s]\u001b[A\n",
      "Epoch 5: 100%|██████████| 71/71 [00:00<00:00, 108.41it/s, loss=-3.09, v_num=9748326, val_loss=-3.11]\n",
      "Epoch 6:  89%|████████▊ | 63/71 [00:00<00:00, 94.63it/s, loss=-3.1, v_num=9748326, val_loss=-3.11]  \n",
      "Validating: 0it [00:00, ?it/s]\u001b[A\n",
      "Epoch 6: 100%|██████████| 71/71 [00:00<00:00, 101.47it/s, loss=-3.1, v_num=9748326, val_loss=-2.95]\n",
      "Epoch 7:  89%|████████▊ | 63/71 [00:00<00:00, 98.18it/s, loss=-3.1, v_num=9748326, val_loss=-2.95] \n",
      "Validating: 0it [00:00, ?it/s]\u001b[A\n",
      "Epoch 7: 100%|██████████| 71/71 [00:00<00:00, 105.08it/s, loss=-3.1, v_num=9748326, val_loss=-3.09]\n",
      "Epoch 8:  89%|████████▊ | 63/71 [00:00<00:00, 93.11it/s, loss=-3.14, v_num=9748326, val_loss=-3.09]\n",
      "Validating: 0it [00:00, ?it/s]\u001b[A\n",
      "Epoch 8: 100%|██████████| 71/71 [00:00<00:00, 100.05it/s, loss=-3.14, v_num=9748326, val_loss=-3.14]\n",
      "Epoch 9:  89%|████████▊ | 63/71 [00:00<00:00, 94.68it/s, loss=-3.09, v_num=9748326, val_loss=-3.14] \n",
      "Validating: 0it [00:00, ?it/s]\u001b[A\n",
      "Epoch 9: 100%|██████████| 71/71 [00:00<00:00, 101.45it/s, loss=-3.09, v_num=9748326, val_loss=-3.16]\n",
      "Epoch 9: 100%|██████████| 71/71 [00:00<00:00, 97.80it/s, loss=-3.09, v_num=9748326, val_loss=-3.16] \n"
     ]
    }
   ],
   "source": [
    "trainer.fit(network, dl_train, dl_valid)"
   ]
  },
  {
   "cell_type": "code",
   "execution_count": 10,
   "id": "4f676eec-c465-4940-9d7b-6dc584f837f1",
   "metadata": {},
   "outputs": [
    {
     "name": "stderr",
     "output_type": "stream",
     "text": [
      "Restoring states from the checkpoint path at /home/weniger/codes/swyft/notebooks/lightning_logs/version_9748326/checkpoints/epoch=9-step=629.ckpt\n",
      "LOCAL_RANK: 0 - CUDA_VISIBLE_DEVICES: [0]\n",
      "Loaded model weights from checkpoint at /home/weniger/codes/swyft/notebooks/lightning_logs/version_9748326/checkpoints/epoch=9-step=629.ckpt\n",
      "/home/weniger/miniconda3b/envs/zero/lib/python3.9/site-packages/pytorch_lightning/trainer/data_loading.py:132: UserWarning: The dataloader, test_dataloader 0, does not have many workers which may be a bottleneck. Consider increasing the value of the `num_workers` argument` (try 24 which is the number of cpus on this machine) in the `DataLoader` init to improve performance.\n",
      "  rank_zero_warn(\n"
     ]
    },
    {
     "name": "stdout",
     "output_type": "stream",
     "text": [
      "Testing: 0it [00:00, ?it/s]--------------------------------------------------------------------------------\n",
      "DATALOADER:0 TEST RESULTS\n",
      "{'hp/JS-div': -3.11047101020813, 'hp/KL-div': -7.5274224281311035}\n",
      "--------------------------------------------------------------------------------\n",
      "Testing: 100%|██████████| 8/8 [00:00<00:00, 189.73it/s]\n"
     ]
    },
    {
     "data": {
      "text/plain": [
       "[{'hp/JS-div': -3.11047101020813, 'hp/KL-div': -7.5274224281311035}]"
      ]
     },
     "execution_count": 10,
     "metadata": {},
     "output_type": "execute_result"
    }
   ],
   "source": [
    "trainer.test(network, dl_test, ckpt_path = 'best')"
   ]
  },
  {
   "cell_type": "code",
   "execution_count": 11,
   "id": "633154d4-bcd3-4852-aa18-323693e4b588",
   "metadata": {},
   "outputs": [
    {
     "name": "stderr",
     "output_type": "stream",
     "text": [
      "100%|██████████| 10000/10000 [00:00<00:00, 91220.18it/s]\n"
     ]
    }
   ],
   "source": [
    "x0 = [0.3, 0.5, 0.7]\n",
    "prior_samples = simulator(10000, targets = ['z'])"
   ]
  },
  {
   "cell_type": "code",
   "execution_count": 12,
   "id": "6e1cbc13-ab64-43a8-acf0-4ab9f9c650f6",
   "metadata": {},
   "outputs": [
    {
     "name": "stderr",
     "output_type": "stream",
     "text": [
      "LOCAL_RANK: 0 - CUDA_VISIBLE_DEVICES: [0]\n"
     ]
    },
    {
     "name": "stdout",
     "output_type": "stream",
     "text": [
      "Predicting: 63it [00:00, ?it/s]"
     ]
    },
    {
     "name": "stderr",
     "output_type": "stream",
     "text": [
      "/home/weniger/miniconda3b/envs/zero/lib/python3.9/site-packages/pytorch_lightning/loops/epoch/prediction_epoch_loop.py:174: UserWarning: Lightning couldn't infer the indices fetched for your dataloader.\n",
      "  warning_cache.warn(\"Lightning couldn't infer the indices fetched for your dataloader.\")\n"
     ]
    },
    {
     "name": "stdout",
     "output_type": "stream",
     "text": [
      "Predicting: 63it [00:00, ?it/s]\n"
     ]
    }
   ],
   "source": [
    "predictions = trainer.infer(network, {'x': torch.tensor(x0)}, prior_samples.get_dataloader(batch_size = 1024))"
   ]
  },
  {
   "cell_type": "code",
   "execution_count": 13,
   "id": "6336f6ed-72c2-4c60-a7f1-af53efa243e2",
   "metadata": {},
   "outputs": [],
   "source": [
    "post_samples = predictions.sample(100000)"
   ]
  },
  {
   "cell_type": "code",
   "execution_count": 14,
   "id": "dbab5ad8-52d4-4932-a93c-989b59663e63",
   "metadata": {},
   "outputs": [
    {
     "name": "stdout",
     "output_type": "stream",
     "text": [
      "0.018463455\n",
      "0.022417914\n",
      "0.021491708\n"
     ]
    },
    {
     "data": {
      "image/png": "[encoded data removed]",
      "text/plain": [
       "<Figure size 432x288 with 1 Axes>"
      ]
     },
     "metadata": {
      "needs_background": "light"
     },
     "output_type": "display_data"
    }
   ],
   "source": [
    "import pylab as plt\n",
    "for i in range(3):\n",
    "    s = post_samples['z'][:,i].numpy()\n",
    "    print(s.std())\n",
    "    plt.hist(s, bins = 50, density=True);\n",
    "    plt.axvline(x0[i], color='r')"
   ]
  },
  {
   "cell_type": "code",
   "execution_count": null,
   "id": "b52ca066-8958-4bbb-ae27-e046740f4763",
   "metadata": {},
   "outputs": [],
   "source": []
  }
 ],
 "metadata": {
  "kernelspec": {
   "display_name": "Python 3",
   "language": "python",
   "name": "python3"
  },
  "language_info": {
   "codemirror_mode": {
    "name": "ipython",
    "version": 3
   },
   "file_extension": ".py",
   "mimetype": "text/x-python",
   "name": "python",
   "nbconvert_exporter": "python",
   "pygments_lexer": "ipython3",
   "version": "3.9.7"
  }
 },
 "nbformat": 4,
 "nbformat_minor": 5
}
