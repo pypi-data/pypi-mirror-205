{
 "cells": [
  {
   "cell_type": "code",
   "execution_count": 1,
   "id": "3822aac4-d5eb-4979-b237-70c80d2489e8",
   "metadata": {},
   "outputs": [],
   "source": [
    "%load_ext autoreload\n",
    "%autoreload 2"
   ]
  },
  {
   "cell_type": "code",
   "execution_count": 2,
   "id": "0297c907",
   "metadata": {},
   "outputs": [],
   "source": [
    "import pylab as plt\n",
    "import numpy as np\n",
    "import torch\n",
    "import seaborn\n",
    "import swyft.lightning as sl"
   ]
  },
  {
   "cell_type": "code",
   "execution_count": 3,
   "id": "27daa2f7-d569-4886-a5fb-28c8f2426950",
   "metadata": {},
   "outputs": [
    {
     "name": "stderr",
     "output_type": "stream",
     "text": [
      "100%|██████████| 1/1 [00:00<00:00, 918.39it/s]\n",
      "100%|██████████| 1/1 [00:00<00:00, 2318.58it/s]"
     ]
    },
    {
     "name": "stdout",
     "output_type": "stream",
     "text": [
      "tensor([ 0.2349, -0.3863, -0.1676])\n"
     ]
    },
    {
     "name": "stderr",
     "output_type": "stream",
     "text": [
      "\n"
     ]
    },
    {
     "data": {
      "image/png": "[encoded data removed]",
      "text/plain": [
       "<Figure size 432x288 with 1 Axes>"
      ]
     },
     "metadata": {
      "needs_background": "light"
     },
     "output_type": "display_data"
    }
   ],
   "source": [
    "class Model(sl.SwyftModel):\n",
    "    def fast(self, S):\n",
    "        d = S['mu'] + torch.randn_like(S['mu'])*0.5\n",
    "        return sl.SampleStore(data = d)\n",
    "        \n",
    "    def slow(self, S):\n",
    "        a, b, c = S['z']\n",
    "        x = np.linspace(-1, 1, 100)\n",
    "        mu = a+b*x + c*x**2\n",
    "        return sl.SampleStore(mu=mu.float())\n",
    "\n",
    "    def prior(self, N, bounds = None):\n",
    "        low = -np.ones(3)\n",
    "        high = np.ones(3)\n",
    "        if bounds is not None:\n",
    "            low, high = bounds['z'].low, bounds['z'].high\n",
    "        draw = np.array([np.random.uniform(low=low, high=high) for _ in range(N)])\n",
    "        return sl.SampleStore(z = torch.tensor(draw).float())\n",
    "    \n",
    "m = Model()\n",
    "s0 = m.sample(1)[0]\n",
    "plt.plot(s0['data'])\n",
    "plt.plot(s0['mu'])\n",
    "print(s0['z'])\n",
    "b = None"
   ]
  },
  {
   "cell_type": "code",
   "execution_count": 4,
   "id": "e0afb416-08aa-4499-8914-2b321d905f90",
   "metadata": {},
   "outputs": [],
   "source": [
    "class InferenceNet(sl.SwyftModule):\n",
    "    def __init__(self):\n",
    "        super().__init__()\n",
    "        #self.online_z_score = swyft.networks.OnlineDictStandardizingLayer(dict(img = (50, 50)))\n",
    "        self.CNN = torch.nn.Sequential(\n",
    "            torch.nn.Conv1d(1, 5, 10),\n",
    "            torch.nn.MaxPool1d(4),\n",
    "            torch.nn.Conv1d(5, 15, 10),\n",
    "            torch.nn.MaxPool1d(4),\n",
    "            torch.nn.Flatten(),\n",
    "            torch.nn.LazyLinear(128),\n",
    "            torch.nn.ReLU(),\n",
    "            torch.nn.Linear(128, 16),\n",
    "        )\n",
    "        marginals = ((0,1), (0, 2), (1, 2))\n",
    "        self.classifier = sl.RatioEstimatorMLPnd(16, marginals, hidden_features = 256)\n",
    "\n",
    "    def forward(self, x, z):\n",
    "        # Digesting x\n",
    "        data = x['data']\n",
    "        #x = self.online_z_score(x)['img']\n",
    "        x = self.CNN(data.unsqueeze(1)).squeeze(1)\n",
    "        \n",
    "        out = self.classifier(x, z['z'])\n",
    "        return dict(z = out)"
   ]
  },
  {
   "cell_type": "markdown",
   "id": "39dac473-98a3-481e-b9af-b8d30157fda2",
   "metadata": {},
   "source": [
    "## Workflow"
   ]
  },
  {
   "cell_type": "code",
   "execution_count": 5,
   "id": "ae869371-5e0c-4433-a183-776ae7d8fb1b",
   "metadata": {},
   "outputs": [
    {
     "name": "stderr",
     "output_type": "stream",
     "text": [
      "100%|██████████| 10000/10000 [00:01<00:00, 5915.48it/s]\n",
      "100%|██████████| 10000/10000 [00:00<00:00, 54813.03it/s]\n"
     ]
    }
   ],
   "source": [
    "m = Model()\n",
    "s = m.sample(10000, bounds = b)"
   ]
  },
  {
   "cell_type": "code",
   "execution_count": 6,
   "id": "84ece37c-7715-4079-bc73-31164104fcdb",
   "metadata": {},
   "outputs": [
    {
     "name": "stderr",
     "output_type": "stream",
     "text": [
      "/home/weniger/miniconda3/envs/p38/lib/python3.8/site-packages/torch-1.9.0-py3.8-linux-x86_64.egg/torch/nn/modules/lazy.py:178: UserWarning: Lazy modules are a new feature under heavy development so changes to the API or functionality can happen at any moment.\n",
      "  warnings.warn('Lazy modules are a new feature under heavy development '\n"
     ]
    }
   ],
   "source": [
    "r = InferenceNet()\n",
    "d = sl.SwyftDataModule(store = s, model = m, batch_size = 256)"
   ]
  },
  {
   "cell_type": "code",
   "execution_count": 7,
   "id": "4f1b9d9d-ef04-42c7-86d7-439dc6f6fb28",
   "metadata": {},
   "outputs": [
    {
     "name": "stderr",
     "output_type": "stream",
     "text": [
      "GPU available: True, used: True\n",
      "TPU available: False, using: 0 TPU cores\n",
      "IPU available: False, using: 0 IPUs\n",
      "LOCAL_RANK: 0 - CUDA_VISIBLE_DEVICES: [0]\n",
      "/home/weniger/miniconda3/envs/p38/lib/python3.8/site-packages/pytorch_lightning/utilities/model_summary.py:438: UserWarning: A layer with UninitializedParameter was found. Thus, the total number of parameters detected may be inaccurate.\n",
      "  warning_cache.warn(\n",
      "\n",
      "  | Name       | Type                | Params\n",
      "---------------------------------------------------\n",
      "0 | CNN        | Sequential          | 2.9 K \n",
      "1 | classifier | RatioEstimatorMLPnd | 811 K \n",
      "---------------------------------------------------\n",
      "813 K     Trainable params\n",
      "0         Non-trainable params\n",
      "813 K     Total params\n",
      "3.256     Total estimated model params size (MB)\n",
      "/home/weniger/miniconda3/envs/p38/lib/python3.8/site-packages/pytorch_lightning/callbacks/model_checkpoint.py:631: UserWarning: Checkpoint directory /home/weniger/codes/swyft/notebooks/lightning_logs/version_8773359/checkpoints exists and is not empty.\n",
      "  rank_zero_warn(f\"Checkpoint directory {dirpath} exists and is not empty.\")\n"
     ]
    },
    {
     "data": {
      "application/vnd.jupyter.widget-view+json": {
       "model_id": "",
       "version_major": 2,
       "version_minor": 0
      },
      "text/plain": [
       "Validation sanity check: 0it [00:00, ?it/s]"
      ]
     },
     "metadata": {},
     "output_type": "display_data"
    },
    {
     "name": "stderr",
     "output_type": "stream",
     "text": [
      "/home/weniger/miniconda3/envs/p38/lib/python3.8/site-packages/pytorch_lightning/trainer/data_loading.py:132: UserWarning: The dataloader, val_dataloader 0, does not have many workers which may be a bottleneck. Consider increasing the value of the `num_workers` argument` (try 24 which is the number of cpus on this machine) in the `DataLoader` init to improve performance.\n",
      "  rank_zero_warn(\n",
      "/home/weniger/miniconda3/envs/p38/lib/python3.8/site-packages/torch-1.9.0-py3.8-linux-x86_64.egg/torch/nn/functional.py:652: UserWarning: Named tensors and all their associated APIs are an experimental feature and subject to change. Please do not use them for anything important until they are released as stable. (Triggered internally at  /pytorch/c10/core/TensorImpl.h:1156.)\n",
      "  return torch.max_pool1d(input, kernel_size, stride, padding, dilation, ceil_mode)\n",
      "/home/weniger/miniconda3/envs/p38/lib/python3.8/site-packages/torch-1.9.0-py3.8-linux-x86_64.egg/torch/nn/_reduction.py:42: UserWarning: size_average and reduce args will be deprecated, please use reduction='none' instead.\n",
      "  warnings.warn(warning.format(ret))\n",
      "/home/weniger/miniconda3/envs/p38/lib/python3.8/site-packages/pytorch_lightning/trainer/data_loading.py:132: UserWarning: The dataloader, train_dataloader, does not have many workers which may be a bottleneck. Consider increasing the value of the `num_workers` argument` (try 24 which is the number of cpus on this machine) in the `DataLoader` init to improve performance.\n",
      "  rank_zero_warn(\n",
      "/home/weniger/miniconda3/envs/p38/lib/python3.8/site-packages/pytorch_lightning/trainer/data_loading.py:432: UserWarning: The number of training samples (32) is smaller than the logging interval Trainer(log_every_n_steps=50). Set a lower value for log_every_n_steps if you want to see logs for the training epoch.\n",
      "  rank_zero_warn(\n"
     ]
    },
    {
     "data": {
      "application/vnd.jupyter.widget-view+json": {
       "model_id": "4a0617c15b3448ef9fd97438cdd9ae67",
       "version_major": 2,
       "version_minor": 0
      },
      "text/plain": [
       "Training: 0it [00:00, ?it/s]"
      ]
     },
     "metadata": {},
     "output_type": "display_data"
    },
    {
     "data": {
      "application/vnd.jupyter.widget-view+json": {
       "model_id": "",
       "version_major": 2,
       "version_minor": 0
      },
      "text/plain": [
       "Validating: 0it [00:00, ?it/s]"
      ]
     },
     "metadata": {},
     "output_type": "display_data"
    },
    {
     "data": {
      "application/vnd.jupyter.widget-view+json": {
       "model_id": "",
       "version_major": 2,
       "version_minor": 0
      },
      "text/plain": [
       "Validating: 0it [00:00, ?it/s]"
      ]
     },
     "metadata": {},
     "output_type": "display_data"
    },
    {
     "data": {
      "application/vnd.jupyter.widget-view+json": {
       "model_id": "",
       "version_major": 2,
       "version_minor": 0
      },
      "text/plain": [
       "Validating: 0it [00:00, ?it/s]"
      ]
     },
     "metadata": {},
     "output_type": "display_data"
    },
    {
     "data": {
      "application/vnd.jupyter.widget-view+json": {
       "model_id": "",
       "version_major": 2,
       "version_minor": 0
      },
      "text/plain": [
       "Validating: 0it [00:00, ?it/s]"
      ]
     },
     "metadata": {},
     "output_type": "display_data"
    },
    {
     "data": {
      "application/vnd.jupyter.widget-view+json": {
       "model_id": "",
       "version_major": 2,
       "version_minor": 0
      },
      "text/plain": [
       "Validating: 0it [00:00, ?it/s]"
      ]
     },
     "metadata": {},
     "output_type": "display_data"
    }
   ],
   "source": [
    "t = sl.SwyftTrainer(accelerator = 'gpu', gpus=1, max_epochs = 5)\n",
    "t.fit(r, d)"
   ]
  },
  {
   "cell_type": "code",
   "execution_count": 8,
   "id": "78bd318d-4e38-4cf3-84a5-29009ddd5fad",
   "metadata": {},
   "outputs": [
    {
     "name": "stderr",
     "output_type": "stream",
     "text": [
      "LOCAL_RANK: 0 - CUDA_VISIBLE_DEVICES: [0]\n",
      "/home/weniger/miniconda3/envs/p38/lib/python3.8/site-packages/pytorch_lightning/trainer/data_loading.py:132: UserWarning: The dataloader, test_dataloader 0, does not have many workers which may be a bottleneck. Consider increasing the value of the `num_workers` argument` (try 24 which is the number of cpus on this machine) in the `DataLoader` init to improve performance.\n",
      "  rank_zero_warn(\n"
     ]
    },
    {
     "data": {
      "application/vnd.jupyter.widget-view+json": {
       "model_id": "f3a82b1eb85c40b181dcacf828f862bf",
       "version_major": 2,
       "version_minor": 0
      },
      "text/plain": [
       "Testing: 0it [00:00, ?it/s]"
      ]
     },
     "metadata": {},
     "output_type": "display_data"
    },
    {
     "name": "stdout",
     "output_type": "stream",
     "text": [
      "--------------------------------------------------------------------------------\n",
      "DATALOADER:0 TEST RESULTS\n",
      "{'hp/JS-div': 1.0335761308670044, 'hp/KL-div': -8.772013664245605}\n",
      "--------------------------------------------------------------------------------\n"
     ]
    },
    {
     "data": {
      "text/plain": [
       "[{'hp/JS-div': 1.0335761308670044, 'hp/KL-div': -8.772013664245605}]"
      ]
     },
     "execution_count": 8,
     "metadata": {},
     "output_type": "execute_result"
    }
   ],
   "source": [
    "t.test(r, d)"
   ]
  },
  {
   "cell_type": "code",
   "execution_count": 9,
   "id": "1a98cfd0-9627-442e-994f-53bd388a0431",
   "metadata": {},
   "outputs": [],
   "source": [
    "sp = m.prior(100000, bounds = b)\n",
    "dp = sl.SwyftDataModule(store = sp, model = None, batch_size = 256)"
   ]
  },
  {
   "cell_type": "code",
   "execution_count": 10,
   "id": "29626ec9-43d1-4fe6-bad5-2c3798cf8761",
   "metadata": {},
   "outputs": [
    {
     "name": "stderr",
     "output_type": "stream",
     "text": [
      "LOCAL_RANK: 0 - CUDA_VISIBLE_DEVICES: [0]\n",
      "/home/weniger/miniconda3/envs/p38/lib/python3.8/site-packages/pytorch_lightning/trainer/data_loading.py:132: UserWarning: The dataloader, predict_dataloader 0, does not have many workers which may be a bottleneck. Consider increasing the value of the `num_workers` argument` (try 24 which is the number of cpus on this machine) in the `DataLoader` init to improve performance.\n",
      "  rank_zero_warn(\n"
     ]
    },
    {
     "data": {
      "application/vnd.jupyter.widget-view+json": {
       "model_id": "b886e5437eef47c9b6346abd57db1036",
       "version_major": 2,
       "version_minor": 0
      },
      "text/plain": [
       "Predicting: 32it [00:00, ?it/s]"
      ]
     },
     "metadata": {},
     "output_type": "display_data"
    }
   ],
   "source": [
    "p = t.infer(r, dp, condition_x = s0)   # Weighted posterior samples"
   ]
  },
  {
   "cell_type": "code",
   "execution_count": 11,
   "id": "dd92f72a-6b68-4d73-a449-7d6b830d05e3",
   "metadata": {},
   "outputs": [],
   "source": [
    "ps = p.sample(100000, replacement = True)\n",
    "zs = ps['z']"
   ]
  },
  {
   "cell_type": "code",
   "execution_count": 12,
   "id": "041c96cd-2a1f-4894-95a2-daf1d9ee9cc0",
   "metadata": {},
   "outputs": [
    {
     "data": {
      "text/plain": [
       "(-1.0, 1.0)"
      ]
     },
     "execution_count": 12,
     "metadata": {},
     "output_type": "execute_result"
    },
    {
     "data": {
      "image/png": "[encoded data removed]",
      "text/plain": [
       "<Figure size 432x288 with 1 Axes>"
      ]
     },
     "metadata": {
      "needs_background": "light"
     },
     "output_type": "display_data"
    }
   ],
   "source": [
    "data = np.array(zs[:,2])\n",
    "seaborn.histplot(x = data[:,0], y = data[:,1], bins = 30)\n",
    "#seaborn.kdeplot(x = data[:,0], y = data[:,1], bins = 30, levels = 3)\n",
    "plt.xlim([-1, 1])\n",
    "plt.ylim([-1, 1])"
   ]
  },
  {
   "cell_type": "code",
   "execution_count": null,
   "id": "d68a3092-0e5d-4157-abba-615d9cfc76c7",
   "metadata": {},
   "outputs": [],
   "source": []
  }
 ],
 "metadata": {
  "kernelspec": {
   "display_name": "p38",
   "language": "python",
   "name": "p38"
  },
  "language_info": {
   "codemirror_mode": {
    "name": "ipython",
    "version": 3
   },
   "file_extension": ".py",
   "mimetype": "text/x-python",
   "name": "python",
   "nbconvert_exporter": "python",
   "pygments_lexer": "ipython3",
   "version": "3.8.2"
  }
 },
 "nbformat": 4,
 "nbformat_minor": 5
}
