{
 "cells": [
  {
   "cell_type": "code",
   "execution_count": 1,
   "id": "3822aac4-d5eb-4979-b237-70c80d2489e8",
   "metadata": {},
   "outputs": [],
   "source": [
    "%load_ext autoreload\n",
    "%autoreload 2"
   ]
  },
  {
   "cell_type": "code",
   "execution_count": 2,
   "id": "0297c907",
   "metadata": {},
   "outputs": [],
   "source": [
    "import pylab as plt\n",
    "import numpy as np\n",
    "import torch\n",
    "import swyft.lightning as sl"
   ]
  },
  {
   "cell_type": "code",
   "execution_count": 3,
   "id": "1fec994c-6714-4bab-b7a6-52dec48a4612",
   "metadata": {},
   "outputs": [],
   "source": [
    "def simulator(v, w = 0.03):\n",
    "    \"Ring simulator\"\n",
    "    x1, y1, r = v\n",
    "    \n",
    "    grid = np.linspace(0, 1, 32, 32)\n",
    "    X, Y = np.meshgrid(grid, grid)\n",
    "    \n",
    "    R1 = ((X-x1)**2 + (Y-y1)**2)**0.5\n",
    "    mu = np.exp(-(R1-r)**2/w**2/2)\n",
    "    \n",
    "    # Add random distortions in terms of lines\n",
    "    for _ in range(20):\n",
    "        xr = np.random.rand(2)\n",
    "        mu += 0.8*np.exp(-(X*xr[0]+Y*(1-xr[0])-xr[1])**2/0.01**2)\n",
    "        \n",
    "    return {\"img\": np.expand_dims(np.array(mu), 0)}"
   ]
  },
  {
   "cell_type": "code",
   "execution_count": 4,
   "id": "27daa2f7-d569-4886-a5fb-28c8f2426950",
   "metadata": {},
   "outputs": [
    {
     "name": "stderr",
     "output_type": "stream",
     "text": [
      "100%|██████████| 1/1 [00:00<00:00, 704.81it/s]\n",
      "100%|██████████| 1/1 [00:00<00:00, 2291.97it/s]\n"
     ]
    },
    {
     "data": {
      "text/plain": [
       "<matplotlib.image.AxesImage at 0x145e28f31b80>"
      ]
     },
     "execution_count": 4,
     "metadata": {},
     "output_type": "execute_result"
    },
    {
     "data": {
      "image/png": "[encoded data removed]",
      "text/plain": [
       "<Figure size 432x288 with 1 Axes>"
      ]
     },
     "metadata": {
      "needs_background": "light"
     },
     "output_type": "display_data"
    }
   ],
   "source": [
    "class Model(sl.SwyftModel):\n",
    "    def fast(self, S):\n",
    "        d = S['mu'] + torch.randn_like(S['mu'])*0.1\n",
    "        return sl.SampleStore(data = d)\n",
    "        \n",
    "    def slow(self, v, w = 0.03):\n",
    "        \"Ring simulator\"\n",
    "        x1, y1, r = np.array(v['z'])\n",
    "\n",
    "        grid = np.linspace(0, 1, 32, 32)\n",
    "        X, Y = np.meshgrid(grid, grid)\n",
    "\n",
    "        R1 = ((X-x1)**2 + (Y-y1)**2)**0.5\n",
    "        mu = np.exp(-(R1-r)**2/w**2/2)\n",
    "\n",
    "        # Add random distortions in terms of lines\n",
    "        for _ in range(20):\n",
    "            xr = np.random.rand(2)\n",
    "            mu += 0.8*np.exp(-(X*xr[0]+Y*(1-xr[0])-xr[1])**2/0.01**2)\n",
    "\n",
    "        return {\"mu\": torch.tensor(np.array(mu)).float()}\n",
    "        \n",
    "\n",
    "    def prior(self, N, bounds = None):\n",
    "        low = np.zeros(3)\n",
    "        high = np.array([1., 1., 0.5])        \n",
    "        if bounds is not None:\n",
    "            low, high = bounds['z'].low, bounds['z'].high\n",
    "        draw = np.array([np.random.uniform(low=low, high=high) for _ in range(N)])\n",
    "        return sl.SampleStore(z = torch.tensor(draw).float())\n",
    "    \n",
    "m = Model()\n",
    "s0 = m.sample(1)[0]\n",
    "mu = s0['data']\n",
    "plt.imshow(mu)"
   ]
  },
  {
   "cell_type": "markdown",
   "id": "d2be2f92-d80e-4aa5-9844-302ce3ea11f6",
   "metadata": {},
   "source": [
    "## Definition of target image"
   ]
  },
  {
   "cell_type": "code",
   "execution_count": 5,
   "id": "e0afb416-08aa-4499-8914-2b321d905f90",
   "metadata": {},
   "outputs": [],
   "source": [
    "class InferenceNet(sl.SwyftModule):\n",
    "    def __init__(self):\n",
    "        super().__init__()\n",
    "        #self.online_z_score = swyft.networks.OnlineDictStandardizingLayer(dict(img = (50, 50)))\n",
    "        self.CNN = torch.nn.Sequential(\n",
    "            torch.nn.Conv2d(1, 10, 3),\n",
    "            torch.nn.MaxPool2d(2),\n",
    "            torch.nn.Conv2d(10, 20, 3),\n",
    "            torch.nn.MaxPool2d(2),\n",
    "            torch.nn.Flatten(),\n",
    "            torch.nn.LazyLinear(128),\n",
    "            torch.nn.ReLU(),\n",
    "            torch.nn.Linear(128, 16),\n",
    "        )\n",
    "        self.classifier = sl.RatioEstimatorMLP1d(16, 3, hidden_features = 256)\n",
    "\n",
    "    def forward(self, x, z):\n",
    "        # Digesting x\n",
    "        data = x['data']\n",
    "        #x = self.online_z_score(x)['img']\n",
    "        x = self.CNN(data.unsqueeze(1)).squeeze(1)\n",
    "        \n",
    "        out = self.classifier(x, z['z'])\n",
    "        return dict(z = out)"
   ]
  },
  {
   "cell_type": "markdown",
   "id": "39dac473-98a3-481e-b9af-b8d30157fda2",
   "metadata": {},
   "source": [
    "## Workflow"
   ]
  },
  {
   "cell_type": "code",
   "execution_count": 6,
   "id": "ae869371-5e0c-4433-a183-776ae7d8fb1b",
   "metadata": {},
   "outputs": [
    {
     "name": "stderr",
     "output_type": "stream",
     "text": [
      "100%|██████████| 10000/10000 [00:07<00:00, 1349.20it/s]\n",
      "100%|██████████| 10000/10000 [00:00<00:00, 38699.95it/s]\n"
     ]
    }
   ],
   "source": [
    "m = Model()\n",
    "s = m.sample(10000)"
   ]
  },
  {
   "cell_type": "code",
   "execution_count": 7,
   "id": "44a2b692-309f-4f11-ad02-ecf32b68b019",
   "metadata": {},
   "outputs": [
    {
     "data": {
      "text/plain": [
       "{'data': tensor([[ 1.3511e-01,  6.7952e-01, -7.3385e-02,  ..., -8.5546e-02,\n",
       "          -2.1729e-02,  5.0527e-02],\n",
       "         [ 7.2049e-01, -8.2875e-02, -1.0720e-02,  ..., -5.8736e-04,\n",
       "          -2.0108e-02,  1.8704e-01],\n",
       "         [-2.0871e-02, -1.3350e-01,  1.5413e-03,  ..., -7.9641e-03,\n",
       "          -3.3055e-02,  3.6501e-02],\n",
       "         ...,\n",
       "         [ 2.5786e-01,  1.0513e+00,  7.5526e-01,  ...,  1.4545e-01,\n",
       "           9.7292e-02,  2.9071e-01],\n",
       "         [ 7.4288e-02,  2.1700e-01,  6.2480e-01,  ...,  7.1238e-02,\n",
       "           2.1727e-01,  2.9585e-01],\n",
       "         [ 1.6634e+00,  1.5161e+00,  2.8888e-01,  ...,  6.7567e-01,\n",
       "           8.8774e-02,  1.0276e-01]]),\n",
       " 'z': tensor([0.5891, 0.4321, 0.0355]),\n",
       " 'mu': tensor([[1.7990e-01, 5.7314e-01, 2.8200e-03,  ..., 7.4321e-38, 1.9944e-24,\n",
       "          5.2134e-14],\n",
       "         [7.6702e-01, 1.4406e-02, 1.5994e-05,  ..., 1.0053e-27, 1.6790e-16,\n",
       "          2.7330e-08],\n",
       "         [5.5777e-02, 6.1775e-06, 4.6374e-03,  ..., 1.0685e-16, 3.4633e-10,\n",
       "          3.4723e-04],\n",
       "         ...,\n",
       "         [2.5683e-01, 9.6216e-01, 8.2692e-01,  ..., 2.2629e-01, 2.2536e-01,\n",
       "          2.2444e-01],\n",
       "         [2.0392e-01, 5.2388e-01, 5.4496e-01,  ..., 8.1999e-03, 5.2439e-02,\n",
       "          2.0768e-01],\n",
       "         [1.6121e+00, 1.5498e+00, 5.8496e-01,  ..., 5.6072e-01, 2.4619e-01,\n",
       "          6.6940e-02]])}"
      ]
     },
     "execution_count": 7,
     "metadata": {},
     "output_type": "execute_result"
    }
   ],
   "source": [
    "# Access of individual samples\n",
    "s[0]"
   ]
  },
  {
   "cell_type": "code",
   "execution_count": 8,
   "id": "d3086984-1ea4-4b3f-a0e2-32c81bd4c418",
   "metadata": {},
   "outputs": [
    {
     "data": {
      "text/plain": [
       "tensor([[0.5891, 0.4321, 0.0355],\n",
       "        [0.3243, 0.2568, 0.0443],\n",
       "        [0.2520, 0.4151, 0.4496],\n",
       "        ...,\n",
       "        [0.7312, 0.5683, 0.1254],\n",
       "        [0.7866, 0.2162, 0.2050],\n",
       "        [0.2644, 0.1550, 0.4171]])"
      ]
     },
     "execution_count": 8,
     "metadata": {},
     "output_type": "execute_result"
    }
   ],
   "source": [
    "# Access of all samples with specific key\n",
    "s['z']"
   ]
  },
  {
   "cell_type": "code",
   "execution_count": 9,
   "id": "84ece37c-7715-4079-bc73-31164104fcdb",
   "metadata": {},
   "outputs": [
    {
     "name": "stderr",
     "output_type": "stream",
     "text": [
      "/home/weniger/miniconda3/envs/p38/lib/python3.8/site-packages/torch-1.9.0-py3.8-linux-x86_64.egg/torch/nn/modules/lazy.py:178: UserWarning: Lazy modules are a new feature under heavy development so changes to the API or functionality can happen at any moment.\n",
      "  warnings.warn('Lazy modules are a new feature under heavy development '\n"
     ]
    }
   ],
   "source": [
    "r = InferenceNet()\n",
    "d = sl.SwyftDataModule(store = s, model = None, batch_size = 64)"
   ]
  },
  {
   "cell_type": "code",
   "execution_count": 10,
   "id": "4f1b9d9d-ef04-42c7-86d7-439dc6f6fb28",
   "metadata": {},
   "outputs": [
    {
     "name": "stderr",
     "output_type": "stream",
     "text": [
      "GPU available: True, used: True\n",
      "TPU available: False, using: 0 TPU cores\n",
      "IPU available: False, using: 0 IPUs\n",
      "LOCAL_RANK: 0 - CUDA_VISIBLE_DEVICES: [0]\n",
      "/home/weniger/miniconda3/envs/p38/lib/python3.8/site-packages/pytorch_lightning/utilities/model_summary.py:438: UserWarning: A layer with UninitializedParameter was found. Thus, the total number of parameters detected may be inaccurate.\n",
      "  warning_cache.warn(\n",
      "\n",
      "  | Name       | Type                | Params\n",
      "---------------------------------------------------\n",
      "0 | CNN        | Sequential          | 4.0 K \n",
      "1 | classifier | RatioEstimatorMLP1d | 810 K \n",
      "---------------------------------------------------\n",
      "814 K     Trainable params\n",
      "0         Non-trainable params\n",
      "814 K     Total params\n",
      "3.257     Total estimated model params size (MB)\n",
      "/home/weniger/miniconda3/envs/p38/lib/python3.8/site-packages/pytorch_lightning/callbacks/model_checkpoint.py:631: UserWarning: Checkpoint directory /home/weniger/codes/swyft/notebooks/lightning_logs/version_8773359/checkpoints exists and is not empty.\n",
      "  rank_zero_warn(f\"Checkpoint directory {dirpath} exists and is not empty.\")\n"
     ]
    },
    {
     "data": {
      "application/vnd.jupyter.widget-view+json": {
       "model_id": "",
       "version_major": 2,
       "version_minor": 0
      },
      "text/plain": [
       "Validation sanity check: 0it [00:00, ?it/s]"
      ]
     },
     "metadata": {},
     "output_type": "display_data"
    },
    {
     "name": "stderr",
     "output_type": "stream",
     "text": [
      "/home/weniger/miniconda3/envs/p38/lib/python3.8/site-packages/pytorch_lightning/trainer/data_loading.py:132: UserWarning: The dataloader, val_dataloader 0, does not have many workers which may be a bottleneck. Consider increasing the value of the `num_workers` argument` (try 24 which is the number of cpus on this machine) in the `DataLoader` init to improve performance.\n",
      "  rank_zero_warn(\n",
      "/home/weniger/miniconda3/envs/p38/lib/python3.8/site-packages/torch-1.9.0-py3.8-linux-x86_64.egg/torch/nn/functional.py:718: UserWarning: Named tensors and all their associated APIs are an experimental feature and subject to change. Please do not use them for anything important until they are released as stable. (Triggered internally at  /pytorch/c10/core/TensorImpl.h:1156.)\n",
      "  return torch.max_pool2d(input, kernel_size, stride, padding, dilation, ceil_mode)\n",
      "/home/weniger/miniconda3/envs/p38/lib/python3.8/site-packages/torch-1.9.0-py3.8-linux-x86_64.egg/torch/nn/_reduction.py:42: UserWarning: size_average and reduce args will be deprecated, please use reduction='none' instead.\n",
      "  warnings.warn(warning.format(ret))\n",
      "/home/weniger/miniconda3/envs/p38/lib/python3.8/site-packages/pytorch_lightning/trainer/data_loading.py:132: UserWarning: The dataloader, train_dataloader, does not have many workers which may be a bottleneck. Consider increasing the value of the `num_workers` argument` (try 24 which is the number of cpus on this machine) in the `DataLoader` init to improve performance.\n",
      "  rank_zero_warn(\n"
     ]
    },
    {
     "data": {
      "application/vnd.jupyter.widget-view+json": {
       "model_id": "403e617b51364864a75c57de360f11ec",
       "version_major": 2,
       "version_minor": 0
      },
      "text/plain": [
       "Training: 0it [00:00, ?it/s]"
      ]
     },
     "metadata": {},
     "output_type": "display_data"
    },
    {
     "data": {
      "application/vnd.jupyter.widget-view+json": {
       "model_id": "",
       "version_major": 2,
       "version_minor": 0
      },
      "text/plain": [
       "Validating: 0it [00:00, ?it/s]"
      ]
     },
     "metadata": {},
     "output_type": "display_data"
    },
    {
     "data": {
      "application/vnd.jupyter.widget-view+json": {
       "model_id": "",
       "version_major": 2,
       "version_minor": 0
      },
      "text/plain": [
       "Validating: 0it [00:00, ?it/s]"
      ]
     },
     "metadata": {},
     "output_type": "display_data"
    },
    {
     "data": {
      "application/vnd.jupyter.widget-view+json": {
       "model_id": "",
       "version_major": 2,
       "version_minor": 0
      },
      "text/plain": [
       "Validating: 0it [00:00, ?it/s]"
      ]
     },
     "metadata": {},
     "output_type": "display_data"
    },
    {
     "data": {
      "application/vnd.jupyter.widget-view+json": {
       "model_id": "",
       "version_major": 2,
       "version_minor": 0
      },
      "text/plain": [
       "Validating: 0it [00:00, ?it/s]"
      ]
     },
     "metadata": {},
     "output_type": "display_data"
    },
    {
     "data": {
      "application/vnd.jupyter.widget-view+json": {
       "model_id": "",
       "version_major": 2,
       "version_minor": 0
      },
      "text/plain": [
       "Validating: 0it [00:00, ?it/s]"
      ]
     },
     "metadata": {},
     "output_type": "display_data"
    },
    {
     "data": {
      "application/vnd.jupyter.widget-view+json": {
       "model_id": "",
       "version_major": 2,
       "version_minor": 0
      },
      "text/plain": [
       "Validating: 0it [00:00, ?it/s]"
      ]
     },
     "metadata": {},
     "output_type": "display_data"
    },
    {
     "data": {
      "application/vnd.jupyter.widget-view+json": {
       "model_id": "",
       "version_major": 2,
       "version_minor": 0
      },
      "text/plain": [
       "Validating: 0it [00:00, ?it/s]"
      ]
     },
     "metadata": {},
     "output_type": "display_data"
    },
    {
     "data": {
      "application/vnd.jupyter.widget-view+json": {
       "model_id": "",
       "version_major": 2,
       "version_minor": 0
      },
      "text/plain": [
       "Validating: 0it [00:00, ?it/s]"
      ]
     },
     "metadata": {},
     "output_type": "display_data"
    },
    {
     "data": {
      "application/vnd.jupyter.widget-view+json": {
       "model_id": "",
       "version_major": 2,
       "version_minor": 0
      },
      "text/plain": [
       "Validating: 0it [00:00, ?it/s]"
      ]
     },
     "metadata": {},
     "output_type": "display_data"
    },
    {
     "data": {
      "application/vnd.jupyter.widget-view+json": {
       "model_id": "",
       "version_major": 2,
       "version_minor": 0
      },
      "text/plain": [
       "Validating: 0it [00:00, ?it/s]"
      ]
     },
     "metadata": {},
     "output_type": "display_data"
    },
    {
     "data": {
      "application/vnd.jupyter.widget-view+json": {
       "model_id": "",
       "version_major": 2,
       "version_minor": 0
      },
      "text/plain": [
       "Validating: 0it [00:00, ?it/s]"
      ]
     },
     "metadata": {},
     "output_type": "display_data"
    },
    {
     "data": {
      "application/vnd.jupyter.widget-view+json": {
       "model_id": "",
       "version_major": 2,
       "version_minor": 0
      },
      "text/plain": [
       "Validating: 0it [00:00, ?it/s]"
      ]
     },
     "metadata": {},
     "output_type": "display_data"
    },
    {
     "data": {
      "application/vnd.jupyter.widget-view+json": {
       "model_id": "",
       "version_major": 2,
       "version_minor": 0
      },
      "text/plain": [
       "Validating: 0it [00:00, ?it/s]"
      ]
     },
     "metadata": {},
     "output_type": "display_data"
    },
    {
     "data": {
      "application/vnd.jupyter.widget-view+json": {
       "model_id": "",
       "version_major": 2,
       "version_minor": 0
      },
      "text/plain": [
       "Validating: 0it [00:00, ?it/s]"
      ]
     },
     "metadata": {},
     "output_type": "display_data"
    },
    {
     "data": {
      "application/vnd.jupyter.widget-view+json": {
       "model_id": "",
       "version_major": 2,
       "version_minor": 0
      },
      "text/plain": [
       "Validating: 0it [00:00, ?it/s]"
      ]
     },
     "metadata": {},
     "output_type": "display_data"
    },
    {
     "data": {
      "application/vnd.jupyter.widget-view+json": {
       "model_id": "",
       "version_major": 2,
       "version_minor": 0
      },
      "text/plain": [
       "Validating: 0it [00:00, ?it/s]"
      ]
     },
     "metadata": {},
     "output_type": "display_data"
    },
    {
     "data": {
      "application/vnd.jupyter.widget-view+json": {
       "model_id": "",
       "version_major": 2,
       "version_minor": 0
      },
      "text/plain": [
       "Validating: 0it [00:00, ?it/s]"
      ]
     },
     "metadata": {},
     "output_type": "display_data"
    },
    {
     "data": {
      "application/vnd.jupyter.widget-view+json": {
       "model_id": "",
       "version_major": 2,
       "version_minor": 0
      },
      "text/plain": [
       "Validating: 0it [00:00, ?it/s]"
      ]
     },
     "metadata": {},
     "output_type": "display_data"
    },
    {
     "data": {
      "application/vnd.jupyter.widget-view+json": {
       "model_id": "",
       "version_major": 2,
       "version_minor": 0
      },
      "text/plain": [
       "Validating: 0it [00:00, ?it/s]"
      ]
     },
     "metadata": {},
     "output_type": "display_data"
    },
    {
     "data": {
      "application/vnd.jupyter.widget-view+json": {
       "model_id": "",
       "version_major": 2,
       "version_minor": 0
      },
      "text/plain": [
       "Validating: 0it [00:00, ?it/s]"
      ]
     },
     "metadata": {},
     "output_type": "display_data"
    },
    {
     "data": {
      "application/vnd.jupyter.widget-view+json": {
       "model_id": "",
       "version_major": 2,
       "version_minor": 0
      },
      "text/plain": [
       "Validating: 0it [00:00, ?it/s]"
      ]
     },
     "metadata": {},
     "output_type": "display_data"
    },
    {
     "data": {
      "application/vnd.jupyter.widget-view+json": {
       "model_id": "",
       "version_major": 2,
       "version_minor": 0
      },
      "text/plain": [
       "Validating: 0it [00:00, ?it/s]"
      ]
     },
     "metadata": {},
     "output_type": "display_data"
    },
    {
     "data": {
      "application/vnd.jupyter.widget-view+json": {
       "model_id": "",
       "version_major": 2,
       "version_minor": 0
      },
      "text/plain": [
       "Validating: 0it [00:00, ?it/s]"
      ]
     },
     "metadata": {},
     "output_type": "display_data"
    },
    {
     "data": {
      "application/vnd.jupyter.widget-view+json": {
       "model_id": "",
       "version_major": 2,
       "version_minor": 0
      },
      "text/plain": [
       "Validating: 0it [00:00, ?it/s]"
      ]
     },
     "metadata": {},
     "output_type": "display_data"
    },
    {
     "data": {
      "application/vnd.jupyter.widget-view+json": {
       "model_id": "",
       "version_major": 2,
       "version_minor": 0
      },
      "text/plain": [
       "Validating: 0it [00:00, ?it/s]"
      ]
     },
     "metadata": {},
     "output_type": "display_data"
    },
    {
     "data": {
      "application/vnd.jupyter.widget-view+json": {
       "model_id": "",
       "version_major": 2,
       "version_minor": 0
      },
      "text/plain": [
       "Validating: 0it [00:00, ?it/s]"
      ]
     },
     "metadata": {},
     "output_type": "display_data"
    },
    {
     "data": {
      "application/vnd.jupyter.widget-view+json": {
       "model_id": "",
       "version_major": 2,
       "version_minor": 0
      },
      "text/plain": [
       "Validating: 0it [00:00, ?it/s]"
      ]
     },
     "metadata": {},
     "output_type": "display_data"
    },
    {
     "data": {
      "application/vnd.jupyter.widget-view+json": {
       "model_id": "",
       "version_major": 2,
       "version_minor": 0
      },
      "text/plain": [
       "Validating: 0it [00:00, ?it/s]"
      ]
     },
     "metadata": {},
     "output_type": "display_data"
    },
    {
     "data": {
      "application/vnd.jupyter.widget-view+json": {
       "model_id": "",
       "version_major": 2,
       "version_minor": 0
      },
      "text/plain": [
       "Validating: 0it [00:00, ?it/s]"
      ]
     },
     "metadata": {},
     "output_type": "display_data"
    },
    {
     "data": {
      "application/vnd.jupyter.widget-view+json": {
       "model_id": "",
       "version_major": 2,
       "version_minor": 0
      },
      "text/plain": [
       "Validating: 0it [00:00, ?it/s]"
      ]
     },
     "metadata": {},
     "output_type": "display_data"
    }
   ],
   "source": [
    "t = sl.SwyftTrainer(accelerator = 'gpu', gpus=1, max_epochs = 30)\n",
    "t.fit(r, d)"
   ]
  },
  {
   "cell_type": "code",
   "execution_count": 11,
   "id": "78bd318d-4e38-4cf3-84a5-29009ddd5fad",
   "metadata": {},
   "outputs": [
    {
     "name": "stderr",
     "output_type": "stream",
     "text": [
      "LOCAL_RANK: 0 - CUDA_VISIBLE_DEVICES: [0]\n",
      "/home/weniger/miniconda3/envs/p38/lib/python3.8/site-packages/pytorch_lightning/trainer/data_loading.py:132: UserWarning: The dataloader, test_dataloader 0, does not have many workers which may be a bottleneck. Consider increasing the value of the `num_workers` argument` (try 24 which is the number of cpus on this machine) in the `DataLoader` init to improve performance.\n",
      "  rank_zero_warn(\n"
     ]
    },
    {
     "data": {
      "application/vnd.jupyter.widget-view+json": {
       "model_id": "02e679e363064017bc797dde7b1bc8f9",
       "version_major": 2,
       "version_minor": 0
      },
      "text/plain": [
       "Testing: 0it [00:00, ?it/s]"
      ]
     },
     "metadata": {},
     "output_type": "display_data"
    },
    {
     "name": "stdout",
     "output_type": "stream",
     "text": [
      "--------------------------------------------------------------------------------\n",
      "DATALOADER:0 TEST RESULTS\n",
      "{'hp/JS-div': 1.5385677814483643, 'hp/KL-div': -6.279937267303467}\n",
      "--------------------------------------------------------------------------------\n"
     ]
    },
    {
     "data": {
      "text/plain": [
       "[{'hp/JS-div': 1.5385677814483643, 'hp/KL-div': -6.279937267303467}]"
      ]
     },
     "execution_count": 11,
     "metadata": {},
     "output_type": "execute_result"
    }
   ],
   "source": [
    "t.test(r, d)"
   ]
  },
  {
   "cell_type": "code",
   "execution_count": 12,
   "id": "5caa6c98-0fb8-4e6b-a923-837d7dc499d0",
   "metadata": {},
   "outputs": [
    {
     "name": "stderr",
     "output_type": "stream",
     "text": [
      "LOCAL_RANK: 0 - CUDA_VISIBLE_DEVICES: [0]\n",
      "/home/weniger/miniconda3/envs/p38/lib/python3.8/site-packages/pytorch_lightning/trainer/data_loading.py:132: UserWarning: The dataloader, predict_dataloader 0, does not have many workers which may be a bottleneck. Consider increasing the value of the `num_workers` argument` (try 24 which is the number of cpus on this machine) in the `DataLoader` init to improve performance.\n",
      "  rank_zero_warn(\n"
     ]
    },
    {
     "data": {
      "application/vnd.jupyter.widget-view+json": {
       "model_id": "ea388cc0e8564abf950edd1e78547db1",
       "version_major": 2,
       "version_minor": 0
      },
      "text/plain": [
       "Predicting: 125it [00:00, ?it/s]"
      ]
     },
     "metadata": {},
     "output_type": "display_data"
    },
    {
     "data": {
      "text/plain": [
       "{'z': RatioSamples(values=tensor([[0.5891, 0.4321, 0.0355],\n",
       "         [0.3243, 0.2568, 0.0443],\n",
       "         [0.2520, 0.4151, 0.4496],\n",
       "         ...,\n",
       "         [0.7312, 0.5683, 0.1254],\n",
       "         [0.7866, 0.2162, 0.2050],\n",
       "         [0.2644, 0.1550, 0.4171]]), ratios=tensor([[ -5.4465,   3.0897, -34.4117],\n",
       "         [-17.2475, -14.7515, -32.7098],\n",
       "         [-21.2518,   2.3596, -22.7513],\n",
       "         ...,\n",
       "         [-18.3723, -12.4535, -18.6121],\n",
       "         [-20.7750, -17.5404, -12.5767],\n",
       "         [-20.7174, -21.5438, -18.9978]]), metadata={})}"
      ]
     },
     "execution_count": 12,
     "metadata": {},
     "output_type": "execute_result"
    }
   ],
   "source": [
    "p = t.infer(r, d, condition_x = s0)   # Weighted posterior samples\n",
    "p"
   ]
  },
  {
   "cell_type": "code",
   "execution_count": 13,
   "id": "dd92f72a-6b68-4d73-a449-7d6b830d05e3",
   "metadata": {},
   "outputs": [
    {
     "data": {
      "text/plain": [
       "{'z': tensor([[0.5041, 0.4351, 0.2948],\n",
       "         [0.4855, 0.4654, 0.2774],\n",
       "         [0.4896, 0.4182, 0.2819],\n",
       "         ...,\n",
       "         [0.4988, 0.4221, 0.3044],\n",
       "         [0.5162, 0.4211, 0.2746],\n",
       "         [0.5132, 0.4308, 0.3012]])}"
      ]
     },
     "execution_count": 13,
     "metadata": {},
     "output_type": "execute_result"
    }
   ],
   "source": [
    "ps = p.sample(10000)\n",
    "ps"
   ]
  },
  {
   "cell_type": "code",
   "execution_count": 14,
   "id": "b2264fae-271a-41ac-b40b-75d1a45f6100",
   "metadata": {},
   "outputs": [
    {
     "data": {
      "text/plain": [
       "{'z': RectangleBound(low=tensor([0.3967, 0.3084, 0.2260]), high=tensor([0.6284, 0.5461, 0.3598]))}"
      ]
     },
     "execution_count": 14,
     "metadata": {},
     "output_type": "execute_result"
    }
   ],
   "source": [
    "b = sl.get_1d_rect_bounds(p, th = 1e-6)\n",
    "b"
   ]
  },
  {
   "cell_type": "code",
   "execution_count": 17,
   "id": "a61cd796-368f-4901-ac6a-1f5eeac857f2",
   "metadata": {},
   "outputs": [
    {
     "data": {
      "text/plain": [
       "<matplotlib.lines.Line2D at 0x145e173c9910>"
      ]
     },
     "execution_count": 17,
     "metadata": {},
     "output_type": "execute_result"
    },
    {
     "data": {
      "image/png": "[encoded data removed]",
      "text/plain": [
       "<Figure size 432x288 with 1 Axes>"
      ]
     },
     "metadata": {
      "needs_background": "light"
     },
     "output_type": "display_data"
    }
   ],
   "source": [
    "z = ps['z']\n",
    "z0 = s0['z']\n",
    "plt.hist(z[:,0].numpy(), bins = 20, density=True);\n",
    "plt.hist(z[:,1].numpy(), bins = 20, density = True);\n",
    "plt.hist(z[:,2].numpy(), bins = 20, density = True);\n",
    "plt.axvline(z0[0], color='k')\n",
    "plt.axvline(z0[1], color='k')\n",
    "plt.axvline(z0[2], color='k')"
   ]
  },
  {
   "cell_type": "code",
   "execution_count": null,
   "id": "faef2f12-e388-47a1-90c9-f8f4145fe7c1",
   "metadata": {},
   "outputs": [],
   "source": []
  }
 ],
 "metadata": {
  "kernelspec": {
   "display_name": "p38",
   "language": "python",
   "name": "p38"
  },
  "language_info": {
   "codemirror_mode": {
    "name": "ipython",
    "version": 3
   },
   "file_extension": ".py",
   "mimetype": "text/x-python",
   "name": "python",
   "nbconvert_exporter": "python",
   "pygments_lexer": "ipython3",
   "version": "3.8.2"
  }
 },
 "nbformat": 4,
 "nbformat_minor": 5
}
