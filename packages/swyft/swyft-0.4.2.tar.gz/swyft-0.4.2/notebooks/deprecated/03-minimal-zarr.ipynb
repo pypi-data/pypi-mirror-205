{
 "cells": [
  {
   "cell_type": "code",
   "execution_count": 1,
   "id": "3822aac4-d5eb-4979-b237-70c80d2489e8",
   "metadata": {},
   "outputs": [],
   "source": [
    "%load_ext autoreload\n",
    "%autoreload 2"
   ]
  },
  {
   "cell_type": "code",
   "execution_count": 2,
   "id": "0297c907",
   "metadata": {},
   "outputs": [],
   "source": [
    "import pylab as plt\n",
    "import numpy as np\n",
    "import torch\n",
    "import swyft"
   ]
  },
  {
   "cell_type": "code",
   "execution_count": 3,
   "id": "3a33282b-84ef-4429-9420-3e49a3c8ff69",
   "metadata": {},
   "outputs": [],
   "source": [
    "class Simulator(swyft.Simulator):\n",
    "    def __init__(self, bounds = None):\n",
    "        super().__init__()\n",
    "        self.on_after_forward = swyft.to_numpy32\n",
    "        \n",
    "    def forward(self, trace):\n",
    "        z = trace.sample('z', np.random.rand, 3)\n",
    "        x = trace.sample('x', lambda z: z + np.random.randn(3)*0.02, z)"
   ]
  },
  {
   "cell_type": "code",
   "execution_count": 4,
   "id": "3e6dc7e9-ff0a-479d-a4e8-fd8025717327",
   "metadata": {},
   "outputs": [],
   "source": [
    "class Network(swyft.SwyftModule):\n",
    "    def __init__(self):\n",
    "        super().__init__(lr=1e-3)\n",
    "        self.classifier = swyft.RatioEstimatorMLP1d(3, 3, hidden_features = 256, dropout = 0.1)\n",
    "        \n",
    "    def forward(self, x, z):\n",
    "        x = x['x']\n",
    "        z = z['z']\n",
    "        ratios_z = self.classifier(x, z)\n",
    "        return dict(z = ratios_z)"
   ]
  },
  {
   "cell_type": "code",
   "execution_count": 5,
   "id": "7f8852a3-5429-4a4a-8b71-728d0aa2d801",
   "metadata": {},
   "outputs": [],
   "source": [
    "simulator = Simulator()\n",
    "noise_hook = simulator.get_resampler(['x'])"
   ]
  },
  {
   "cell_type": "code",
   "execution_count": 6,
   "id": "a95a8ee6-56b5-4155-8a04-91df7ca0c232",
   "metadata": {},
   "outputs": [
    {
     "name": "stdout",
     "output_type": "stream",
     "text": [
      "WARNING: Already initialized.\n"
     ]
    }
   ],
   "source": [
    "shapes, dtypes = simulator.get_shapes_and_dtypes()\n",
    "zs = swyft.ZarrStore(\"./03-minimal-zarr.zarr\")\n",
    "zs.init(10000, 32, shapes = shapes, dtypes = dtypes)\n",
    "zs.simulate(simulator, batch_size = 500)"
   ]
  },
  {
   "cell_type": "code",
   "execution_count": 7,
   "id": "bf3fe4a9-0023-4ac6-b18b-3dc20f3704ba",
   "metadata": {},
   "outputs": [],
   "source": [
    "dl_train = zs.get_dataloader(num_workers = 3, batch_size = 128, on_after_load_sample = noise_hook, idx_range = [0, 9000])\n",
    "dl_valid = zs.get_dataloader(num_workers = 3, batch_size = 128, on_after_load_sample = noise_hook, idx_range = [9000, 10000])"
   ]
  },
  {
   "cell_type": "code",
   "execution_count": 8,
   "id": "5683ce37-a8d0-4ed7-94a6-512ccc7babcb",
   "metadata": {},
   "outputs": [
    {
     "name": "stderr",
     "output_type": "stream",
     "text": [
      "GPU available: True, used: True\n",
      "TPU available: False, using: 0 TPU cores\n",
      "IPU available: False, using: 0 IPUs\n"
     ]
    }
   ],
   "source": [
    "trainer = swyft.SwyftTrainer(accelerator = 'gpu', gpus=1, max_epochs = 3, **swyft.tensorboard_config(name = '01-minimal-example', version=None))"
   ]
  },
  {
   "cell_type": "code",
   "execution_count": 9,
   "id": "c5811d37-d10b-49e8-a8ed-1e6d43caefa4",
   "metadata": {},
   "outputs": [],
   "source": [
    "network = Network()"
   ]
  },
  {
   "cell_type": "code",
   "execution_count": 10,
   "id": "41f7765b-45b8-4684-b820-4f75c9719857",
   "metadata": {},
   "outputs": [
    {
     "name": "stderr",
     "output_type": "stream",
     "text": [
      "LOCAL_RANK: 0 - CUDA_VISIBLE_DEVICES: [0]\n",
      "\n",
      "  | Name       | Type                | Params\n",
      "---------------------------------------------------\n",
      "0 | classifier | RatioEstimatorMLP1d | 800 K \n",
      "---------------------------------------------------\n",
      "800 K     Trainable params\n",
      "0         Non-trainable params\n",
      "800 K     Total params\n",
      "3.201     Total estimated model params size (MB)\n"
     ]
    },
    {
     "name": "stdout",
     "output_type": "stream",
     "text": [
      "Epoch 0: : 69it [00:01, 53.78it/s, loss=-2.97, v_num=1]               \n",
      "Validating: 0it [00:00, ?it/s]\u001b[A\n",
      "Validating: 0it [00:00, ?it/s]\u001b[A\n",
      "Epoch 0: : 76it [00:01, 46.04it/s, loss=-2.97, v_num=1, val_loss=-2.76]\n",
      "Epoch 1: : 69it [00:01, 56.72it/s, loss=-3.04, v_num=1, val_loss=-2.76]\n",
      "Validating: 0it [00:00, ?it/s]\u001b[A\n",
      "Validating: 0it [00:00, ?it/s]\u001b[A\n",
      "Epoch 1: : 76it [00:01, 49.16it/s, loss=-3.04, v_num=1, val_loss=-2.98]\n",
      "Epoch 2: : 69it [00:01, 60.11it/s, loss=-3.15, v_num=1, val_loss=-2.98]\n",
      "Validating: 0it [00:00, ?it/s]\u001b[A\n",
      "Validating: 0it [00:00, ?it/s]\u001b[A\n",
      "Epoch 2: : 76it [00:01, 48.42it/s, loss=-3.15, v_num=1, val_loss=-3.08]\n",
      "Epoch 2: : 77it [00:01, 47.58it/s, loss=-3.15, v_num=1, val_loss=-3.08]\n"
     ]
    }
   ],
   "source": [
    "trainer.fit(network, dl_train, dl_valid)"
   ]
  },
  {
   "cell_type": "code",
   "execution_count": 11,
   "id": "4f676eec-c465-4940-9d7b-6dc584f837f1",
   "metadata": {},
   "outputs": [
    {
     "name": "stderr",
     "output_type": "stream",
     "text": [
      "Restoring states from the checkpoint path at ./lightning_logs/01-minimal-example/version_1/checkpoints/epoch=2-step=206.ckpt\n",
      "LOCAL_RANK: 0 - CUDA_VISIBLE_DEVICES: [0]\n",
      "Loaded model weights from checkpoint at ./lightning_logs/01-minimal-example/version_1/checkpoints/epoch=2-step=206.ckpt\n"
     ]
    },
    {
     "name": "stdout",
     "output_type": "stream",
     "text": [
      "Testing: 1it [00:00,  3.54it/s]--------------------------------------------------------------------------------\n",
      "DATALOADER:0 TEST RESULTS\n",
      "{'hp/JS-div': -3.0239827632904053, 'hp/KL-div': -6.544938564300537}\n",
      "--------------------------------------------------------------------------------\n",
      "Testing: 7it [00:00, 18.89it/s]\n"
     ]
    },
    {
     "data": {
      "text/plain": [
       "[{'hp/JS-div': -3.0239827632904053, 'hp/KL-div': -6.544938564300537}]"
      ]
     },
     "execution_count": 11,
     "metadata": {},
     "output_type": "execute_result"
    }
   ],
   "source": [
    "trainer.test(network, dl_valid, ckpt_path = 'best')"
   ]
  },
  {
   "cell_type": "code",
   "execution_count": 12,
   "id": "f4d8547c-5bf6-4517-9280-85019b89274a",
   "metadata": {},
   "outputs": [
    {
     "name": "stderr",
     "output_type": "stream",
     "text": [
      "100%|██████████| 1000000/1000000 [00:10<00:00, 91241.25it/s]\n"
     ]
    }
   ],
   "source": [
    "x0 = [0.3, 0.5, 0.7]\n",
    "prior_samples = simulator(1000000, targets = ['z'])"
   ]
  },
  {
   "cell_type": "code",
   "execution_count": 13,
   "id": "11290da0-374b-417d-a58c-c9a9cea4155e",
   "metadata": {},
   "outputs": [
    {
     "name": "stderr",
     "output_type": "stream",
     "text": [
      "LOCAL_RANK: 0 - CUDA_VISIBLE_DEVICES: [0]\n"
     ]
    },
    {
     "name": "stdout",
     "output_type": "stream",
     "text": [
      "Predicting:   8%|▊         | 76/977 [00:00<00:12, 69.66it/s]"
     ]
    },
    {
     "name": "stderr",
     "output_type": "stream",
     "text": [
      "/home/weniger/miniconda3b/envs/zero/lib/python3.9/site-packages/pytorch_lightning/loops/epoch/prediction_epoch_loop.py:174: UserWarning: Lightning couldn't infer the indices fetched for your dataloader.\n",
      "  warning_cache.warn(\"Lightning couldn't infer the indices fetched for your dataloader.\")\n"
     ]
    },
    {
     "name": "stdout",
     "output_type": "stream",
     "text": [
      "Predicting: 100%|██████████| 977/977 [00:15<00:00, 58.81it/s]\n"
     ]
    }
   ],
   "source": [
    "predictions = trainer.infer(network, {'x': torch.tensor(x0)}, prior_samples.get_dataloader(batch_size = 1024))"
   ]
  },
  {
   "cell_type": "code",
   "execution_count": 14,
   "id": "6336f6ed-72c2-4c60-a7f1-af53efa243e2",
   "metadata": {},
   "outputs": [],
   "source": [
    "post_samples = predictions.sample(100000)"
   ]
  },
  {
   "cell_type": "code",
   "execution_count": 15,
   "id": "dbab5ad8-52d4-4932-a93c-989b59663e63",
   "metadata": {},
   "outputs": [
    {
     "name": "stdout",
     "output_type": "stream",
     "text": [
      "0.019565418\n",
      "0.022611797\n",
      "0.020936947\n"
     ]
    },
    {
     "data": {
      "image/png": "[encoded data removed]",
      "text/plain": [
       "<Figure size 432x288 with 1 Axes>"
      ]
     },
     "metadata": {
      "needs_background": "light"
     },
     "output_type": "display_data"
    }
   ],
   "source": [
    "import pylab as plt\n",
    "for i in range(3):\n",
    "    s = post_samples['z'][:,i].numpy()\n",
    "    print(s.std())\n",
    "    plt.hist(s, bins = 50, density=True);\n",
    "    plt.axvline(x0[i], color='r')"
   ]
  },
  {
   "cell_type": "code",
   "execution_count": null,
   "id": "8f9e0227-c0d4-465f-abc8-216c3f387745",
   "metadata": {},
   "outputs": [],
   "source": []
  }
 ],
 "metadata": {
  "kernelspec": {
   "display_name": "Python 3",
   "language": "python",
   "name": "python3"
  },
  "language_info": {
   "codemirror_mode": {
    "name": "ipython",
    "version": 3
   },
   "file_extension": ".py",
   "mimetype": "text/x-python",
   "name": "python",
   "nbconvert_exporter": "python",
   "pygments_lexer": "ipython3",
   "version": "3.9.7"
  }
 },
 "nbformat": 4,
 "nbformat_minor": 5
}
