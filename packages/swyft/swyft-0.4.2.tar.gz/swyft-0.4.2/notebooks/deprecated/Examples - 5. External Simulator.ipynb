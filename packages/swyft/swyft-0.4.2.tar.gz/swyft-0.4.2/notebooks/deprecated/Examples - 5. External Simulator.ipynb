{
 "cells": [
  {
   "cell_type": "markdown",
   "metadata": {
    "id": "NLcCZoN9Ln9X"
   },
   "source": [
    "# Using an External simulator\n",
    "\n",
    "As demonstrated in the `Quickstart` notebook, `SWYFT`, of course, enables the user to define a simulator for use in the inferrence problem. Importantly, however, `SWYFT` also enables the user to employ *any* simulator callable from the command line.\n",
    "This ensures that users can employ the simulators they are familiar with without having to worry about implementation etc.\n",
    "\n",
    "In this notebook, based on the `Quickstart` example, we demonstrate the use of an external simulator.\n",
    "\n",
    "NB: Here we demonstrate the use of `SWYFT`'s command line based simuulator invocation. The user can of course also write a python wraper to the simulator in question."
   ]
  },
  {
   "cell_type": "code",
   "execution_count": 1,
   "metadata": {},
   "outputs": [],
   "source": [
    "%load_ext autoreload\n",
    "%autoreload 2"
   ]
  },
  {
   "cell_type": "code",
   "execution_count": 2,
   "metadata": {
    "colab": {
     "base_uri": "https://localhost:8080/"
    },
    "id": "MZGCjgra6z91",
    "outputId": "c4ff1c92-2ec3-496d-f539-b3a9e742c6bf"
   },
   "outputs": [],
   "source": [
    "# DON'T FORGET TO ACTIVATE THE GPU when on google colab (Edit > Notebook settings)\n",
    "from os import environ\n",
    "GOOGLE_COLAB = True if \"COLAB_GPU\" in environ else False\n",
    "if GOOGLE_COLAB:\n",
    "    !pip install git+https://github.com/undark-lab/swyft.git"
   ]
  },
  {
   "cell_type": "code",
   "execution_count": 3,
   "metadata": {
    "id": "F4qPfUYOE0YY"
   },
   "outputs": [],
   "source": [
    "import numpy as np\n",
    "import torch\n",
    "import pylab as plt\n",
    "import os\n",
    "\n",
    "import swyft"
   ]
  },
  {
   "cell_type": "code",
   "execution_count": 4,
   "metadata": {
    "id": "DgK78OA5FKVt"
   },
   "outputs": [],
   "source": [
    "# Set randomness\n",
    "np.random.seed(25)\n",
    "torch.manual_seed(25)\n",
    "\n",
    "# cwd\n",
    "cwd = os.getcwd()\n",
    "\n",
    "# swyft\n",
    "device = 'cpu'\n",
    "n_training_samples = 100\n",
    "n_parameters = 2\n",
    "observation_key = \"x\""
   ]
  },
  {
   "cell_type": "markdown",
   "metadata": {
    "id": "ZwOn4DGBPm4H"
   },
   "source": [
    "## Set input ... \n",
    "\n",
    "In order to make use of en external simulator called frrom the command line, the user must specify a function to setup the simulator input. It should take one input argument (the array with the input parameters), and return any input to be passed to the program via `stdin`. If the simulator requires any input files to be present, this function should write these to disk."
   ]
  },
  {
   "cell_type": "code",
   "execution_count": 5,
   "metadata": {
    "id": "meSdtS2NFVLN"
   },
   "outputs": [],
   "source": [
    "def set_input(v):\n",
    "    v0 = v[0]\n",
    "    v1 = v[1]\n",
    "    v_str = str(v0).strip()+' '+str(v1).strip()\n",
    "    return v_str"
   ]
  },
  {
   "cell_type": "markdown",
   "metadata": {
    "id": "fqeKigcaRA0F"
   },
   "source": [
    "## ... output methods ...\n",
    "\n",
    "Analogously, the user must define a function to retrieve results from the simulator output. It should take two input arguments (stdout and stderr of the simulator run) and return a dictionary with the simulator output shaped as described by the ``sim_shapes`` argument. If the simulator writes output to disk, this function **should** parse the results from the file(s)."
   ]
  },
  {
   "cell_type": "code",
   "execution_count": 6,
   "metadata": {
    "id": "JOchVbJBFw4W"
   },
   "outputs": [],
   "source": [
    "def get_output(stdout,stderr):\n",
    "    try:\n",
    "        if not stderr :      \n",
    "            x0,x1 = stdout.split(\" \")\n",
    "            x0 = float(x0.strip())\n",
    "            x1 = float(x1.strip())\n",
    "            x = np.array([x0,x1])\n",
    "            return dict(x=x)\n",
    "\n",
    "        else:\n",
    "            raise('simulator returned on stderr')\n",
    "\n",
    "    except:\n",
    "        raise('Error in output retrieval')\n"
   ]
  },
  {
   "cell_type": "markdown",
   "metadata": {
    "id": "6ir01ri0TdTp"
   },
   "source": [
    "## ... and invocation\n",
    "\n",
    "Here we use the cell magic `%%writefile` command to create an external python function `randgauss.py` containing the simulator defined as `model` in the Quickstart notebook. This function is then invoked from the command line.\n"
   ]
  },
  {
   "cell_type": "code",
   "execution_count": 7,
   "metadata": {
    "colab": {
     "base_uri": "https://localhost:8080/"
    },
    "id": "-0TkpX7P8XZ7",
    "outputId": "f35a4a66-7a58-4540-bd5a-0d53f0457a2b"
   },
   "outputs": [
    {
     "name": "stdout",
     "output_type": "stream",
     "text": [
      "Overwriting randgauss.py\n"
     ]
    }
   ],
   "source": [
    " %%writefile randgauss.py \n",
    "#!/usr/bin/env python\n",
    "\n",
    "import numpy as np\n",
    "import sys\n",
    "\n",
    "\n",
    "\n",
    "def rgmodel(v,sigma=0.05):\n",
    "    x = v + np.random.randn(2)*sigma\n",
    "    return x\n",
    "\n",
    "def main():\n",
    "    sigma = None\n",
    "    args = sys.stdin.readline()\n",
    "    arg1, arg2 = args.split(' ')\n",
    "    try:\n",
    "        v0 = float(arg1.rstrip())\n",
    "        v1 = float(arg2.rstrip())\n",
    "        \n",
    "    except:\n",
    "        raise()\n",
    "\n",
    "    v = np.array([v0,v1])\n",
    "\n",
    "    if sigma is not None:\n",
    "        x = rgmodel(v,sigma=sigma)\n",
    "    else:\n",
    "        x = rgmodel(v)\n",
    "\n",
    "    print(str(x[0]).strip()+' '+str(x[1]).strip())\n",
    "\n",
    "\n",
    "\n",
    "if __name__ == \"__main__\":\n",
    "    main()\n",
    "\n"
   ]
  },
  {
   "cell_type": "markdown",
   "metadata": {
    "id": "rinQChPm-z0s"
   },
   "source": [
    "It is up to the user to ensure adaquate permissions for all relevant files. "
   ]
  },
  {
   "cell_type": "code",
   "execution_count": 8,
   "metadata": {
    "id": "zG4JzXJGHdjL"
   },
   "outputs": [],
   "source": [
    "!chmod 755 randgauss.py\n",
    "command = cwd+'/randgauss.py'"
   ]
  },
  {
   "cell_type": "markdown",
   "metadata": {
    "id": "yr7TL_K5U5tx"
   },
   "source": [
    "\n",
    "And to ensure that the root temporary directory in which the simulator is run exists.   Each instance of the simulator will run in a separate sub-folder."
   ]
  },
  {
   "cell_type": "code",
   "execution_count": 9,
   "metadata": {
    "id": "GJ68rUrWVAox"
   },
   "outputs": [],
   "source": [
    "!mkdir -p ./tmp"
   ]
  },
  {
   "cell_type": "markdown",
   "metadata": {
    "id": "neqLDwl_Yn3j"
   },
   "source": [
    "## Defining the simulator\n",
    "The simulator itslef can then be defined using the `from_command()` method of the `Simulator` class."
   ]
  },
  {
   "cell_type": "code",
   "execution_count": 10,
   "metadata": {
    "id": "esZz6kEvF0YJ"
   },
   "outputs": [],
   "source": [
    "simulator = swyft.Simulator.from_command(\n",
    "    command=command,\n",
    "    parameter_names=[\"x0\",\"x1\"],\n",
    "    sim_shapes=dict(x=(n_parameters,)),\n",
    "    set_input_method=set_input,\n",
    "    get_output_method=get_output,\n",
    "    tmpdir=cwd+'/tmp/',\n",
    "    shell = False\n",
    ")"
   ]
  },
  {
   "cell_type": "markdown",
   "metadata": {
    "id": "kOPuy_TpCfpe"
   },
   "source": [
    "**PLEASE NOTE**\n",
    "\n",
    "The `from_command()` method of the `Simulator` class makes use of the `subprocess` module to execute a command line program or function. \n",
    "\n",
    "As for the `subprocess` module, the `shell` keyword is set to `False` by default. In some cases, the user may, however, want to execute their program or function via the shell, enabling the invocation and use of different environments, as well as featuures such as shell pipes, filename wildcards, environment variable expansion, and expansion of ~ to a user’s home directory.\n",
    "\n",
    "This can be achived by setting `shell = True` in the `from_command()` method. \n",
    "\n",
    "We do, however, encourage the user to be aware of the security [considerations](https://docs.python.org/3/library/subprocess.html#security-considerations) connected to the use of `shell = True` in the `subprocess` module."
   ]
  },
  {
   "cell_type": "markdown",
   "metadata": {
    "id": "YKHtt5Yyay_W"
   },
   "source": [
    "The remaining workflow is identical to that described in `Quickstart.ipynb`"
   ]
  },
  {
   "cell_type": "code",
   "execution_count": 11,
   "metadata": {
    "colab": {
     "base_uri": "https://localhost:8080/"
    },
    "id": "UacXvEWiKjhe",
    "outputId": "c0654083-6f57-4597-8d0d-a0531553ab81"
   },
   "outputs": [
    {
     "name": "stdout",
     "output_type": "stream",
     "text": [
      "Creating new store.\n"
     ]
    }
   ],
   "source": [
    "store = swyft.Store.memory_store(simulator)"
   ]
  },
  {
   "cell_type": "code",
   "execution_count": 12,
   "metadata": {
    "id": "XftJuS8J7oJ5"
   },
   "outputs": [
    {
     "name": "stdout",
     "output_type": "stream",
     "text": [
      "Store: Adding 115 new samples to simulator store.\n"
     ]
    }
   ],
   "source": [
    "low = -1 * np.ones(n_parameters)\n",
    "high = 1 * np.ones(n_parameters)\n",
    "prior = swyft.get_uniform_prior(low, high)\n",
    "\n",
    "# drawing samples from the store is Poisson distributed. Simulating slightly more than we need avoids attempting to draw more than we have.\n",
    "store.add(n_training_samples + 0.02 * n_training_samples, prior)\n",
    "store.simulate()"
   ]
  },
  {
   "cell_type": "code",
   "execution_count": 13,
   "metadata": {
    "id": "hUwq6-Q6YWw8"
   },
   "outputs": [],
   "source": [
    "dataset = swyft.Dataset(n_training_samples, prior, store)"
   ]
  },
  {
   "cell_type": "markdown",
   "metadata": {},
   "source": [
    "The store / dataset is populated with samples drawn from an external simulator."
   ]
  },
  {
   "cell_type": "code",
   "execution_count": 14,
   "metadata": {},
   "outputs": [
    {
     "name": "stdout",
     "output_type": "stream",
     "text": [
      "113\n"
     ]
    }
   ],
   "source": [
    "print(len(dataset))"
   ]
  },
  {
   "cell_type": "code",
   "execution_count": null,
   "metadata": {},
   "outputs": [],
   "source": []
  }
 ],
 "metadata": {
  "colab": {
   "collapsed_sections": [],
   "name": "Examples - 4. External Simulator.ipynb",
   "provenance": []
  },
  "kernelspec": {
   "display_name": "Python 3 (ipykernel)",
   "language": "python",
   "name": "python3"
  },
  "language_info": {
   "codemirror_mode": {
    "name": "ipython",
    "version": 3
   },
   "file_extension": ".py",
   "mimetype": "text/x-python",
   "name": "python",
   "nbconvert_exporter": "python",
   "pygments_lexer": "ipython3",
   "version": "3.8.11"
  },
  "nteract": {
   "version": "0.28.0"
  }
 },
 "nbformat": 4,
 "nbformat_minor": 4
}
