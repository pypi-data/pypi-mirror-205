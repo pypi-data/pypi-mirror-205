{
 "cells": [
  {
   "cell_type": "code",
   "execution_count": 1,
   "id": "3822aac4-d5eb-4979-b237-70c80d2489e8",
   "metadata": {},
   "outputs": [],
   "source": [
    "%load_ext autoreload\n",
    "%autoreload 2"
   ]
  },
  {
   "cell_type": "code",
   "execution_count": 2,
   "id": "0297c907",
   "metadata": {},
   "outputs": [],
   "source": [
    "import pylab as plt\n",
    "import numpy as np\n",
    "import torch\n",
    "import swyft"
   ]
  },
  {
   "cell_type": "code",
   "execution_count": 3,
   "id": "370c159f-de20-4a20-8c9d-72902c3e05fe",
   "metadata": {},
   "outputs": [],
   "source": [
    "class Simulator(swyft.Simulator):\n",
    "    def __init__(self, bounds = None):\n",
    "        super().__init__()\n",
    "        self.on_after_forward = swyft.to_numpy32\n",
    "        \n",
    "    def forward(self, trace):\n",
    "        z = trace.sample('z', np.random.rand, 3)\n",
    "        mu = trace.sample(\"mu\", lambda z: np.array([z[0], z[0]+z[1], z[0]+z[1]+z[2]]), z)\n",
    "        x = trace.sample('x', lambda mu: mu + np.random.randn(3)*0.02, mu)"
   ]
  },
  {
   "cell_type": "code",
   "execution_count": 4,
   "id": "3e6dc7e9-ff0a-479d-a4e8-fd8025717327",
   "metadata": {},
   "outputs": [],
   "source": [
    "class Network(swyft.SwyftModule):\n",
    "    def __init__(self):\n",
    "        super().__init__(lr=1e-3)\n",
    "        marginals = ((0, 1, 2),)\n",
    "        self.classifier = swyft.RatioEstimatorMLPnd(3, marginals, hidden_features = 256, dropout = 0.1)\n",
    "\n",
    "    def forward(self, A, B):\n",
    "        x = A['x']\n",
    "        z = B['z']\n",
    "        ratios_z = self.classifier(x, z)\n",
    "        return dict(z = ratios_z)"
   ]
  },
  {
   "cell_type": "code",
   "execution_count": 5,
   "id": "ae869371-5e0c-4433-a183-776ae7d8fb1b",
   "metadata": {},
   "outputs": [
    {
     "name": "stderr",
     "output_type": "stream",
     "text": [
      "100%|██████████| 10000/10000 [00:00<00:00, 29527.45it/s]\n"
     ]
    }
   ],
   "source": [
    "simulator = Simulator()\n",
    "samples = simulator(10000)"
   ]
  },
  {
   "cell_type": "code",
   "execution_count": 6,
   "id": "f77353b8-042b-4408-bab3-84f7e59def92",
   "metadata": {},
   "outputs": [],
   "source": [
    "dl_train = samples[:8000].get_dataloader(batch_size = 128, shuffle = True)\n",
    "dl_valid = samples[8000:9000].get_dataloader(batch_size = 128)\n",
    "dl_test = samples[9000:].get_dataloader(batch_size = 128)"
   ]
  },
  {
   "cell_type": "code",
   "execution_count": 7,
   "id": "5683ce37-a8d0-4ed7-94a6-512ccc7babcb",
   "metadata": {},
   "outputs": [
    {
     "name": "stderr",
     "output_type": "stream",
     "text": [
      "GPU available: True, used: True\n",
      "TPU available: False, using: 0 TPU cores\n",
      "IPU available: False, using: 0 IPUs\n"
     ]
    }
   ],
   "source": [
    "trainer = swyft.SwyftTrainer(accelerator = 'gpu', gpus=1, max_epochs = 100, **swyft.tensorboard_config(name = '05-minimal-example-m-dim', version=None))"
   ]
  },
  {
   "cell_type": "code",
   "execution_count": 8,
   "id": "c5811d37-d10b-49e8-a8ed-1e6d43caefa4",
   "metadata": {},
   "outputs": [],
   "source": [
    "network = Network()"
   ]
  },
  {
   "cell_type": "code",
   "execution_count": 9,
   "id": "41f7765b-45b8-4684-b820-4f75c9719857",
   "metadata": {},
   "outputs": [
    {
     "name": "stderr",
     "output_type": "stream",
     "text": [
      "LOCAL_RANK: 0 - CUDA_VISIBLE_DEVICES: [0]\n",
      "\n",
      "  | Name       | Type                | Params\n",
      "---------------------------------------------------\n",
      "0 | classifier | RatioEstimatorMLPnd | 267 K \n",
      "---------------------------------------------------\n",
      "267 K     Trainable params\n",
      "0         Non-trainable params\n",
      "267 K     Total params\n",
      "1.069     Total estimated model params size (MB)\n"
     ]
    },
    {
     "name": "stdout",
     "output_type": "stream",
     "text": [
      "Validation sanity check:   0%|          | 0/2 [00:00<?, ?it/s]"
     ]
    },
    {
     "name": "stderr",
     "output_type": "stream",
     "text": [
      "/home/weniger/miniconda3b/envs/zero/lib/python3.9/site-packages/pytorch_lightning/trainer/data_loading.py:132: UserWarning: The dataloader, val_dataloader 0, does not have many workers which may be a bottleneck. Consider increasing the value of the `num_workers` argument` (try 24 which is the number of cpus on this machine) in the `DataLoader` init to improve performance.\n",
      "  rank_zero_warn(\n"
     ]
    },
    {
     "name": "stdout",
     "output_type": "stream",
     "text": [
      "                                                                      "
     ]
    },
    {
     "name": "stderr",
     "output_type": "stream",
     "text": [
      "/home/weniger/miniconda3b/envs/zero/lib/python3.9/site-packages/pytorch_lightning/trainer/data_loading.py:132: UserWarning: The dataloader, train_dataloader, does not have many workers which may be a bottleneck. Consider increasing the value of the `num_workers` argument` (try 24 which is the number of cpus on this machine) in the `DataLoader` init to improve performance.\n",
      "  rank_zero_warn(\n"
     ]
    },
    {
     "name": "stdout",
     "output_type": "stream",
     "text": [
      "Epoch 0:  89%|████████▊ | 63/71 [00:00<00:00, 95.28it/s, loss=-1.32, v_num=1]   \n",
      "Validating: 0it [00:00, ?it/s]\u001b[A\n",
      "Epoch 0: 100%|██████████| 71/71 [00:00<00:00, 101.93it/s, loss=-1.32, v_num=1, val_loss=-.949]\n",
      "Epoch 1:  89%|████████▊ | 63/71 [00:00<00:00, 92.31it/s, loss=-1.3, v_num=1, val_loss=-.949]  \n",
      "Validating: 0it [00:00, ?it/s]\u001b[A\n",
      "Epoch 1: 100%|██████████| 71/71 [00:00<00:00, 97.83it/s, loss=-1.3, v_num=1, val_loss=-.848]\n",
      "Epoch 2:  89%|████████▊ | 63/71 [00:00<00:00, 95.43it/s, loss=-1.34, v_num=1, val_loss=-.848] \n",
      "Validating: 0it [00:00, ?it/s]\u001b[A\n",
      "Epoch 2: 100%|██████████| 71/71 [00:00<00:00, 101.72it/s, loss=-1.34, v_num=1, val_loss=1.200]\n",
      "Epoch 3:  89%|████████▊ | 63/71 [00:00<00:00, 95.12it/s, loss=-1.36, v_num=1, val_loss=1.200] \n",
      "Validating: 0it [00:00, ?it/s]\u001b[A\n",
      "Epoch 3: 100%|██████████| 71/71 [00:00<00:00, 100.53it/s, loss=-1.36, v_num=1, val_loss=-1.11]\n",
      "Epoch 4:  89%|████████▊ | 63/71 [00:00<00:00, 96.77it/s, loss=-1.36, v_num=1, val_loss=-1.11] \n",
      "Validating: 0it [00:00, ?it/s]\u001b[A\n",
      "Epoch 4: 100%|██████████| 71/71 [00:00<00:00, 103.65it/s, loss=-1.36, v_num=1, val_loss=-1.30]\n",
      "Epoch 5:  89%|████████▊ | 63/71 [00:00<00:00, 91.78it/s, loss=-1.35, v_num=1, val_loss=-1.30] \n",
      "Validating: 0it [00:00, ?it/s]\u001b[A\n",
      "Epoch 5: 100%|██████████| 71/71 [00:00<00:00, 98.66it/s, loss=-1.35, v_num=1, val_loss=-1.33]\n",
      "Epoch 6:  89%|████████▊ | 63/71 [00:00<00:00, 97.42it/s, loss=-1.35, v_num=1, val_loss=-1.33]\n",
      "Validating: 0it [00:00, ?it/s]\u001b[A\n",
      "Epoch 6: 100%|██████████| 71/71 [00:00<00:00, 104.51it/s, loss=-1.35, v_num=1, val_loss=-1.33]\n",
      "Epoch 7:  89%|████████▊ | 63/71 [00:00<00:00, 91.84it/s, loss=-1.34, v_num=1, val_loss=-1.33] \n",
      "Validating: 0it [00:00, ?it/s]\u001b[A\n",
      "Epoch 7: 100%|██████████| 71/71 [00:00<00:00, 98.96it/s, loss=-1.34, v_num=1, val_loss=-1.15]\n",
      "Epoch 8:  89%|████████▊ | 63/71 [00:00<00:00, 96.72it/s, loss=-1.32, v_num=1, val_loss=-1.15] \n",
      "Validating: 0it [00:00, ?it/s]\u001b[A\n",
      "Epoch 8: 100%|██████████| 71/71 [00:00<00:00, 103.73it/s, loss=-1.32, v_num=1, val_loss=-.696]\n",
      "Epoch 8: 100%|██████████| 71/71 [00:00<00:00, 102.59it/s, loss=-1.32, v_num=1, val_loss=-.696]\n"
     ]
    }
   ],
   "source": [
    "trainer.fit(network, dl_train, dl_valid)"
   ]
  },
  {
   "cell_type": "code",
   "execution_count": 10,
   "id": "4f676eec-c465-4940-9d7b-6dc584f837f1",
   "metadata": {},
   "outputs": [
    {
     "name": "stderr",
     "output_type": "stream",
     "text": [
      "LOCAL_RANK: 0 - CUDA_VISIBLE_DEVICES: [0]\n",
      "/home/weniger/miniconda3b/envs/zero/lib/python3.9/site-packages/pytorch_lightning/trainer/data_loading.py:132: UserWarning: The dataloader, test_dataloader 0, does not have many workers which may be a bottleneck. Consider increasing the value of the `num_workers` argument` (try 24 which is the number of cpus on this machine) in the `DataLoader` init to improve performance.\n",
      "  rank_zero_warn(\n"
     ]
    },
    {
     "name": "stdout",
     "output_type": "stream",
     "text": [
      "Testing: 0it [00:00, ?it/s]--------------------------------------------------------------------------------\n",
      "DATALOADER:0 TEST RESULTS\n",
      "{'hp/JS-div': -0.6877778768539429, 'hp/KL-div': -2.5519611835479736}\n",
      "--------------------------------------------------------------------------------\n",
      "Testing: 100%|██████████| 8/8 [00:00<00:00, 198.25it/s]\n"
     ]
    },
    {
     "data": {
      "text/plain": [
       "[{'hp/JS-div': -0.6877778768539429, 'hp/KL-div': -2.5519611835479736}]"
      ]
     },
     "execution_count": 10,
     "metadata": {},
     "output_type": "execute_result"
    }
   ],
   "source": [
    "trainer.test(network, dl_test)"
   ]
  },
  {
   "cell_type": "code",
   "execution_count": 11,
   "id": "78f4faa3-cc21-42de-ac99-e87bc6c09887",
   "metadata": {},
   "outputs": [
    {
     "name": "stderr",
     "output_type": "stream",
     "text": [
      "100%|██████████| 1000000/1000000 [00:11<00:00, 85229.06it/s]\n"
     ]
    }
   ],
   "source": [
    "x0 = [0.3, 0.5, 0.7]\n",
    "prior_samples = simulator(1000000, targets = ['z'])"
   ]
  },
  {
   "cell_type": "code",
   "execution_count": 12,
   "id": "4ae531b0-3a9d-4640-b250-af4fe6f7153e",
   "metadata": {},
   "outputs": [
    {
     "name": "stderr",
     "output_type": "stream",
     "text": [
      "LOCAL_RANK: 0 - CUDA_VISIBLE_DEVICES: [0]\n"
     ]
    },
    {
     "name": "stdout",
     "output_type": "stream",
     "text": [
      "Predicting:   8%|▊         | 83/977 [00:00<00:04, 199.08it/s]"
     ]
    },
    {
     "name": "stderr",
     "output_type": "stream",
     "text": [
      "/home/weniger/miniconda3b/envs/zero/lib/python3.9/site-packages/pytorch_lightning/loops/epoch/prediction_epoch_loop.py:174: UserWarning: Lightning couldn't infer the indices fetched for your dataloader.\n",
      "  warning_cache.warn(\"Lightning couldn't infer the indices fetched for your dataloader.\")\n"
     ]
    },
    {
     "name": "stdout",
     "output_type": "stream",
     "text": [
      "Predicting: 100%|██████████| 977/977 [00:05<00:00, 176.87it/s]\n"
     ]
    }
   ],
   "source": [
    "predictions = trainer.infer(network, {'x': torch.tensor(x0)}, prior_samples.get_dataloader(batch_size = 1024))"
   ]
  },
  {
   "cell_type": "code",
   "execution_count": 13,
   "id": "6336f6ed-72c2-4c60-a7f1-af53efa243e2",
   "metadata": {},
   "outputs": [],
   "source": [
    "post_samples = predictions.sample(100000)\n",
    "z = post_samples['z'][:,0,:].numpy()"
   ]
  },
  {
   "cell_type": "code",
   "execution_count": 14,
   "id": "8f9e0227-c0d4-465f-abc8-216c3f387745",
   "metadata": {},
   "outputs": [
    {
     "data": {
      "image/png": "[encoded data removed]",
      "text/plain": [
       "<Figure size 432x288 with 1 Axes>"
      ]
     },
     "metadata": {
      "needs_background": "light"
     },
     "output_type": "display_data"
    }
   ],
   "source": [
    "plt.hist2d(z[:,0], z[:,1], density = True, bins = 30);"
   ]
  },
  {
   "cell_type": "code",
   "execution_count": 15,
   "id": "afb02e35-c02b-4dfb-881c-4bd1171fe80a",
   "metadata": {},
   "outputs": [
    {
     "data": {
      "image/png": "[encoded data removed]",
      "text/plain": [
       "<Figure size 432x288 with 1 Axes>"
      ]
     },
     "metadata": {
      "needs_background": "light"
     },
     "output_type": "display_data"
    }
   ],
   "source": [
    "plt.hist2d(z[:,0], z[:,2], density = True, bins = 30);"
   ]
  },
  {
   "cell_type": "code",
   "execution_count": 16,
   "id": "bf0d1ad0-8852-4c3a-9453-30761a470d5d",
   "metadata": {},
   "outputs": [
    {
     "data": {
      "image/png": "[encoded data removed]",
      "text/plain": [
       "<Figure size 432x288 with 1 Axes>"
      ]
     },
     "metadata": {
      "needs_background": "light"
     },
     "output_type": "display_data"
    }
   ],
   "source": [
    "plt.hist2d(z[:,1], z[:,2], density = True, bins = 30);"
   ]
  }
 ],
 "metadata": {
  "kernelspec": {
   "display_name": "Python 3",
   "language": "python",
   "name": "python3"
  },
  "language_info": {
   "codemirror_mode": {
    "name": "ipython",
    "version": 3
   },
   "file_extension": ".py",
   "mimetype": "text/x-python",
   "name": "python",
   "nbconvert_exporter": "python",
   "pygments_lexer": "ipython3",
   "version": "3.9.7"
  }
 },
 "nbformat": 4,
 "nbformat_minor": 5
}
