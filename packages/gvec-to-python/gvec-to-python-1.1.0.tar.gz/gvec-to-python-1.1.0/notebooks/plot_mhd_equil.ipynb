{
 "cells": [
  {
   "cell_type": "code",
   "execution_count": null,
   "metadata": {},
   "outputs": [],
   "source": [
    "import os\n",
    "import numpy as np\n",
    "from gvec_to_python.reader.gvec_reader import create_GVEC_json\n",
    "from gvec_to_python import GVEC\n",
    "import gvec_to_python as _\n",
    "from matplotlib import pyplot as plt\n",
    "from mpl_toolkits.mplot3d import axes3d\n",
    "\n",
    "# give absolute paths to the files\n",
    "\n",
    "pkg_path = _.__path__[0]\n",
    "print('package path:', pkg_path)\n",
    "#gvec_file='testcases/ellipstell/newBC_E1D6_M6N6/GVEC_ELLIPSTELL_E1D6_M6N6_State_0000_00200000'\n",
    "gvec_file='testcases/ellipstell/newBC_E4D6_M6N6/GVEC_ELLIPSTELL_E4D6_M6N6_State_0001_00200000'\n",
    "\n",
    "dat_file_in   = os.path.join(pkg_path, gvec_file+'.dat')\n",
    "json_file_out = os.path.join(pkg_path, gvec_file+'.json')\n",
    "\n",
    "create_GVEC_json(dat_file_in, json_file_out)\n",
    "\n",
    "# main object (one without, the other one with pyccel kernels)\n",
    "gvec = GVEC(json_file_out,unit_tor_domain=\"one-fp\",use_pyccel=True)"
   ]
  },
  {
   "cell_type": "markdown",
   "metadata": {},
   "source": [
    "# Plot profiles"
   ]
  },
  {
   "cell_type": "code",
   "execution_count": null,
   "metadata": {},
   "outputs": [],
   "source": [
    "s = np.linspace(0, 1, 100)\n",
    "\n",
    "fig = plt.figure(figsize=(13, 10))\n",
    "\n",
    "# toroidal flux\n",
    "ax = fig.add_subplot(2, 2, 1)\n",
    "ax.plot(s, gvec.profiles.profile(s, name='phi'))\n",
    "ax.set_xlabel('s')\n",
    "ax.set_ylabel('$\\Phi(s)$')\n",
    "ax.set_title('Toroidal flux')\n",
    "\n",
    "# poloidal flux\n",
    "ax = fig.add_subplot(2, 2, 2)\n",
    "ax.plot(s, gvec.profiles.profile(s, name='chi'))\n",
    "ax.set_xlabel('s')\n",
    "ax.set_ylabel('$\\chi(s)$')\n",
    "ax.set_title('Poloidal flux')\n",
    "\n",
    "# iota\n",
    "ax = fig.add_subplot(2, 2, 3)\n",
    "ax.plot(s, gvec.profiles.profile(s, name='iota'))\n",
    "ax.set_xlabel('s')\n",
    "ax.set_ylabel('$\\iota(s)$')\n",
    "ax.set_title('Iota')\n",
    "\n",
    "# pressure\n",
    "ax = fig.add_subplot(2, 2, 4)\n",
    "ax.plot(s, gvec.profiles.profile(s, name='pressure'))\n",
    "ax.set_xlabel('s')\n",
    "ax.set_ylabel('$p(s)$')\n",
    "ax.set_title('Pressure')"
   ]
  },
  {
   "cell_type": "markdown",
   "metadata": {},
   "source": [
    "# Poloidal geometry"
   ]
  },
  {
   "cell_type": "code",
   "execution_count": null,
   "metadata": {},
   "outputs": [],
   "source": [
    "\n",
    "def get_uvfac(mapping):\n",
    "    '''Depending on the mapping, gives back the factor for u in [0,1] (either 1 or 2pi) \n",
    "       and v in[0,1] scaled to always represent one field period'''\n",
    "    if(mapping=='unit' or mapping=='unit_pest'):\n",
    "        ufac=1.\n",
    "        # 'unit' mapping can include a tor_fraction. We want to always visualize one field period.\n",
    "        vfac = 1./(gvec.domain.tor_fraction*gvec.nfp)\n",
    "    else: #'gvec',\"wo_hmap\",'pest'\n",
    "        ufac=2*np.pi\n",
    "        vfac=2*np.pi/gvec.nfp\n",
    "    return ufac,vfac\n"
   ]
  },
  {
   "cell_type": "code",
   "execution_count": null,
   "metadata": {},
   "outputs": [],
   "source": [
    "gvec.mapping = 'gvec' # use the mapping setter\n",
    "\n",
    "n_planes = 4 \n",
    "s = np.linspace(0, 1, 20) # radial coordinate in [0, 1]\n",
    "ufac,vfac=get_uvfac(gvec.mapping) # compute factors to always visualize one field period\n",
    "a1 = np.linspace(0, 1*ufac, 39) # poloidal angle in [0, 1]\n",
    "a2 = np.linspace(0, 1*vfac, n_planes,endpoint=False) \n",
    "\n",
    "x, y, z = gvec.f(s, a1, a2)"
   ]
  },
  {
   "cell_type": "code",
   "execution_count": null,
   "metadata": {},
   "outputs": [],
   "source": [
    "fig = plt.figure(figsize=(13, np.ceil(n_planes/2) * 6.5))\n",
    "\n",
    "# poloidal plane grid\n",
    "for n in range(a2.size):\n",
    "    if(gvec.mapping==\"wo_hmap\"):\n",
    "        rp = x[:, :, n].squeeze()\n",
    "        zp = y[:, :, n].squeeze()\n",
    "    else:\n",
    "        xp = x[:, :, n].squeeze()\n",
    "        yp = y[:, :, n].squeeze()\n",
    "        zp = z[:, :, n].squeeze()\n",
    "\n",
    "        rp = np.sqrt(xp**2 + yp**2)\n",
    "    \n",
    "\n",
    "    ax = fig.add_subplot(int(np.ceil(n_planes/2)), 2, n + 1)\n",
    "    for i in range(rp.shape[0]):\n",
    "        for j in range(rp.shape[1] - 1):\n",
    "            if i < rp.shape[0] - 1:\n",
    "                ax.plot([rp[i, j], rp[i + 1, j]], [zp[i, j], zp[i + 1, j]], 'b', linewidth=.6)\n",
    "            if j < rp.shape[1] - 1:\n",
    "                ax.plot([rp[i, j], rp[i, j + 1]], [zp[i, j], zp[i, j + 1]], 'b', linewidth=.6)\n",
    "    ax.set_xlabel('R')\n",
    "    ax.set_ylabel('Z')\n",
    "    ax.axis('equal')\n",
    "    ax.set_title('Poloidal plane at $\\\\zeta$={0:4.3f} $\\pi$'.format(a2[n]/vfac*2/gvec.nfp))"
   ]
  },
  {
   "cell_type": "markdown",
   "metadata": {},
   "source": [
    "# Jacobian determinant"
   ]
  },
  {
   "cell_type": "code",
   "execution_count": null,
   "metadata": {},
   "outputs": [],
   "source": [
    "gvec.mapping = 'gvec' # use the mapping setter\n",
    "\n",
    "n_planes = 4 \n",
    "s = np.linspace(0, 1, 20) # radial coordinate in [0, 1]\n",
    "ufac,vfac=get_uvfac(gvec.mapping) # compute factors to always visualize one field period\n",
    "u = np.linspace(0, 1*ufac, 49) # poloidal angle \n",
    "v = np.linspace(0, 1*vfac, n_planes,endpoint=False) #toroidal angle\n",
    "\n",
    "x, y, z = gvec.f(s, u, v)\n",
    "det_df  = gvec.det_df(s, u, v)"
   ]
  },
  {
   "cell_type": "code",
   "execution_count": null,
   "metadata": {},
   "outputs": [],
   "source": [
    "fig = plt.figure(figsize=(13, np.ceil(n_planes/2) * 6.5))\n",
    "\n",
    "# poloidal plane grid\n",
    "for n in range(v.size):\n",
    "\n",
    "    xp = x[:, :, n].squeeze()\n",
    "    yp = y[:, :, n].squeeze()\n",
    "    zp = z[:, :, n].squeeze()\n",
    "\n",
    "    rp = np.sqrt(xp**2 + yp**2)\n",
    "\n",
    "    detp = det_df[:, :, n].squeeze()\n",
    "\n",
    "    ax = fig.add_subplot(int(np.ceil(n_planes/2)), 2, n + 1)\n",
    "    map = ax.contourf(rp, zp, detp, 30)\n",
    "    ax.set_xlabel('R')\n",
    "    ax.set_ylabel('Z')\n",
    "    ax.axis('equal')\n",
    "    ax.set_title('Jacobian determinant at $\\\\zeta$={0:4.3f} $\\pi$'.format(v[n]/vfac*2/gvec.nfp))\n",
    "    fig.colorbar(map, ax=ax, location='right')"
   ]
  },
  {
   "cell_type": "markdown",
   "metadata": {},
   "source": [
    "# Top view"
   ]
  },
  {
   "cell_type": "code",
   "execution_count": null,
   "metadata": {},
   "outputs": [],
   "source": [
    "gvec.mapping = 'unit' # use the mapping setter\n",
    "\n",
    "s = np.linspace(0, 1, 20) # radial coordinate in [0, 1]\n",
    "u = np.linspace(0, 1, 3) # poloidal angle in [0, 1]\n",
    "v = np.linspace(0, 1, 69) # toroidal angle in [0, 1]\n",
    "\n",
    "x, y, z = gvec.f(s, u, v)"
   ]
  },
  {
   "cell_type": "code",
   "execution_count": null,
   "metadata": {},
   "outputs": [],
   "source": [
    "fig = plt.figure(figsize=(13, 2 * 6.5))\n",
    "ax = fig.add_subplot()\n",
    "\n",
    "# poloidal plane grid\n",
    "for m in range(2):\n",
    "\n",
    "    xp = x[:, m, :].squeeze()\n",
    "    yp = y[:, m, :].squeeze()\n",
    "    zp = z[:, m, :].squeeze()\n",
    "\n",
    "    for i in range(xp.shape[0]):\n",
    "        for j in range(xp.shape[1] - 1):\n",
    "            if i < xp.shape[0] - 1:\n",
    "                ax.plot([xp[i, j], xp[i + 1, j]], [yp[i, j], yp[i + 1, j]], 'b', linewidth=.6)\n",
    "            if j < xp.shape[1] - 1:\n",
    "                if i == 0:\n",
    "                    ax.plot([xp[i, j], xp[i, j + 1]], [yp[i, j], yp[i, j + 1]], 'r', linewidth=1)\n",
    "                else:\n",
    "                    ax.plot([xp[i, j], xp[i, j + 1]], [yp[i, j], yp[i, j + 1]], 'b', linewidth=.6)\n",
    "    ax.set_xlabel('x')\n",
    "    ax.set_ylabel('y')\n",
    "    ax.axis('equal')\n",
    "    ax.set_title('Stellarator top view')"
   ]
  },
  {
   "cell_type": "markdown",
   "metadata": {},
   "source": [
    "# Pressure"
   ]
  },
  {
   "cell_type": "code",
   "execution_count": null,
   "metadata": {},
   "outputs": [],
   "source": [
    "gvec.mapping = 'unit' # use the mapping setter\n",
    "\n",
    "n_planes = 4\n",
    "s = np.linspace(0, 1, 20) # radial coordinate in [0, 1]\n",
    "ufac,vfac=get_uvfac(gvec.mapping) # compute factors to always visualize one field period\n",
    "u = np.linspace(0, 1*ufac, 49) # poloidal angle \n",
    "v = np.linspace(0, 1*vfac, n_planes,endpoint=False) #toroidal angle\n",
    "\n",
    "p, xyz = gvec.p_cart(s, u, v)"
   ]
  },
  {
   "cell_type": "code",
   "execution_count": null,
   "metadata": {},
   "outputs": [],
   "source": [
    "fig = plt.figure(figsize=(15, np.ceil(n_planes/2) * 6.5))\n",
    "\n",
    "# poloidal plane grid\n",
    "for n in range(v.size):\n",
    "\n",
    "    xp = xyz[0][:, :, n].squeeze()\n",
    "    yp = xyz[1][:, :, n].squeeze()\n",
    "    zp = xyz[2][:, :, n].squeeze()\n",
    "\n",
    "    rp = np.sqrt(xp**2 + yp**2)\n",
    "\n",
    "    pp = p[:, :, n].squeeze()\n",
    "\n",
    "    ax = fig.add_subplot(int(np.ceil(n_planes/2)), 2, n + 1)\n",
    "    map = ax.contourf(rp, zp, pp, 30)\n",
    "    ax.set_xlabel('R')\n",
    "    ax.set_ylabel('Z')\n",
    "    ax.axis('equal')\n",
    "    ax.set_title('Pressure at $\\\\zeta$={0:4.3f} $\\pi$'.format(v[n]/vfac * 2 / gvec.nfp))\n",
    "    fig.colorbar(map, ax=ax, location='right')"
   ]
  },
  {
   "cell_type": "markdown",
   "metadata": {},
   "source": [
    "# Magnetic field"
   ]
  },
  {
   "cell_type": "code",
   "execution_count": null,
   "metadata": {},
   "outputs": [],
   "source": [
    "gvec.mapping = 'gvec' # use the mapping setter\n",
    "\n",
    "n_planes = 4\n",
    "s = np.linspace(0.0001, 1, 13) # radial coordinate in [0, 1]\n",
    "ufac,vfac=get_uvfac(gvec.mapping) # compute factors to always visualize one field period\n",
    "u = np.linspace(0, 1*ufac, 49) # poloidal angle \n",
    "v = np.linspace(0, 1*vfac, n_planes,endpoint=False) #toroidal angle\n",
    "\n",
    "b, xyz = gvec.b_cart(s, u, v)\n",
    "\n",
    "df = gvec.df(s,u,v)\n",
    "if(gvec.mapping==\"wo_hmap\"):\n",
    "    abs_b = np.sqrt(b[0]**2 + b[1]**2 + xyz[0]**2*b[2]**2)\n",
    "else:\n",
    "    abs_b = np.sqrt(b[0]**2 + b[1]**2 + b[2]**2)\n",
    "\n",
    "print(abs_b.shape)"
   ]
  },
  {
   "cell_type": "code",
   "execution_count": null,
   "metadata": {},
   "outputs": [],
   "source": [
    "fig = plt.figure(figsize=(15, np.ceil(n_planes/2) * 6.5))\n",
    "\n",
    "for n in range(v.size):\n",
    "\n",
    "    if(gvec.mapping==\"wo_hmap\"):\n",
    "        rp = xyz[0][:, :, n].squeeze()\n",
    "        zp = xyz[1][:, :, n].squeeze()\n",
    "    else:\n",
    "        xp = xyz[0][:, :, n].squeeze()\n",
    "        yp = xyz[1][:, :, n].squeeze()\n",
    "        zp = xyz[2][:, :, n].squeeze()\n",
    "\n",
    "        rp = np.sqrt(xp**2 + yp**2)\n",
    "\n",
    "    ab = abs_b[:, :, n].squeeze()\n",
    "\n",
    "    ax = fig.add_subplot(int(np.ceil(n_planes/2)), 2, n + 1)\n",
    "    map = ax.contourf(rp, zp, ab, 30)\n",
    "    ax.set_xlabel('R')\n",
    "    ax.set_ylabel('Z')\n",
    "    ax.axis('equal')\n",
    "    ax.set_title('Magnetic field strength at $\\\\zeta$={0:4.3f} $\\pi$'.format(v[n]/vfac * 2 / gvec.nfp))\n",
    "    fig.colorbar(map, ax=ax, location='right')"
   ]
  },
  {
   "cell_type": "code",
   "execution_count": null,
   "metadata": {},
   "outputs": [],
   "source": [
    "fig = plt.figure(figsize=(13, np.ceil(n_planes/2) * 6.5))\n",
    "\n",
    "for n in range(v.size):\n",
    "\n",
    "\n",
    "    xp = xyz[0][:, :, n].squeeze()\n",
    "    yp = xyz[1][:, :, n].squeeze()\n",
    "    zp = xyz[2][:, :, n].squeeze()\n",
    "\n",
    "    # plot theta derivative of mapping, \n",
    "    dxdu = df[:, :, n,0,1].squeeze()\n",
    "    dydu = df[:, :, n,1,1].squeeze()\n",
    "    dzdu = df[:, :, n,2,1].squeeze()\n",
    "\n",
    "    zeta = 2*np.pi/ gvec.nfp *v[n]/vfac\n",
    "\n",
    "    drdu = dxdu*np.cos(zeta) - dydu*np.sin(zeta)\n",
    "\n",
    "\n",
    "\n",
    "    ax = fig.add_subplot(int(np.ceil(n_planes/2)), 2, n + 1)\n",
    "    ax.quiver(rp, zp, drdu, dzdu, scale=20)\n",
    "    ax.set_xlabel('R')\n",
    "    ax.set_ylabel('Z')\n",
    "    ax.axis('equal')\n",
    "    ax.set_title('Theta derivative of mapping at $\\\\zeta$={0:4.3f} $\\pi$'.format(v[n] * 2 / gvec.domain.nfp))\n",
    "    #fig.colorbar(map, ax=ax, location='right')"
   ]
  },
  {
   "cell_type": "markdown",
   "metadata": {},
   "source": [
    "# Current density"
   ]
  },
  {
   "cell_type": "code",
   "execution_count": null,
   "metadata": {},
   "outputs": [],
   "source": [
    "def bcart(s,th,ze):\n",
    "    b,x=gvec.b_cart(s,th,ze)\n",
    "    return b\n",
    "\n",
    "def jcart_FD(s,th,ze):\n",
    "    eps=1.0e-8\n",
    "    b_cart = bcart(s,th,ze)\n",
    "    b_cart_s_eps   = bcart(s+eps,th,ze)\n",
    "    b_cart_th_eps  = bcart(s,th+eps,ze)\n",
    "    b_cart_ze_eps  = bcart(s,th,ze+eps)\n",
    "    gradb=np.zeros((3,3))\n",
    "    for d in [0,1,2]:\n",
    "        b_ds =(b_cart_s_eps[d] -b_cart[d])/eps\n",
    "        b_dth=(b_cart_th_eps[d]-b_cart[d])/eps\n",
    "        b_dze=(b_cart_ze_eps[d]-b_cart[d])/eps\n",
    "        gradb[d] = gvec.df_inv(s,th,ze).T@np.array([b_ds,b_dth,b_dze])\n",
    "    j_cart_FD=np.zeros(3)\n",
    "    for d in [0,1,2]:\n",
    "        j_cart_FD[d] = gradb[(d+2)%3][(d+1)%3]-gradb[(d+1)%3][(d+2)%3]\n",
    "    return j_cart_FD\n",
    "\n",
    "gvec.mapping = 'gvec'\n",
    "s,th,ze = [0.49,0.5,0.3]\n",
    "\n",
    "mu0=4.0e-7*np.pi\n",
    "j_ex ,xyz = gvec.j_cart(s, th, ze)\n",
    "j_FD = jcart_FD(s,th,ze)/mu0\n",
    "print('j_FD ',j_FD)\n",
    "print('j_ex',np.array(j_ex))\n",
    "print('j_ex-j_FD',np.array(j_ex)-j_FD)\n",
    "assert(np.allclose(j_ex,j_FD,rtol=1e-6,atol=1e-6/mu0))"
   ]
  },
  {
   "cell_type": "code",
   "execution_count": null,
   "metadata": {},
   "outputs": [],
   "source": [
    "gvec.mapping = 'gvec'\n",
    "\n",
    "n_planes = 4\n",
    "s = np.linspace(0.001, 1, 10) # radial coordinate in [0, 1]\n",
    "ufac,vfac=get_uvfac(gvec.mapping) # compute factors to always visualize one field period\n",
    "u = np.linspace(0, 1*ufac, 49) # poloidal angle \n",
    "v = np.linspace(0, 1*vfac, n_planes,endpoint=False) #toroidal angle\n",
    "\n",
    "j, xyz = gvec.j_cart(s, u, v)\n",
    "\n",
    "abs_j = np.sqrt(j[0]**2 + j[1]**2 + j[2]**2)"
   ]
  },
  {
   "cell_type": "code",
   "execution_count": null,
   "metadata": {},
   "outputs": [],
   "source": [
    "fig = plt.figure(figsize=(15, np.ceil(n_planes/2) * 6.5))\n",
    "\n",
    "for n in range(v.size):\n",
    "\n",
    "    xp = xyz[0][:, :, n].squeeze()\n",
    "    yp = xyz[1][:, :, n].squeeze()\n",
    "    zp = xyz[2][:, :, n].squeeze()\n",
    "\n",
    "    rp = np.sqrt(xp**2 + yp**2)\n",
    "\n",
    "    ab = abs_j[:, :, n].squeeze()\n",
    "\n",
    "    ax = fig.add_subplot(int(np.ceil(n_planes/2)), 2, n + 1)\n",
    "    map = ax.contourf(rp, zp, ab, 30)\n",
    "    ax.set_xlabel('R')\n",
    "    ax.set_ylabel('Z')\n",
    "    ax.axis('equal')\n",
    "    ax.set_title('Current (absolute value) at $\\\\zeta$={0:4.3f} $\\pi$'.format(v[n]/vfac * 2 / gvec.nfp))\n",
    "    fig.colorbar(map, ax=ax, location='right')"
   ]
  },
  {
   "cell_type": "code",
   "execution_count": null,
   "metadata": {},
   "outputs": [],
   "source": [
    "gvec.assert_equil(s, u, v)"
   ]
  },
  {
   "cell_type": "code",
   "execution_count": null,
   "metadata": {},
   "outputs": [],
   "source": [
    "p = gvec.profiles.profile(s, u, v, name='pressure', der=None) \n",
    "p_s = gvec.profiles.profile(s, u, v, name='pressure', der='s') \n",
    "j = gvec.j2(s, u, v)\n",
    "b = gvec.bv(s, u, v)\n",
    "abs_j = np.sqrt(j[0]**2 + j[1]**2 + j[2]**2)\n",
    "abs_b = np.sqrt(b[0]**2 + b[1]**2 + b[2]**2)"
   ]
  },
  {
   "cell_type": "code",
   "execution_count": null,
   "metadata": {},
   "outputs": [],
   "source": [
    "fig = plt.figure(figsize=(15, np.ceil(n_planes/2) * 6.5))\n",
    "\n",
    "ss, uu, vv = gvec.domain.prepare_args(s, u, v, sparse=False)\n",
    "\n",
    "print(ss.shape, uu.shape, vv.shape)\n",
    "\n",
    "comp = 0\n",
    "\n",
    "for n in range(v.size):\n",
    "\n",
    "    sp = ss[:, :, n].squeeze()\n",
    "    up = uu[:, :, n].squeeze()\n",
    "    vp = vv[:, :, n].squeeze()\n",
    "\n",
    "    ji = j[comp][:, :, n].squeeze()\n",
    "\n",
    "    ax = fig.add_subplot(int(np.ceil(n_planes/2)), 2, n + 1)\n",
    "    map = ax.contourf(sp, up, ji, 30)\n",
    "    ax.set_xlabel('s')\n",
    "    ax.set_ylabel('u')\n",
    "    ax.set_title('Current component {1} at $\\\\phi$={0:4.1f} $\\pi$'.format(v[n] * 2 / gvec.domain.nfp, comp))\n",
    "    fig.colorbar(map, ax=ax, location='right')"
   ]
  },
  {
   "cell_type": "code",
   "execution_count": null,
   "metadata": {},
   "outputs": [],
   "source": [
    "fig = plt.figure(figsize=(15, np.ceil(n_planes/2) * 6.5))\n",
    "\n",
    "ss, uu, vv = gvec.domain.prepare_args(s, u, v, sparse=False)\n",
    "\n",
    "print(ss.shape, uu.shape, vv.shape)\n",
    "\n",
    "comp = 0\n",
    "\n",
    "for n in range(v.size):\n",
    "\n",
    "    sp = ss[:, :, n].squeeze()\n",
    "    up = uu[:, :, n].squeeze()\n",
    "    vp = vv[:, :, n].squeeze()\n",
    "\n",
    "    if(comp==0):\n",
    "        fbe = (p_s - (j[1] * b[2] - j[2] * b[1]))[:, :, n].squeeze()\n",
    "    elif(comp==1):\n",
    "        fbe = (j[2] * b[0] - j[0] * b[2])[:, :, n].squeeze()\n",
    "    elif(comp==2):\n",
    "        fbe = (j[0] * b[1] - j[1] * b[0])[:, :, n].squeeze()\n",
    "    ax = fig.add_subplot(int(np.ceil(n_planes/2)), 2, n + 1)\n",
    "    map = ax.contourf(sp, up, fbe, 30)\n",
    "    ax.set_xlabel('s')\n",
    "    ax.set_ylabel('u')\n",
    "    ax.set_title('force balance error in comp {1} at $\\\\zeta$={0:4.1f} $\\pi$'.format(v[n]/vfac * 2 / gvec.nfp, comp))\n",
    "    fig.colorbar(map, ax=ax, location='right')"
   ]
  },
  {
   "cell_type": "code",
   "execution_count": null,
   "metadata": {},
   "outputs": [],
   "source": []
  }
 ],
 "metadata": {
  "kernelspec": {
   "display_name": "Python 3 (ipykernel)",
   "language": "python",
   "name": "python3"
  },
  "language_info": {
   "codemirror_mode": {
    "name": "ipython",
    "version": 3
   },
   "file_extension": ".py",
   "mimetype": "text/x-python",
   "name": "python",
   "nbconvert_exporter": "python",
   "pygments_lexer": "ipython3",
   "version": "3.8.10"
  },
  "vscode": {
   "interpreter": {
    "hash": "2e3dd3b8aae930b0cf67aaa55aa23c15417e1d1f27cc215887027ec35573dcf8"
   }
  }
 },
 "nbformat": 4,
 "nbformat_minor": 2
}
