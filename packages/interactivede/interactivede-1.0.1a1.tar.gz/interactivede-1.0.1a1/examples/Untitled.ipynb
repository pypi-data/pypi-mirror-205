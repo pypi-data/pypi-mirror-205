{
 "cells": [
  {
   "cell_type": "code",
   "execution_count": null,
   "id": "95eac370-391c-4b8e-b5ea-319c85c19a30",
   "metadata": {
    "trrack_graph": "{\"nodes\":{\"1ef7082f-e578-43bc-9930-2c417733484a\":{\"id\":\"1ef7082f-e578-43bc-9930-2c417733484a\",\"label\":\"Root\",\"children\":[],\"level\":0,\"meta\":{\"createdOn\":1678231470646,\"eventType\":\"Root\"},\"state\":{\"type\":\"checkpoint\",\"val\":{\"msg\":\"Hello, World!\",\"interactions\":[]}}}},\"root\":\"1ef7082f-e578-43bc-9930-2c417733484a\",\"current\":\"1ef7082f-e578-43bc-9930-2c417733484a\"}"
   },
   "outputs": [],
   "source": []
  }
 ],
 "metadata": {
  "kernelspec": {
   "display_name": "Python 3 (ipykernel)",
   "language": "python",
   "name": "python3"
  },
  "language_info": {
   "codemirror_mode": {
    "name": "ipython",
    "version": 3
   },
   "file_extension": ".py",
   "mimetype": "text/x-python",
   "name": "python",
   "nbconvert_exporter": "python",
   "pygments_lexer": "ipython3",
   "version": "3.8.16"
  }
 },
 "nbformat": 4,
 "nbformat_minor": 5
}
